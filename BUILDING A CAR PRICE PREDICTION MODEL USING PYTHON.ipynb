{
 "cells": [
  {
   "cell_type": "code",
   "execution_count": 73,
   "id": "7a515d94",
   "metadata": {},
   "outputs": [],
   "source": [
    "import pandas as pd\n",
    "import numpy as np\n",
    "import matplotlib.pyplot as plt\n",
    "import seaborn as sns\n",
    "import plotly.express as py"
   ]
  },
  {
   "cell_type": "code",
   "execution_count": 74,
   "id": "b967e227",
   "metadata": {},
   "outputs": [],
   "source": [
    "df=pd.read_csv(r\"C:\\Users\\mprat\\Downloads\\car data.csv\")"
   ]
  },
  {
   "cell_type": "code",
   "execution_count": 75,
   "id": "e558c955",
   "metadata": {},
   "outputs": [
    {
     "data": {
      "text/html": [
       "<div>\n",
       "<style scoped>\n",
       "    .dataframe tbody tr th:only-of-type {\n",
       "        vertical-align: middle;\n",
       "    }\n",
       "\n",
       "    .dataframe tbody tr th {\n",
       "        vertical-align: top;\n",
       "    }\n",
       "\n",
       "    .dataframe thead th {\n",
       "        text-align: right;\n",
       "    }\n",
       "</style>\n",
       "<table border=\"1\" class=\"dataframe\">\n",
       "  <thead>\n",
       "    <tr style=\"text-align: right;\">\n",
       "      <th></th>\n",
       "      <th>Car_Name</th>\n",
       "      <th>Year</th>\n",
       "      <th>Selling_Price</th>\n",
       "      <th>Present_Price</th>\n",
       "      <th>Driven_kms</th>\n",
       "      <th>Fuel_Type</th>\n",
       "      <th>Selling_type</th>\n",
       "      <th>Transmission</th>\n",
       "      <th>Owner</th>\n",
       "    </tr>\n",
       "  </thead>\n",
       "  <tbody>\n",
       "    <tr>\n",
       "      <th>0</th>\n",
       "      <td>ritz</td>\n",
       "      <td>2014</td>\n",
       "      <td>3.35</td>\n",
       "      <td>5.59</td>\n",
       "      <td>27000</td>\n",
       "      <td>Petrol</td>\n",
       "      <td>Dealer</td>\n",
       "      <td>Manual</td>\n",
       "      <td>0</td>\n",
       "    </tr>\n",
       "    <tr>\n",
       "      <th>1</th>\n",
       "      <td>sx4</td>\n",
       "      <td>2013</td>\n",
       "      <td>4.75</td>\n",
       "      <td>9.54</td>\n",
       "      <td>43000</td>\n",
       "      <td>Diesel</td>\n",
       "      <td>Dealer</td>\n",
       "      <td>Manual</td>\n",
       "      <td>0</td>\n",
       "    </tr>\n",
       "    <tr>\n",
       "      <th>2</th>\n",
       "      <td>ciaz</td>\n",
       "      <td>2017</td>\n",
       "      <td>7.25</td>\n",
       "      <td>9.85</td>\n",
       "      <td>6900</td>\n",
       "      <td>Petrol</td>\n",
       "      <td>Dealer</td>\n",
       "      <td>Manual</td>\n",
       "      <td>0</td>\n",
       "    </tr>\n",
       "    <tr>\n",
       "      <th>3</th>\n",
       "      <td>wagon r</td>\n",
       "      <td>2011</td>\n",
       "      <td>2.85</td>\n",
       "      <td>4.15</td>\n",
       "      <td>5200</td>\n",
       "      <td>Petrol</td>\n",
       "      <td>Dealer</td>\n",
       "      <td>Manual</td>\n",
       "      <td>0</td>\n",
       "    </tr>\n",
       "    <tr>\n",
       "      <th>4</th>\n",
       "      <td>swift</td>\n",
       "      <td>2014</td>\n",
       "      <td>4.60</td>\n",
       "      <td>6.87</td>\n",
       "      <td>42450</td>\n",
       "      <td>Diesel</td>\n",
       "      <td>Dealer</td>\n",
       "      <td>Manual</td>\n",
       "      <td>0</td>\n",
       "    </tr>\n",
       "    <tr>\n",
       "      <th>...</th>\n",
       "      <td>...</td>\n",
       "      <td>...</td>\n",
       "      <td>...</td>\n",
       "      <td>...</td>\n",
       "      <td>...</td>\n",
       "      <td>...</td>\n",
       "      <td>...</td>\n",
       "      <td>...</td>\n",
       "      <td>...</td>\n",
       "    </tr>\n",
       "    <tr>\n",
       "      <th>296</th>\n",
       "      <td>city</td>\n",
       "      <td>2016</td>\n",
       "      <td>9.50</td>\n",
       "      <td>11.60</td>\n",
       "      <td>33988</td>\n",
       "      <td>Diesel</td>\n",
       "      <td>Dealer</td>\n",
       "      <td>Manual</td>\n",
       "      <td>0</td>\n",
       "    </tr>\n",
       "    <tr>\n",
       "      <th>297</th>\n",
       "      <td>brio</td>\n",
       "      <td>2015</td>\n",
       "      <td>4.00</td>\n",
       "      <td>5.90</td>\n",
       "      <td>60000</td>\n",
       "      <td>Petrol</td>\n",
       "      <td>Dealer</td>\n",
       "      <td>Manual</td>\n",
       "      <td>0</td>\n",
       "    </tr>\n",
       "    <tr>\n",
       "      <th>298</th>\n",
       "      <td>city</td>\n",
       "      <td>2009</td>\n",
       "      <td>3.35</td>\n",
       "      <td>11.00</td>\n",
       "      <td>87934</td>\n",
       "      <td>Petrol</td>\n",
       "      <td>Dealer</td>\n",
       "      <td>Manual</td>\n",
       "      <td>0</td>\n",
       "    </tr>\n",
       "    <tr>\n",
       "      <th>299</th>\n",
       "      <td>city</td>\n",
       "      <td>2017</td>\n",
       "      <td>11.50</td>\n",
       "      <td>12.50</td>\n",
       "      <td>9000</td>\n",
       "      <td>Diesel</td>\n",
       "      <td>Dealer</td>\n",
       "      <td>Manual</td>\n",
       "      <td>0</td>\n",
       "    </tr>\n",
       "    <tr>\n",
       "      <th>300</th>\n",
       "      <td>brio</td>\n",
       "      <td>2016</td>\n",
       "      <td>5.30</td>\n",
       "      <td>5.90</td>\n",
       "      <td>5464</td>\n",
       "      <td>Petrol</td>\n",
       "      <td>Dealer</td>\n",
       "      <td>Manual</td>\n",
       "      <td>0</td>\n",
       "    </tr>\n",
       "  </tbody>\n",
       "</table>\n",
       "<p>301 rows × 9 columns</p>\n",
       "</div>"
      ],
      "text/plain": [
       "    Car_Name  Year  Selling_Price  Present_Price  Driven_kms Fuel_Type  \\\n",
       "0       ritz  2014           3.35           5.59       27000    Petrol   \n",
       "1        sx4  2013           4.75           9.54       43000    Diesel   \n",
       "2       ciaz  2017           7.25           9.85        6900    Petrol   \n",
       "3    wagon r  2011           2.85           4.15        5200    Petrol   \n",
       "4      swift  2014           4.60           6.87       42450    Diesel   \n",
       "..       ...   ...            ...            ...         ...       ...   \n",
       "296     city  2016           9.50          11.60       33988    Diesel   \n",
       "297     brio  2015           4.00           5.90       60000    Petrol   \n",
       "298     city  2009           3.35          11.00       87934    Petrol   \n",
       "299     city  2017          11.50          12.50        9000    Diesel   \n",
       "300     brio  2016           5.30           5.90        5464    Petrol   \n",
       "\n",
       "    Selling_type Transmission  Owner  \n",
       "0         Dealer       Manual      0  \n",
       "1         Dealer       Manual      0  \n",
       "2         Dealer       Manual      0  \n",
       "3         Dealer       Manual      0  \n",
       "4         Dealer       Manual      0  \n",
       "..           ...          ...    ...  \n",
       "296       Dealer       Manual      0  \n",
       "297       Dealer       Manual      0  \n",
       "298       Dealer       Manual      0  \n",
       "299       Dealer       Manual      0  \n",
       "300       Dealer       Manual      0  \n",
       "\n",
       "[301 rows x 9 columns]"
      ]
     },
     "execution_count": 75,
     "metadata": {},
     "output_type": "execute_result"
    }
   ],
   "source": [
    "df"
   ]
  },
  {
   "cell_type": "code",
   "execution_count": 46,
   "id": "cfd81797",
   "metadata": {},
   "outputs": [
    {
     "data": {
      "text/html": [
       "<div>\n",
       "<style scoped>\n",
       "    .dataframe tbody tr th:only-of-type {\n",
       "        vertical-align: middle;\n",
       "    }\n",
       "\n",
       "    .dataframe tbody tr th {\n",
       "        vertical-align: top;\n",
       "    }\n",
       "\n",
       "    .dataframe thead th {\n",
       "        text-align: right;\n",
       "    }\n",
       "</style>\n",
       "<table border=\"1\" class=\"dataframe\">\n",
       "  <thead>\n",
       "    <tr style=\"text-align: right;\">\n",
       "      <th></th>\n",
       "      <th>Car_Name</th>\n",
       "      <th>Year</th>\n",
       "      <th>Selling_Price</th>\n",
       "      <th>Present_Price</th>\n",
       "      <th>Driven_kms</th>\n",
       "      <th>Fuel_Type</th>\n",
       "      <th>Selling_type</th>\n",
       "      <th>Transmission</th>\n",
       "      <th>Owner</th>\n",
       "    </tr>\n",
       "  </thead>\n",
       "  <tbody>\n",
       "    <tr>\n",
       "      <th>0</th>\n",
       "      <td>ritz</td>\n",
       "      <td>2014</td>\n",
       "      <td>3.35</td>\n",
       "      <td>5.59</td>\n",
       "      <td>27000</td>\n",
       "      <td>Petrol</td>\n",
       "      <td>Dealer</td>\n",
       "      <td>Manual</td>\n",
       "      <td>0</td>\n",
       "    </tr>\n",
       "    <tr>\n",
       "      <th>1</th>\n",
       "      <td>sx4</td>\n",
       "      <td>2013</td>\n",
       "      <td>4.75</td>\n",
       "      <td>9.54</td>\n",
       "      <td>43000</td>\n",
       "      <td>Diesel</td>\n",
       "      <td>Dealer</td>\n",
       "      <td>Manual</td>\n",
       "      <td>0</td>\n",
       "    </tr>\n",
       "    <tr>\n",
       "      <th>2</th>\n",
       "      <td>ciaz</td>\n",
       "      <td>2017</td>\n",
       "      <td>7.25</td>\n",
       "      <td>9.85</td>\n",
       "      <td>6900</td>\n",
       "      <td>Petrol</td>\n",
       "      <td>Dealer</td>\n",
       "      <td>Manual</td>\n",
       "      <td>0</td>\n",
       "    </tr>\n",
       "    <tr>\n",
       "      <th>3</th>\n",
       "      <td>wagon r</td>\n",
       "      <td>2011</td>\n",
       "      <td>2.85</td>\n",
       "      <td>4.15</td>\n",
       "      <td>5200</td>\n",
       "      <td>Petrol</td>\n",
       "      <td>Dealer</td>\n",
       "      <td>Manual</td>\n",
       "      <td>0</td>\n",
       "    </tr>\n",
       "    <tr>\n",
       "      <th>4</th>\n",
       "      <td>swift</td>\n",
       "      <td>2014</td>\n",
       "      <td>4.60</td>\n",
       "      <td>6.87</td>\n",
       "      <td>42450</td>\n",
       "      <td>Diesel</td>\n",
       "      <td>Dealer</td>\n",
       "      <td>Manual</td>\n",
       "      <td>0</td>\n",
       "    </tr>\n",
       "  </tbody>\n",
       "</table>\n",
       "</div>"
      ],
      "text/plain": [
       "  Car_Name  Year  Selling_Price  Present_Price  Driven_kms Fuel_Type  \\\n",
       "0     ritz  2014           3.35           5.59       27000    Petrol   \n",
       "1      sx4  2013           4.75           9.54       43000    Diesel   \n",
       "2     ciaz  2017           7.25           9.85        6900    Petrol   \n",
       "3  wagon r  2011           2.85           4.15        5200    Petrol   \n",
       "4    swift  2014           4.60           6.87       42450    Diesel   \n",
       "\n",
       "  Selling_type Transmission  Owner  \n",
       "0       Dealer       Manual      0  \n",
       "1       Dealer       Manual      0  \n",
       "2       Dealer       Manual      0  \n",
       "3       Dealer       Manual      0  \n",
       "4       Dealer       Manual      0  "
      ]
     },
     "execution_count": 46,
     "metadata": {},
     "output_type": "execute_result"
    }
   ],
   "source": [
    "df.head()"
   ]
  },
  {
   "cell_type": "code",
   "execution_count": 5,
   "id": "4c8451fb",
   "metadata": {},
   "outputs": [
    {
     "data": {
      "text/html": [
       "<div>\n",
       "<style scoped>\n",
       "    .dataframe tbody tr th:only-of-type {\n",
       "        vertical-align: middle;\n",
       "    }\n",
       "\n",
       "    .dataframe tbody tr th {\n",
       "        vertical-align: top;\n",
       "    }\n",
       "\n",
       "    .dataframe thead th {\n",
       "        text-align: right;\n",
       "    }\n",
       "</style>\n",
       "<table border=\"1\" class=\"dataframe\">\n",
       "  <thead>\n",
       "    <tr style=\"text-align: right;\">\n",
       "      <th></th>\n",
       "      <th>Car_Name</th>\n",
       "      <th>Year</th>\n",
       "      <th>Selling_Price</th>\n",
       "      <th>Present_Price</th>\n",
       "      <th>Driven_kms</th>\n",
       "      <th>Fuel_Type</th>\n",
       "      <th>Selling_type</th>\n",
       "      <th>Transmission</th>\n",
       "      <th>Owner</th>\n",
       "    </tr>\n",
       "  </thead>\n",
       "  <tbody>\n",
       "    <tr>\n",
       "      <th>0</th>\n",
       "      <td>ritz</td>\n",
       "      <td>2014</td>\n",
       "      <td>3.35</td>\n",
       "      <td>5.59</td>\n",
       "      <td>27000</td>\n",
       "      <td>Petrol</td>\n",
       "      <td>Dealer</td>\n",
       "      <td>Manual</td>\n",
       "      <td>0</td>\n",
       "    </tr>\n",
       "    <tr>\n",
       "      <th>1</th>\n",
       "      <td>sx4</td>\n",
       "      <td>2013</td>\n",
       "      <td>4.75</td>\n",
       "      <td>9.54</td>\n",
       "      <td>43000</td>\n",
       "      <td>Diesel</td>\n",
       "      <td>Dealer</td>\n",
       "      <td>Manual</td>\n",
       "      <td>0</td>\n",
       "    </tr>\n",
       "    <tr>\n",
       "      <th>2</th>\n",
       "      <td>ciaz</td>\n",
       "      <td>2017</td>\n",
       "      <td>7.25</td>\n",
       "      <td>9.85</td>\n",
       "      <td>6900</td>\n",
       "      <td>Petrol</td>\n",
       "      <td>Dealer</td>\n",
       "      <td>Manual</td>\n",
       "      <td>0</td>\n",
       "    </tr>\n",
       "    <tr>\n",
       "      <th>3</th>\n",
       "      <td>wagon r</td>\n",
       "      <td>2011</td>\n",
       "      <td>2.85</td>\n",
       "      <td>4.15</td>\n",
       "      <td>5200</td>\n",
       "      <td>Petrol</td>\n",
       "      <td>Dealer</td>\n",
       "      <td>Manual</td>\n",
       "      <td>0</td>\n",
       "    </tr>\n",
       "    <tr>\n",
       "      <th>4</th>\n",
       "      <td>swift</td>\n",
       "      <td>2014</td>\n",
       "      <td>4.60</td>\n",
       "      <td>6.87</td>\n",
       "      <td>42450</td>\n",
       "      <td>Diesel</td>\n",
       "      <td>Dealer</td>\n",
       "      <td>Manual</td>\n",
       "      <td>0</td>\n",
       "    </tr>\n",
       "    <tr>\n",
       "      <th>5</th>\n",
       "      <td>vitara brezza</td>\n",
       "      <td>2018</td>\n",
       "      <td>9.25</td>\n",
       "      <td>9.83</td>\n",
       "      <td>2071</td>\n",
       "      <td>Diesel</td>\n",
       "      <td>Dealer</td>\n",
       "      <td>Manual</td>\n",
       "      <td>0</td>\n",
       "    </tr>\n",
       "    <tr>\n",
       "      <th>6</th>\n",
       "      <td>ciaz</td>\n",
       "      <td>2015</td>\n",
       "      <td>6.75</td>\n",
       "      <td>8.12</td>\n",
       "      <td>18796</td>\n",
       "      <td>Petrol</td>\n",
       "      <td>Dealer</td>\n",
       "      <td>Manual</td>\n",
       "      <td>0</td>\n",
       "    </tr>\n",
       "    <tr>\n",
       "      <th>7</th>\n",
       "      <td>s cross</td>\n",
       "      <td>2015</td>\n",
       "      <td>6.50</td>\n",
       "      <td>8.61</td>\n",
       "      <td>33429</td>\n",
       "      <td>Diesel</td>\n",
       "      <td>Dealer</td>\n",
       "      <td>Manual</td>\n",
       "      <td>0</td>\n",
       "    </tr>\n",
       "    <tr>\n",
       "      <th>8</th>\n",
       "      <td>ciaz</td>\n",
       "      <td>2016</td>\n",
       "      <td>8.75</td>\n",
       "      <td>8.89</td>\n",
       "      <td>20273</td>\n",
       "      <td>Diesel</td>\n",
       "      <td>Dealer</td>\n",
       "      <td>Manual</td>\n",
       "      <td>0</td>\n",
       "    </tr>\n",
       "    <tr>\n",
       "      <th>9</th>\n",
       "      <td>ciaz</td>\n",
       "      <td>2015</td>\n",
       "      <td>7.45</td>\n",
       "      <td>8.92</td>\n",
       "      <td>42367</td>\n",
       "      <td>Diesel</td>\n",
       "      <td>Dealer</td>\n",
       "      <td>Manual</td>\n",
       "      <td>0</td>\n",
       "    </tr>\n",
       "  </tbody>\n",
       "</table>\n",
       "</div>"
      ],
      "text/plain": [
       "        Car_Name  Year  Selling_Price  Present_Price  Driven_kms Fuel_Type  \\\n",
       "0           ritz  2014           3.35           5.59       27000    Petrol   \n",
       "1            sx4  2013           4.75           9.54       43000    Diesel   \n",
       "2           ciaz  2017           7.25           9.85        6900    Petrol   \n",
       "3        wagon r  2011           2.85           4.15        5200    Petrol   \n",
       "4          swift  2014           4.60           6.87       42450    Diesel   \n",
       "5  vitara brezza  2018           9.25           9.83        2071    Diesel   \n",
       "6           ciaz  2015           6.75           8.12       18796    Petrol   \n",
       "7        s cross  2015           6.50           8.61       33429    Diesel   \n",
       "8           ciaz  2016           8.75           8.89       20273    Diesel   \n",
       "9           ciaz  2015           7.45           8.92       42367    Diesel   \n",
       "\n",
       "  Selling_type Transmission  Owner  \n",
       "0       Dealer       Manual      0  \n",
       "1       Dealer       Manual      0  \n",
       "2       Dealer       Manual      0  \n",
       "3       Dealer       Manual      0  \n",
       "4       Dealer       Manual      0  \n",
       "5       Dealer       Manual      0  \n",
       "6       Dealer       Manual      0  \n",
       "7       Dealer       Manual      0  \n",
       "8       Dealer       Manual      0  \n",
       "9       Dealer       Manual      0  "
      ]
     },
     "execution_count": 5,
     "metadata": {},
     "output_type": "execute_result"
    }
   ],
   "source": [
    "df.head(10)"
   ]
  },
  {
   "cell_type": "code",
   "execution_count": 6,
   "id": "1a056d0a",
   "metadata": {},
   "outputs": [
    {
     "data": {
      "text/html": [
       "<div>\n",
       "<style scoped>\n",
       "    .dataframe tbody tr th:only-of-type {\n",
       "        vertical-align: middle;\n",
       "    }\n",
       "\n",
       "    .dataframe tbody tr th {\n",
       "        vertical-align: top;\n",
       "    }\n",
       "\n",
       "    .dataframe thead th {\n",
       "        text-align: right;\n",
       "    }\n",
       "</style>\n",
       "<table border=\"1\" class=\"dataframe\">\n",
       "  <thead>\n",
       "    <tr style=\"text-align: right;\">\n",
       "      <th></th>\n",
       "      <th>Car_Name</th>\n",
       "      <th>Year</th>\n",
       "      <th>Selling_Price</th>\n",
       "      <th>Present_Price</th>\n",
       "      <th>Driven_kms</th>\n",
       "      <th>Fuel_Type</th>\n",
       "      <th>Selling_type</th>\n",
       "      <th>Transmission</th>\n",
       "      <th>Owner</th>\n",
       "    </tr>\n",
       "  </thead>\n",
       "  <tbody>\n",
       "    <tr>\n",
       "      <th>296</th>\n",
       "      <td>city</td>\n",
       "      <td>2016</td>\n",
       "      <td>9.50</td>\n",
       "      <td>11.6</td>\n",
       "      <td>33988</td>\n",
       "      <td>Diesel</td>\n",
       "      <td>Dealer</td>\n",
       "      <td>Manual</td>\n",
       "      <td>0</td>\n",
       "    </tr>\n",
       "    <tr>\n",
       "      <th>297</th>\n",
       "      <td>brio</td>\n",
       "      <td>2015</td>\n",
       "      <td>4.00</td>\n",
       "      <td>5.9</td>\n",
       "      <td>60000</td>\n",
       "      <td>Petrol</td>\n",
       "      <td>Dealer</td>\n",
       "      <td>Manual</td>\n",
       "      <td>0</td>\n",
       "    </tr>\n",
       "    <tr>\n",
       "      <th>298</th>\n",
       "      <td>city</td>\n",
       "      <td>2009</td>\n",
       "      <td>3.35</td>\n",
       "      <td>11.0</td>\n",
       "      <td>87934</td>\n",
       "      <td>Petrol</td>\n",
       "      <td>Dealer</td>\n",
       "      <td>Manual</td>\n",
       "      <td>0</td>\n",
       "    </tr>\n",
       "    <tr>\n",
       "      <th>299</th>\n",
       "      <td>city</td>\n",
       "      <td>2017</td>\n",
       "      <td>11.50</td>\n",
       "      <td>12.5</td>\n",
       "      <td>9000</td>\n",
       "      <td>Diesel</td>\n",
       "      <td>Dealer</td>\n",
       "      <td>Manual</td>\n",
       "      <td>0</td>\n",
       "    </tr>\n",
       "    <tr>\n",
       "      <th>300</th>\n",
       "      <td>brio</td>\n",
       "      <td>2016</td>\n",
       "      <td>5.30</td>\n",
       "      <td>5.9</td>\n",
       "      <td>5464</td>\n",
       "      <td>Petrol</td>\n",
       "      <td>Dealer</td>\n",
       "      <td>Manual</td>\n",
       "      <td>0</td>\n",
       "    </tr>\n",
       "  </tbody>\n",
       "</table>\n",
       "</div>"
      ],
      "text/plain": [
       "    Car_Name  Year  Selling_Price  Present_Price  Driven_kms Fuel_Type  \\\n",
       "296     city  2016           9.50           11.6       33988    Diesel   \n",
       "297     brio  2015           4.00            5.9       60000    Petrol   \n",
       "298     city  2009           3.35           11.0       87934    Petrol   \n",
       "299     city  2017          11.50           12.5        9000    Diesel   \n",
       "300     brio  2016           5.30            5.9        5464    Petrol   \n",
       "\n",
       "    Selling_type Transmission  Owner  \n",
       "296       Dealer       Manual      0  \n",
       "297       Dealer       Manual      0  \n",
       "298       Dealer       Manual      0  \n",
       "299       Dealer       Manual      0  \n",
       "300       Dealer       Manual      0  "
      ]
     },
     "execution_count": 6,
     "metadata": {},
     "output_type": "execute_result"
    }
   ],
   "source": [
    "df.tail()"
   ]
  },
  {
   "cell_type": "code",
   "execution_count": 7,
   "id": "2f07eafb",
   "metadata": {},
   "outputs": [
    {
     "data": {
      "text/html": [
       "<div>\n",
       "<style scoped>\n",
       "    .dataframe tbody tr th:only-of-type {\n",
       "        vertical-align: middle;\n",
       "    }\n",
       "\n",
       "    .dataframe tbody tr th {\n",
       "        vertical-align: top;\n",
       "    }\n",
       "\n",
       "    .dataframe thead th {\n",
       "        text-align: right;\n",
       "    }\n",
       "</style>\n",
       "<table border=\"1\" class=\"dataframe\">\n",
       "  <thead>\n",
       "    <tr style=\"text-align: right;\">\n",
       "      <th></th>\n",
       "      <th>Car_Name</th>\n",
       "      <th>Year</th>\n",
       "      <th>Selling_Price</th>\n",
       "      <th>Present_Price</th>\n",
       "      <th>Driven_kms</th>\n",
       "      <th>Fuel_Type</th>\n",
       "      <th>Selling_type</th>\n",
       "      <th>Transmission</th>\n",
       "      <th>Owner</th>\n",
       "    </tr>\n",
       "  </thead>\n",
       "  <tbody>\n",
       "    <tr>\n",
       "      <th>291</th>\n",
       "      <td>brio</td>\n",
       "      <td>2015</td>\n",
       "      <td>5.40</td>\n",
       "      <td>6.10</td>\n",
       "      <td>31427</td>\n",
       "      <td>Petrol</td>\n",
       "      <td>Dealer</td>\n",
       "      <td>Manual</td>\n",
       "      <td>0</td>\n",
       "    </tr>\n",
       "    <tr>\n",
       "      <th>292</th>\n",
       "      <td>jazz</td>\n",
       "      <td>2016</td>\n",
       "      <td>6.40</td>\n",
       "      <td>8.40</td>\n",
       "      <td>12000</td>\n",
       "      <td>Petrol</td>\n",
       "      <td>Dealer</td>\n",
       "      <td>Manual</td>\n",
       "      <td>0</td>\n",
       "    </tr>\n",
       "    <tr>\n",
       "      <th>293</th>\n",
       "      <td>city</td>\n",
       "      <td>2010</td>\n",
       "      <td>3.25</td>\n",
       "      <td>9.90</td>\n",
       "      <td>38000</td>\n",
       "      <td>Petrol</td>\n",
       "      <td>Dealer</td>\n",
       "      <td>Manual</td>\n",
       "      <td>0</td>\n",
       "    </tr>\n",
       "    <tr>\n",
       "      <th>294</th>\n",
       "      <td>amaze</td>\n",
       "      <td>2014</td>\n",
       "      <td>3.75</td>\n",
       "      <td>6.80</td>\n",
       "      <td>33019</td>\n",
       "      <td>Petrol</td>\n",
       "      <td>Dealer</td>\n",
       "      <td>Manual</td>\n",
       "      <td>0</td>\n",
       "    </tr>\n",
       "    <tr>\n",
       "      <th>295</th>\n",
       "      <td>city</td>\n",
       "      <td>2015</td>\n",
       "      <td>8.55</td>\n",
       "      <td>13.09</td>\n",
       "      <td>60076</td>\n",
       "      <td>Diesel</td>\n",
       "      <td>Dealer</td>\n",
       "      <td>Manual</td>\n",
       "      <td>0</td>\n",
       "    </tr>\n",
       "    <tr>\n",
       "      <th>296</th>\n",
       "      <td>city</td>\n",
       "      <td>2016</td>\n",
       "      <td>9.50</td>\n",
       "      <td>11.60</td>\n",
       "      <td>33988</td>\n",
       "      <td>Diesel</td>\n",
       "      <td>Dealer</td>\n",
       "      <td>Manual</td>\n",
       "      <td>0</td>\n",
       "    </tr>\n",
       "    <tr>\n",
       "      <th>297</th>\n",
       "      <td>brio</td>\n",
       "      <td>2015</td>\n",
       "      <td>4.00</td>\n",
       "      <td>5.90</td>\n",
       "      <td>60000</td>\n",
       "      <td>Petrol</td>\n",
       "      <td>Dealer</td>\n",
       "      <td>Manual</td>\n",
       "      <td>0</td>\n",
       "    </tr>\n",
       "    <tr>\n",
       "      <th>298</th>\n",
       "      <td>city</td>\n",
       "      <td>2009</td>\n",
       "      <td>3.35</td>\n",
       "      <td>11.00</td>\n",
       "      <td>87934</td>\n",
       "      <td>Petrol</td>\n",
       "      <td>Dealer</td>\n",
       "      <td>Manual</td>\n",
       "      <td>0</td>\n",
       "    </tr>\n",
       "    <tr>\n",
       "      <th>299</th>\n",
       "      <td>city</td>\n",
       "      <td>2017</td>\n",
       "      <td>11.50</td>\n",
       "      <td>12.50</td>\n",
       "      <td>9000</td>\n",
       "      <td>Diesel</td>\n",
       "      <td>Dealer</td>\n",
       "      <td>Manual</td>\n",
       "      <td>0</td>\n",
       "    </tr>\n",
       "    <tr>\n",
       "      <th>300</th>\n",
       "      <td>brio</td>\n",
       "      <td>2016</td>\n",
       "      <td>5.30</td>\n",
       "      <td>5.90</td>\n",
       "      <td>5464</td>\n",
       "      <td>Petrol</td>\n",
       "      <td>Dealer</td>\n",
       "      <td>Manual</td>\n",
       "      <td>0</td>\n",
       "    </tr>\n",
       "  </tbody>\n",
       "</table>\n",
       "</div>"
      ],
      "text/plain": [
       "    Car_Name  Year  Selling_Price  Present_Price  Driven_kms Fuel_Type  \\\n",
       "291     brio  2015           5.40           6.10       31427    Petrol   \n",
       "292     jazz  2016           6.40           8.40       12000    Petrol   \n",
       "293     city  2010           3.25           9.90       38000    Petrol   \n",
       "294    amaze  2014           3.75           6.80       33019    Petrol   \n",
       "295     city  2015           8.55          13.09       60076    Diesel   \n",
       "296     city  2016           9.50          11.60       33988    Diesel   \n",
       "297     brio  2015           4.00           5.90       60000    Petrol   \n",
       "298     city  2009           3.35          11.00       87934    Petrol   \n",
       "299     city  2017          11.50          12.50        9000    Diesel   \n",
       "300     brio  2016           5.30           5.90        5464    Petrol   \n",
       "\n",
       "    Selling_type Transmission  Owner  \n",
       "291       Dealer       Manual      0  \n",
       "292       Dealer       Manual      0  \n",
       "293       Dealer       Manual      0  \n",
       "294       Dealer       Manual      0  \n",
       "295       Dealer       Manual      0  \n",
       "296       Dealer       Manual      0  \n",
       "297       Dealer       Manual      0  \n",
       "298       Dealer       Manual      0  \n",
       "299       Dealer       Manual      0  \n",
       "300       Dealer       Manual      0  "
      ]
     },
     "execution_count": 7,
     "metadata": {},
     "output_type": "execute_result"
    }
   ],
   "source": [
    "df.tail(10)"
   ]
  },
  {
   "cell_type": "code",
   "execution_count": 8,
   "id": "badbc48c",
   "metadata": {},
   "outputs": [
    {
     "data": {
      "text/plain": [
       "(301, 9)"
      ]
     },
     "execution_count": 8,
     "metadata": {},
     "output_type": "execute_result"
    }
   ],
   "source": [
    "df.shape"
   ]
  },
  {
   "cell_type": "code",
   "execution_count": 106,
   "id": "0b0bfcf9",
   "metadata": {},
   "outputs": [
    {
     "data": {
      "text/plain": [
       "2709"
      ]
     },
     "execution_count": 106,
     "metadata": {},
     "output_type": "execute_result"
    }
   ],
   "source": [
    "df.size"
   ]
  },
  {
   "cell_type": "code",
   "execution_count": 10,
   "id": "5616b66c",
   "metadata": {},
   "outputs": [
    {
     "name": "stdout",
     "output_type": "stream",
     "text": [
      "<class 'pandas.core.frame.DataFrame'>\n",
      "RangeIndex: 301 entries, 0 to 300\n",
      "Data columns (total 9 columns):\n",
      " #   Column         Non-Null Count  Dtype  \n",
      "---  ------         --------------  -----  \n",
      " 0   Car_Name       301 non-null    object \n",
      " 1   Year           301 non-null    int64  \n",
      " 2   Selling_Price  301 non-null    float64\n",
      " 3   Present_Price  301 non-null    float64\n",
      " 4   Driven_kms     301 non-null    int64  \n",
      " 5   Fuel_Type      301 non-null    object \n",
      " 6   Selling_type   301 non-null    object \n",
      " 7   Transmission   301 non-null    object \n",
      " 8   Owner          301 non-null    int64  \n",
      "dtypes: float64(2), int64(3), object(4)\n",
      "memory usage: 21.3+ KB\n"
     ]
    }
   ],
   "source": [
    "df.info()"
   ]
  },
  {
   "cell_type": "code",
   "execution_count": 12,
   "id": "4b505524",
   "metadata": {},
   "outputs": [
    {
     "data": {
      "text/plain": [
       "Index(['Car_Name', 'Year', 'Selling_Price', 'Present_Price', 'Driven_kms',\n",
       "       'Fuel_Type', 'Selling_type', 'Transmission', 'Owner'],\n",
       "      dtype='object')"
      ]
     },
     "execution_count": 12,
     "metadata": {},
     "output_type": "execute_result"
    }
   ],
   "source": [
    "df.columns"
   ]
  },
  {
   "cell_type": "code",
   "execution_count": 14,
   "id": "2641a972",
   "metadata": {},
   "outputs": [
    {
     "data": {
      "text/plain": [
       "Car_Name          object\n",
       "Year               int64\n",
       "Selling_Price    float64\n",
       "Present_Price    float64\n",
       "Driven_kms         int64\n",
       "Fuel_Type         object\n",
       "Selling_type      object\n",
       "Transmission      object\n",
       "Owner              int64\n",
       "dtype: object"
      ]
     },
     "execution_count": 14,
     "metadata": {},
     "output_type": "execute_result"
    }
   ],
   "source": [
    "df.dtypes"
   ]
  },
  {
   "cell_type": "code",
   "execution_count": 16,
   "id": "0650266b",
   "metadata": {},
   "outputs": [
    {
     "data": {
      "text/plain": [
       "Car_Name         0\n",
       "Year             0\n",
       "Selling_Price    0\n",
       "Present_Price    0\n",
       "Driven_kms       0\n",
       "Fuel_Type        0\n",
       "Selling_type     0\n",
       "Transmission     0\n",
       "Owner            0\n",
       "dtype: int64"
      ]
     },
     "execution_count": 16,
     "metadata": {},
     "output_type": "execute_result"
    }
   ],
   "source": [
    "df.isnull().sum()"
   ]
  },
  {
   "cell_type": "code",
   "execution_count": 17,
   "id": "95c24ab5",
   "metadata": {},
   "outputs": [
    {
     "data": {
      "text/html": [
       "<div>\n",
       "<style scoped>\n",
       "    .dataframe tbody tr th:only-of-type {\n",
       "        vertical-align: middle;\n",
       "    }\n",
       "\n",
       "    .dataframe tbody tr th {\n",
       "        vertical-align: top;\n",
       "    }\n",
       "\n",
       "    .dataframe thead th {\n",
       "        text-align: right;\n",
       "    }\n",
       "</style>\n",
       "<table border=\"1\" class=\"dataframe\">\n",
       "  <thead>\n",
       "    <tr style=\"text-align: right;\">\n",
       "      <th></th>\n",
       "      <th>Year</th>\n",
       "      <th>Selling_Price</th>\n",
       "      <th>Present_Price</th>\n",
       "      <th>Driven_kms</th>\n",
       "      <th>Owner</th>\n",
       "    </tr>\n",
       "  </thead>\n",
       "  <tbody>\n",
       "    <tr>\n",
       "      <th>count</th>\n",
       "      <td>301.000000</td>\n",
       "      <td>301.000000</td>\n",
       "      <td>301.000000</td>\n",
       "      <td>301.000000</td>\n",
       "      <td>301.000000</td>\n",
       "    </tr>\n",
       "    <tr>\n",
       "      <th>mean</th>\n",
       "      <td>2013.627907</td>\n",
       "      <td>4.661296</td>\n",
       "      <td>7.628472</td>\n",
       "      <td>36947.205980</td>\n",
       "      <td>0.043189</td>\n",
       "    </tr>\n",
       "    <tr>\n",
       "      <th>std</th>\n",
       "      <td>2.891554</td>\n",
       "      <td>5.082812</td>\n",
       "      <td>8.642584</td>\n",
       "      <td>38886.883882</td>\n",
       "      <td>0.247915</td>\n",
       "    </tr>\n",
       "    <tr>\n",
       "      <th>min</th>\n",
       "      <td>2003.000000</td>\n",
       "      <td>0.100000</td>\n",
       "      <td>0.320000</td>\n",
       "      <td>500.000000</td>\n",
       "      <td>0.000000</td>\n",
       "    </tr>\n",
       "    <tr>\n",
       "      <th>25%</th>\n",
       "      <td>2012.000000</td>\n",
       "      <td>0.900000</td>\n",
       "      <td>1.200000</td>\n",
       "      <td>15000.000000</td>\n",
       "      <td>0.000000</td>\n",
       "    </tr>\n",
       "    <tr>\n",
       "      <th>50%</th>\n",
       "      <td>2014.000000</td>\n",
       "      <td>3.600000</td>\n",
       "      <td>6.400000</td>\n",
       "      <td>32000.000000</td>\n",
       "      <td>0.000000</td>\n",
       "    </tr>\n",
       "    <tr>\n",
       "      <th>75%</th>\n",
       "      <td>2016.000000</td>\n",
       "      <td>6.000000</td>\n",
       "      <td>9.900000</td>\n",
       "      <td>48767.000000</td>\n",
       "      <td>0.000000</td>\n",
       "    </tr>\n",
       "    <tr>\n",
       "      <th>max</th>\n",
       "      <td>2018.000000</td>\n",
       "      <td>35.000000</td>\n",
       "      <td>92.600000</td>\n",
       "      <td>500000.000000</td>\n",
       "      <td>3.000000</td>\n",
       "    </tr>\n",
       "  </tbody>\n",
       "</table>\n",
       "</div>"
      ],
      "text/plain": [
       "              Year  Selling_Price  Present_Price     Driven_kms       Owner\n",
       "count   301.000000     301.000000     301.000000     301.000000  301.000000\n",
       "mean   2013.627907       4.661296       7.628472   36947.205980    0.043189\n",
       "std       2.891554       5.082812       8.642584   38886.883882    0.247915\n",
       "min    2003.000000       0.100000       0.320000     500.000000    0.000000\n",
       "25%    2012.000000       0.900000       1.200000   15000.000000    0.000000\n",
       "50%    2014.000000       3.600000       6.400000   32000.000000    0.000000\n",
       "75%    2016.000000       6.000000       9.900000   48767.000000    0.000000\n",
       "max    2018.000000      35.000000      92.600000  500000.000000    3.000000"
      ]
     },
     "execution_count": 17,
     "metadata": {},
     "output_type": "execute_result"
    }
   ],
   "source": [
    "df.describe()"
   ]
  },
  {
   "cell_type": "code",
   "execution_count": 67,
   "id": "859d2397",
   "metadata": {},
   "outputs": [
    {
     "data": {
      "text/plain": [
       "301"
      ]
     },
     "execution_count": 67,
     "metadata": {},
     "output_type": "execute_result"
    }
   ],
   "source": [
    "df.Car_Name.count()"
   ]
  },
  {
   "cell_type": "code",
   "execution_count": 72,
   "id": "fa731ddc",
   "metadata": {},
   "outputs": [
    {
     "data": {
      "text/plain": [
       "0         ritz\n",
       "1          sx4\n",
       "2         ciaz\n",
       "3      wagon r\n",
       "4        swift\n",
       "        ...   \n",
       "296       city\n",
       "297       brio\n",
       "298       city\n",
       "299       city\n",
       "300       brio\n",
       "Name: Car_Name, Length: 301, dtype: object"
      ]
     },
     "execution_count": 72,
     "metadata": {},
     "output_type": "execute_result"
    }
   ],
   "source": [
    "df.Car_Name"
   ]
  },
  {
   "cell_type": "code",
   "execution_count": 103,
   "id": "142abcee",
   "metadata": {},
   "outputs": [
    {
     "data": {
      "text/plain": [
       "city                        26\n",
       "corolla altis               16\n",
       "verna                       14\n",
       "fortuner                    11\n",
       "brio                        10\n",
       "                            ..\n",
       "Honda CB Trigger             1\n",
       "Yamaha FZ S                  1\n",
       "Bajaj Pulsar 135 LS          1\n",
       "Activa 4g                    1\n",
       "Bajaj Avenger Street 220     1\n",
       "Name: Car_Name, Length: 98, dtype: int64"
      ]
     },
     "execution_count": 103,
     "metadata": {},
     "output_type": "execute_result"
    }
   ],
   "source": [
    "df.Car_Name.value_counts()"
   ]
  },
  {
   "cell_type": "code",
   "execution_count": 18,
   "id": "a2d83f4b",
   "metadata": {},
   "outputs": [
    {
     "data": {
      "text/plain": [
       "2"
      ]
     },
     "execution_count": 18,
     "metadata": {},
     "output_type": "execute_result"
    }
   ],
   "source": [
    "df.duplicated().sum()"
   ]
  },
  {
   "cell_type": "code",
   "execution_count": 27,
   "id": "2ad27406",
   "metadata": {},
   "outputs": [],
   "source": [
    "df.drop_duplicates(inplace=True)"
   ]
  },
  {
   "cell_type": "code",
   "execution_count": 28,
   "id": "7d013ad6",
   "metadata": {},
   "outputs": [
    {
     "data": {
      "text/plain": [
       "0"
      ]
     },
     "execution_count": 28,
     "metadata": {},
     "output_type": "execute_result"
    }
   ],
   "source": [
    "df.duplicated().sum()"
   ]
  },
  {
   "cell_type": "code",
   "execution_count": 55,
   "id": "f806d4ff",
   "metadata": {},
   "outputs": [
    {
     "name": "stdout",
     "output_type": "stream",
     "text": [
      "Petrol    239\n",
      "Diesel     60\n",
      "CNG         2\n",
      "Name: Fuel_Type, dtype: int64\n",
      "Dealer        195\n",
      "Individual    106\n",
      "Name: Selling_type, dtype: int64\n",
      "Manual       261\n",
      "Automatic     40\n",
      "Name: Transmission, dtype: int64\n"
     ]
    }
   ],
   "source": [
    "print(df.Fuel_Type.value_counts())\n",
    "print(df.Selling_type.value_counts())\n",
    "print(df.Transmission.value_counts())"
   ]
  },
  {
   "cell_type": "code",
   "execution_count": 60,
   "id": "ece668e9",
   "metadata": {},
   "outputs": [
    {
     "data": {
      "text/html": [
       "<div>\n",
       "<style scoped>\n",
       "    .dataframe tbody tr th:only-of-type {\n",
       "        vertical-align: middle;\n",
       "    }\n",
       "\n",
       "    .dataframe tbody tr th {\n",
       "        vertical-align: top;\n",
       "    }\n",
       "\n",
       "    .dataframe thead th {\n",
       "        text-align: right;\n",
       "    }\n",
       "</style>\n",
       "<table border=\"1\" class=\"dataframe\">\n",
       "  <thead>\n",
       "    <tr style=\"text-align: right;\">\n",
       "      <th></th>\n",
       "      <th>Car_Name</th>\n",
       "      <th>Selling_Price</th>\n",
       "      <th>Present_Price</th>\n",
       "    </tr>\n",
       "  </thead>\n",
       "  <tbody>\n",
       "    <tr>\n",
       "      <th>0</th>\n",
       "      <td>ritz</td>\n",
       "      <td>3.35</td>\n",
       "      <td>5.59</td>\n",
       "    </tr>\n",
       "    <tr>\n",
       "      <th>1</th>\n",
       "      <td>sx4</td>\n",
       "      <td>4.75</td>\n",
       "      <td>9.54</td>\n",
       "    </tr>\n",
       "    <tr>\n",
       "      <th>2</th>\n",
       "      <td>ciaz</td>\n",
       "      <td>7.25</td>\n",
       "      <td>9.85</td>\n",
       "    </tr>\n",
       "    <tr>\n",
       "      <th>3</th>\n",
       "      <td>wagon r</td>\n",
       "      <td>2.85</td>\n",
       "      <td>4.15</td>\n",
       "    </tr>\n",
       "    <tr>\n",
       "      <th>4</th>\n",
       "      <td>swift</td>\n",
       "      <td>4.60</td>\n",
       "      <td>6.87</td>\n",
       "    </tr>\n",
       "  </tbody>\n",
       "</table>\n",
       "</div>"
      ],
      "text/plain": [
       "  Car_Name  Selling_Price  Present_Price\n",
       "0     ritz           3.35           5.59\n",
       "1      sx4           4.75           9.54\n",
       "2     ciaz           7.25           9.85\n",
       "3  wagon r           2.85           4.15\n",
       "4    swift           4.60           6.87"
      ]
     },
     "execution_count": 60,
     "metadata": {},
     "output_type": "execute_result"
    }
   ],
   "source": [
    "df_column = df[['Car_Name', 'Selling_Price', 'Present_Price']]\n",
    "df_column.head()"
   ]
  },
  {
   "cell_type": "code",
   "execution_count": 62,
   "id": "c21db09a",
   "metadata": {},
   "outputs": [
    {
     "data": {
      "text/html": [
       "<div>\n",
       "<style scoped>\n",
       "    .dataframe tbody tr th:only-of-type {\n",
       "        vertical-align: middle;\n",
       "    }\n",
       "\n",
       "    .dataframe tbody tr th {\n",
       "        vertical-align: top;\n",
       "    }\n",
       "\n",
       "    .dataframe thead th {\n",
       "        text-align: right;\n",
       "    }\n",
       "</style>\n",
       "<table border=\"1\" class=\"dataframe\">\n",
       "  <thead>\n",
       "    <tr style=\"text-align: right;\">\n",
       "      <th></th>\n",
       "      <th>Car_Name</th>\n",
       "      <th>Selling_Price</th>\n",
       "      <th>Present_Price</th>\n",
       "    </tr>\n",
       "  </thead>\n",
       "  <tbody>\n",
       "    <tr>\n",
       "      <th>0</th>\n",
       "      <td>ritz</td>\n",
       "      <td>3.35</td>\n",
       "      <td>5.59</td>\n",
       "    </tr>\n",
       "    <tr>\n",
       "      <th>1</th>\n",
       "      <td>sx4</td>\n",
       "      <td>4.75</td>\n",
       "      <td>9.54</td>\n",
       "    </tr>\n",
       "    <tr>\n",
       "      <th>2</th>\n",
       "      <td>ciaz</td>\n",
       "      <td>7.25</td>\n",
       "      <td>9.85</td>\n",
       "    </tr>\n",
       "    <tr>\n",
       "      <th>3</th>\n",
       "      <td>wagon r</td>\n",
       "      <td>2.85</td>\n",
       "      <td>4.15</td>\n",
       "    </tr>\n",
       "    <tr>\n",
       "      <th>4</th>\n",
       "      <td>swift</td>\n",
       "      <td>4.60</td>\n",
       "      <td>6.87</td>\n",
       "    </tr>\n",
       "    <tr>\n",
       "      <th>5</th>\n",
       "      <td>vitara brezza</td>\n",
       "      <td>9.25</td>\n",
       "      <td>9.83</td>\n",
       "    </tr>\n",
       "    <tr>\n",
       "      <th>6</th>\n",
       "      <td>ciaz</td>\n",
       "      <td>6.75</td>\n",
       "      <td>8.12</td>\n",
       "    </tr>\n",
       "    <tr>\n",
       "      <th>7</th>\n",
       "      <td>s cross</td>\n",
       "      <td>6.50</td>\n",
       "      <td>8.61</td>\n",
       "    </tr>\n",
       "    <tr>\n",
       "      <th>8</th>\n",
       "      <td>ciaz</td>\n",
       "      <td>8.75</td>\n",
       "      <td>8.89</td>\n",
       "    </tr>\n",
       "    <tr>\n",
       "      <th>9</th>\n",
       "      <td>ciaz</td>\n",
       "      <td>7.45</td>\n",
       "      <td>8.92</td>\n",
       "    </tr>\n",
       "    <tr>\n",
       "      <th>10</th>\n",
       "      <td>alto 800</td>\n",
       "      <td>2.85</td>\n",
       "      <td>3.60</td>\n",
       "    </tr>\n",
       "    <tr>\n",
       "      <th>11</th>\n",
       "      <td>ciaz</td>\n",
       "      <td>6.85</td>\n",
       "      <td>10.38</td>\n",
       "    </tr>\n",
       "    <tr>\n",
       "      <th>12</th>\n",
       "      <td>ciaz</td>\n",
       "      <td>7.50</td>\n",
       "      <td>9.94</td>\n",
       "    </tr>\n",
       "    <tr>\n",
       "      <th>13</th>\n",
       "      <td>ertiga</td>\n",
       "      <td>6.10</td>\n",
       "      <td>7.71</td>\n",
       "    </tr>\n",
       "    <tr>\n",
       "      <th>14</th>\n",
       "      <td>dzire</td>\n",
       "      <td>2.25</td>\n",
       "      <td>7.21</td>\n",
       "    </tr>\n",
       "    <tr>\n",
       "      <th>15</th>\n",
       "      <td>ertiga</td>\n",
       "      <td>7.75</td>\n",
       "      <td>10.79</td>\n",
       "    </tr>\n",
       "    <tr>\n",
       "      <th>16</th>\n",
       "      <td>ertiga</td>\n",
       "      <td>7.25</td>\n",
       "      <td>10.79</td>\n",
       "    </tr>\n",
       "    <tr>\n",
       "      <th>17</th>\n",
       "      <td>ertiga</td>\n",
       "      <td>7.75</td>\n",
       "      <td>10.79</td>\n",
       "    </tr>\n",
       "    <tr>\n",
       "      <th>18</th>\n",
       "      <td>wagon r</td>\n",
       "      <td>3.25</td>\n",
       "      <td>5.09</td>\n",
       "    </tr>\n",
       "    <tr>\n",
       "      <th>19</th>\n",
       "      <td>sx4</td>\n",
       "      <td>2.65</td>\n",
       "      <td>7.98</td>\n",
       "    </tr>\n",
       "  </tbody>\n",
       "</table>\n",
       "</div>"
      ],
      "text/plain": [
       "         Car_Name  Selling_Price  Present_Price\n",
       "0            ritz           3.35           5.59\n",
       "1             sx4           4.75           9.54\n",
       "2            ciaz           7.25           9.85\n",
       "3         wagon r           2.85           4.15\n",
       "4           swift           4.60           6.87\n",
       "5   vitara brezza           9.25           9.83\n",
       "6            ciaz           6.75           8.12\n",
       "7         s cross           6.50           8.61\n",
       "8            ciaz           8.75           8.89\n",
       "9            ciaz           7.45           8.92\n",
       "10       alto 800           2.85           3.60\n",
       "11           ciaz           6.85          10.38\n",
       "12           ciaz           7.50           9.94\n",
       "13         ertiga           6.10           7.71\n",
       "14          dzire           2.25           7.21\n",
       "15         ertiga           7.75          10.79\n",
       "16         ertiga           7.25          10.79\n",
       "17         ertiga           7.75          10.79\n",
       "18        wagon r           3.25           5.09\n",
       "19            sx4           2.65           7.98"
      ]
     },
     "execution_count": 62,
     "metadata": {},
     "output_type": "execute_result"
    }
   ],
   "source": [
    "df_column.head(20)"
   ]
  },
  {
   "cell_type": "code",
   "execution_count": 114,
   "id": "c1ca9d1e",
   "metadata": {},
   "outputs": [
    {
     "name": "stdout",
     "output_type": "stream",
     "text": [
      "['Dealer' 'Individual']\n",
      "['Manual' 'Automatic']\n",
      "[0 1 3]\n",
      "['Petrol' 'Diesel' 'CNG']\n"
     ]
    }
   ],
   "source": [
    "print(df['Selling_type'].unique())\n",
    "print(df['Transmission'].unique())\n",
    "print(df['Owner'].unique())\n",
    "print(df['Fuel_Type'].unique())"
   ]
  },
  {
   "cell_type": "code",
   "execution_count": 115,
   "id": "42e91a17",
   "metadata": {},
   "outputs": [
    {
     "data": {
      "text/html": [
       "<div>\n",
       "<style scoped>\n",
       "    .dataframe tbody tr th:only-of-type {\n",
       "        vertical-align: middle;\n",
       "    }\n",
       "\n",
       "    .dataframe tbody tr th {\n",
       "        vertical-align: top;\n",
       "    }\n",
       "\n",
       "    .dataframe thead th {\n",
       "        text-align: right;\n",
       "    }\n",
       "</style>\n",
       "<table border=\"1\" class=\"dataframe\">\n",
       "  <thead>\n",
       "    <tr style=\"text-align: right;\">\n",
       "      <th></th>\n",
       "      <th>Car_Name</th>\n",
       "      <th>Year</th>\n",
       "      <th>Selling_Price</th>\n",
       "      <th>Present_Price</th>\n",
       "      <th>Driven_kms</th>\n",
       "      <th>Fuel_Type</th>\n",
       "      <th>Selling_type</th>\n",
       "      <th>Transmission</th>\n",
       "    </tr>\n",
       "  </thead>\n",
       "  <tbody>\n",
       "    <tr>\n",
       "      <th>0</th>\n",
       "      <td>ritz</td>\n",
       "      <td>2014</td>\n",
       "      <td>3.35</td>\n",
       "      <td>5.59</td>\n",
       "      <td>27000</td>\n",
       "      <td>Petrol</td>\n",
       "      <td>Dealer</td>\n",
       "      <td>Manual</td>\n",
       "    </tr>\n",
       "    <tr>\n",
       "      <th>1</th>\n",
       "      <td>sx4</td>\n",
       "      <td>2013</td>\n",
       "      <td>4.75</td>\n",
       "      <td>9.54</td>\n",
       "      <td>43000</td>\n",
       "      <td>Diesel</td>\n",
       "      <td>Dealer</td>\n",
       "      <td>Manual</td>\n",
       "    </tr>\n",
       "    <tr>\n",
       "      <th>2</th>\n",
       "      <td>ciaz</td>\n",
       "      <td>2017</td>\n",
       "      <td>7.25</td>\n",
       "      <td>9.85</td>\n",
       "      <td>6900</td>\n",
       "      <td>Petrol</td>\n",
       "      <td>Dealer</td>\n",
       "      <td>Manual</td>\n",
       "    </tr>\n",
       "    <tr>\n",
       "      <th>3</th>\n",
       "      <td>wagon r</td>\n",
       "      <td>2011</td>\n",
       "      <td>2.85</td>\n",
       "      <td>4.15</td>\n",
       "      <td>5200</td>\n",
       "      <td>Petrol</td>\n",
       "      <td>Dealer</td>\n",
       "      <td>Manual</td>\n",
       "    </tr>\n",
       "    <tr>\n",
       "      <th>4</th>\n",
       "      <td>swift</td>\n",
       "      <td>2014</td>\n",
       "      <td>4.60</td>\n",
       "      <td>6.87</td>\n",
       "      <td>42450</td>\n",
       "      <td>Diesel</td>\n",
       "      <td>Dealer</td>\n",
       "      <td>Manual</td>\n",
       "    </tr>\n",
       "    <tr>\n",
       "      <th>...</th>\n",
       "      <td>...</td>\n",
       "      <td>...</td>\n",
       "      <td>...</td>\n",
       "      <td>...</td>\n",
       "      <td>...</td>\n",
       "      <td>...</td>\n",
       "      <td>...</td>\n",
       "      <td>...</td>\n",
       "    </tr>\n",
       "    <tr>\n",
       "      <th>296</th>\n",
       "      <td>city</td>\n",
       "      <td>2016</td>\n",
       "      <td>9.50</td>\n",
       "      <td>11.60</td>\n",
       "      <td>33988</td>\n",
       "      <td>Diesel</td>\n",
       "      <td>Dealer</td>\n",
       "      <td>Manual</td>\n",
       "    </tr>\n",
       "    <tr>\n",
       "      <th>297</th>\n",
       "      <td>brio</td>\n",
       "      <td>2015</td>\n",
       "      <td>4.00</td>\n",
       "      <td>5.90</td>\n",
       "      <td>60000</td>\n",
       "      <td>Petrol</td>\n",
       "      <td>Dealer</td>\n",
       "      <td>Manual</td>\n",
       "    </tr>\n",
       "    <tr>\n",
       "      <th>298</th>\n",
       "      <td>city</td>\n",
       "      <td>2009</td>\n",
       "      <td>3.35</td>\n",
       "      <td>11.00</td>\n",
       "      <td>87934</td>\n",
       "      <td>Petrol</td>\n",
       "      <td>Dealer</td>\n",
       "      <td>Manual</td>\n",
       "    </tr>\n",
       "    <tr>\n",
       "      <th>299</th>\n",
       "      <td>city</td>\n",
       "      <td>2017</td>\n",
       "      <td>11.50</td>\n",
       "      <td>12.50</td>\n",
       "      <td>9000</td>\n",
       "      <td>Diesel</td>\n",
       "      <td>Dealer</td>\n",
       "      <td>Manual</td>\n",
       "    </tr>\n",
       "    <tr>\n",
       "      <th>300</th>\n",
       "      <td>brio</td>\n",
       "      <td>2016</td>\n",
       "      <td>5.30</td>\n",
       "      <td>5.90</td>\n",
       "      <td>5464</td>\n",
       "      <td>Petrol</td>\n",
       "      <td>Dealer</td>\n",
       "      <td>Manual</td>\n",
       "    </tr>\n",
       "  </tbody>\n",
       "</table>\n",
       "<p>301 rows × 8 columns</p>\n",
       "</div>"
      ],
      "text/plain": [
       "    Car_Name  Year  Selling_Price  Present_Price  Driven_kms Fuel_Type  \\\n",
       "0       ritz  2014           3.35           5.59       27000    Petrol   \n",
       "1        sx4  2013           4.75           9.54       43000    Diesel   \n",
       "2       ciaz  2017           7.25           9.85        6900    Petrol   \n",
       "3    wagon r  2011           2.85           4.15        5200    Petrol   \n",
       "4      swift  2014           4.60           6.87       42450    Diesel   \n",
       "..       ...   ...            ...            ...         ...       ...   \n",
       "296     city  2016           9.50          11.60       33988    Diesel   \n",
       "297     brio  2015           4.00           5.90       60000    Petrol   \n",
       "298     city  2009           3.35          11.00       87934    Petrol   \n",
       "299     city  2017          11.50          12.50        9000    Diesel   \n",
       "300     brio  2016           5.30           5.90        5464    Petrol   \n",
       "\n",
       "    Selling_type Transmission  \n",
       "0         Dealer       Manual  \n",
       "1         Dealer       Manual  \n",
       "2         Dealer       Manual  \n",
       "3         Dealer       Manual  \n",
       "4         Dealer       Manual  \n",
       "..           ...          ...  \n",
       "296       Dealer       Manual  \n",
       "297       Dealer       Manual  \n",
       "298       Dealer       Manual  \n",
       "299       Dealer       Manual  \n",
       "300       Dealer       Manual  \n",
       "\n",
       "[301 rows x 8 columns]"
      ]
     },
     "execution_count": 115,
     "metadata": {},
     "output_type": "execute_result"
    }
   ],
   "source": [
    "x=df.iloc[:,:-1]\n",
    "x"
   ]
  },
  {
   "cell_type": "code",
   "execution_count": 116,
   "id": "18689fe2",
   "metadata": {},
   "outputs": [
    {
     "data": {
      "text/plain": [
       "0      0\n",
       "1      0\n",
       "2      0\n",
       "3      0\n",
       "4      0\n",
       "      ..\n",
       "296    0\n",
       "297    0\n",
       "298    0\n",
       "299    0\n",
       "300    0\n",
       "Name: Owner, Length: 301, dtype: int64"
      ]
     },
     "execution_count": 116,
     "metadata": {},
     "output_type": "execute_result"
    }
   ],
   "source": [
    "y=df.iloc[:,-1]\n",
    "y"
   ]
  },
  {
   "cell_type": "code",
   "execution_count": 105,
   "id": "390ab3fc",
   "metadata": {},
   "outputs": [
    {
     "name": "stderr",
     "output_type": "stream",
     "text": [
      "C:\\Users\\mprat\\AppData\\Local\\Temp\\ipykernel_21920\\1134722465.py:1: FutureWarning: The default value of numeric_only in DataFrame.corr is deprecated. In a future version, it will default to False. Select only valid columns or specify the value of numeric_only to silence this warning.\n",
      "  df.corr()\n"
     ]
    },
    {
     "data": {
      "text/html": [
       "<div>\n",
       "<style scoped>\n",
       "    .dataframe tbody tr th:only-of-type {\n",
       "        vertical-align: middle;\n",
       "    }\n",
       "\n",
       "    .dataframe tbody tr th {\n",
       "        vertical-align: top;\n",
       "    }\n",
       "\n",
       "    .dataframe thead th {\n",
       "        text-align: right;\n",
       "    }\n",
       "</style>\n",
       "<table border=\"1\" class=\"dataframe\">\n",
       "  <thead>\n",
       "    <tr style=\"text-align: right;\">\n",
       "      <th></th>\n",
       "      <th>Year</th>\n",
       "      <th>Selling_Price</th>\n",
       "      <th>Present_Price</th>\n",
       "      <th>Driven_kms</th>\n",
       "      <th>Owner</th>\n",
       "    </tr>\n",
       "  </thead>\n",
       "  <tbody>\n",
       "    <tr>\n",
       "      <th>Year</th>\n",
       "      <td>1.000000</td>\n",
       "      <td>0.236141</td>\n",
       "      <td>-0.047192</td>\n",
       "      <td>-0.524342</td>\n",
       "      <td>-0.182104</td>\n",
       "    </tr>\n",
       "    <tr>\n",
       "      <th>Selling_Price</th>\n",
       "      <td>0.236141</td>\n",
       "      <td>1.000000</td>\n",
       "      <td>0.878914</td>\n",
       "      <td>0.029187</td>\n",
       "      <td>-0.088344</td>\n",
       "    </tr>\n",
       "    <tr>\n",
       "      <th>Present_Price</th>\n",
       "      <td>-0.047192</td>\n",
       "      <td>0.878914</td>\n",
       "      <td>1.000000</td>\n",
       "      <td>0.203618</td>\n",
       "      <td>0.008058</td>\n",
       "    </tr>\n",
       "    <tr>\n",
       "      <th>Driven_kms</th>\n",
       "      <td>-0.524342</td>\n",
       "      <td>0.029187</td>\n",
       "      <td>0.203618</td>\n",
       "      <td>1.000000</td>\n",
       "      <td>0.089216</td>\n",
       "    </tr>\n",
       "    <tr>\n",
       "      <th>Owner</th>\n",
       "      <td>-0.182104</td>\n",
       "      <td>-0.088344</td>\n",
       "      <td>0.008058</td>\n",
       "      <td>0.089216</td>\n",
       "      <td>1.000000</td>\n",
       "    </tr>\n",
       "  </tbody>\n",
       "</table>\n",
       "</div>"
      ],
      "text/plain": [
       "                   Year  Selling_Price  Present_Price  Driven_kms     Owner\n",
       "Year           1.000000       0.236141      -0.047192   -0.524342 -0.182104\n",
       "Selling_Price  0.236141       1.000000       0.878914    0.029187 -0.088344\n",
       "Present_Price -0.047192       0.878914       1.000000    0.203618  0.008058\n",
       "Driven_kms    -0.524342       0.029187       0.203618    1.000000  0.089216\n",
       "Owner         -0.182104      -0.088344       0.008058    0.089216  1.000000"
      ]
     },
     "execution_count": 105,
     "metadata": {},
     "output_type": "execute_result"
    }
   ],
   "source": [
    "df.corr()"
   ]
  },
  {
   "cell_type": "code",
   "execution_count": null,
   "id": "63df0d36",
   "metadata": {},
   "outputs": [],
   "source": []
  },
  {
   "cell_type": "code",
   "execution_count": null,
   "id": "2dde5d7b",
   "metadata": {},
   "outputs": [],
   "source": []
  },
  {
   "cell_type": "code",
   "execution_count": null,
   "id": "c93713cb",
   "metadata": {},
   "outputs": [],
   "source": []
  },
  {
   "cell_type": "code",
   "execution_count": null,
   "id": "04be499c",
   "metadata": {},
   "outputs": [],
   "source": []
  },
  {
   "cell_type": "code",
   "execution_count": null,
   "id": "231a1316",
   "metadata": {},
   "outputs": [],
   "source": []
  },
  {
   "cell_type": "code",
   "execution_count": null,
   "id": "230bed68",
   "metadata": {},
   "outputs": [],
   "source": []
  },
  {
   "cell_type": "markdown",
   "id": "a97ff636",
   "metadata": {},
   "source": [
    "# Data Visualization"
   ]
  },
  {
   "cell_type": "code",
   "execution_count": 81,
   "id": "90d415f3",
   "metadata": {},
   "outputs": [
    {
     "data": {
      "text/plain": [
       "<Axes: xlabel='Fuel_Type', ylabel='count'>"
      ]
     },
     "execution_count": 81,
     "metadata": {},
     "output_type": "execute_result"
    },
    {
     "data": {
      "image/png": "[encoded data removed]",
      "text/plain": [
       "<Figure size 1000x700 with 1 Axes>"
      ]
     },
     "metadata": {},
     "output_type": "display_data"
    }
   ],
   "source": [
    "sns.set(rc={'figure.figsize':(10,7)})\n",
    "sns.set_style('whitegrid')\n",
    "sns.countplot(x='Fuel_Type' ,data=df,palette='Set2')"
   ]
  },
  {
   "cell_type": "code",
   "execution_count": 82,
   "id": "f1c94d80",
   "metadata": {},
   "outputs": [
    {
     "data": {
      "image/png": "[encoded data removed]",
      "text/plain": [
       "<Figure size 1000x700 with 2 Axes>"
      ]
     },
     "metadata": {},
     "output_type": "display_data"
    }
   ],
   "source": [
    "plt.figure(figsize=(10, 7))\n",
    "sns.set_style('whitegrid')\n",
    "sns.heatmap(df.corr(numeric_only=True), annot=True, cmap=\"viridis\")\n",
    "plt.show()"
   ]
  },
  {
   "cell_type": "code",
   "execution_count": 118,
   "id": "94a7b415",
   "metadata": {},
   "outputs": [
    {
     "data": {
      "text/plain": [
       "<seaborn.axisgrid.PairGrid at 0x26958f27580>"
      ]
     },
     "execution_count": 118,
     "metadata": {},
     "output_type": "execute_result"
    },
    {
     "data": {
      "image/png": "[encoded data removed]",
      "text/plain": [
       "<Figure size 1250x1250 with 30 Axes>"
      ]
     },
     "metadata": {},
     "output_type": "display_data"
    }
   ],
   "source": [
    "sns.pairplot(df)"
   ]
  },
  {
   "cell_type": "code",
   "execution_count": 96,
   "id": "1bfe1a4e",
   "metadata": {},
   "outputs": [
    {
     "data": {
      "image/png": "[encoded data removed]",
      "text/plain": [
       "<Figure size 1500x1300 with 1 Axes>"
      ]
     },
     "metadata": {},
     "output_type": "display_data"
    }
   ],
   "source": [
    "plt.figure(figsize=(15, 13))\n",
    "plt.title(\"Cars fuel type and Transmission\")\n",
    "sns.histplot(data=df, x=\"Fuel_Type\", hue='Transmission')\n",
    "plt.xlabel(\"Fuel_Type\")\n",
    "plt.ylabel(\"Count\")\n",
    "plt.show()"
   ]
  },
  {
   "cell_type": "code",
   "execution_count": 121,
   "id": "eafa7927",
   "metadata": {},
   "outputs": [
    {
     "data": {
      "application/vnd.plotly.v1+json": {
       "config": {
        "plotlyServerURL": "https://plot.ly"
       },
       "data": [
        {
         "alignmentgroup": "True",
         "bingroup": "x",
         "histfunc": "sum",
         "hovertemplate": "Car_Name=%{x}<br>sum of Selling_Price=%{y}<extra></extra>",
         "legendgroup": "ritz",
         "marker": {
          "color": "#636efa",
          "pattern": {
           "shape": ""
          }
         },
         "name": "ritz",
         "offsetgroup": "ritz",
         "orientation": "v",
         "showlegend": true,
         "type": "histogram",
         "x": [
          "ritz",
          "ritz",
          "ritz",
          "ritz"
         ],
         "xaxis": "x",
         "y": [
          3.35,
          3.1,
          2.35,
          2.65
         ],
         "yaxis": "y"
        },
        {
         "alignmentgroup": "True",
         "bingroup": "x",
         "histfunc": "sum",
         "hovertemplate": "Car_Name=%{x}<br>sum of Selling_Price=%{y}<extra></extra>",
         "legendgroup": "sx4",
         "marker": {
          "color": "#EF553B",
          "pattern": {
           "shape": ""
          }
         },
         "name": "sx4",
         "offsetgroup": "sx4",
         "orientation": "v",
         "showlegend": true,
         "type": "histogram",
         "x": [
          "sx4",
          "sx4",
          "sx4",
          "sx4",
          "sx4",
          "sx4"
         ],
         "xaxis": "x",
         "y": [
          4.75,
          2.65,
          4.4,
          2.95,
          2.25,
          1.95
         ],
         "yaxis": "y"
        },
        {
         "alignmentgroup": "True",
         "bingroup": "x",
         "histfunc": "sum",
         "hovertemplate": "Car_Name=%{x}<br>sum of Selling_Price=%{y}<extra></extra>",
         "legendgroup": "ciaz",
         "marker": {
          "color": "#00cc96",
          "pattern": {
           "shape": ""
          }
         },
         "name": "ciaz",
         "offsetgroup": "ciaz",
         "orientation": "v",
         "showlegend": true,
         "type": "histogram",
         "x": [
          "ciaz",
          "ciaz",
          "ciaz",
          "ciaz",
          "ciaz",
          "ciaz",
          "ciaz",
          "ciaz",
          "ciaz"
         ],
         "xaxis": "x",
         "y": [
          7.25,
          6.75,
          8.75,
          7.45,
          6.85,
          7.5,
          7.45,
          7.5,
          7.75
         ],
         "yaxis": "y"
        },
        {
         "alignmentgroup": "True",
         "bingroup": "x",
         "histfunc": "sum",
         "hovertemplate": "Car_Name=%{x}<br>sum of Selling_Price=%{y}<extra></extra>",
         "legendgroup": "wagon r",
         "marker": {
          "color": "#ab63fa",
          "pattern": {
           "shape": ""
          }
         },
         "name": "wagon r",
         "offsetgroup": "wagon r",
         "orientation": "v",
         "showlegend": true,
         "type": "histogram",
         "x": [
          "wagon r",
          "wagon r",
          "wagon r",
          "wagon r"
         ],
         "xaxis": "x",
         "y": [
          2.85,
          3.25,
          2.9,
          1.05
         ],
         "yaxis": "y"
        },
        {
         "alignmentgroup": "True",
         "bingroup": "x",
         "histfunc": "sum",
         "hovertemplate": "Car_Name=%{x}<br>sum of Selling_Price=%{y}<extra></extra>",
         "legendgroup": "swift",
         "marker": {
          "color": "#FFA15A",
          "pattern": {
           "shape": ""
          }
         },
         "name": "swift",
         "offsetgroup": "swift",
         "orientation": "v",
         "showlegend": true,
         "type": "histogram",
         "x": [
          "swift",
          "swift",
          "swift",
          "swift",
          "swift"
         ],
         "xaxis": "x",
         "y": [
          4.6,
          3,
          4.15,
          6,
          4.95
         ],
         "yaxis": "y"
        },
        {
         "alignmentgroup": "True",
         "bingroup": "x",
         "histfunc": "sum",
         "hovertemplate": "Car_Name=%{x}<br>sum of Selling_Price=%{y}<extra></extra>",
         "legendgroup": "vitara brezza",
         "marker": {
          "color": "#19d3f3",
          "pattern": {
           "shape": ""
          }
         },
         "name": "vitara brezza",
         "offsetgroup": "vitara brezza",
         "orientation": "v",
         "showlegend": true,
         "type": "histogram",
         "x": [
          "vitara brezza"
         ],
         "xaxis": "x",
         "y": [
          9.25
         ],
         "yaxis": "y"
        },
        {
         "alignmentgroup": "True",
         "bingroup": "x",
         "histfunc": "sum",
         "hovertemplate": "Car_Name=%{x}<br>sum of Selling_Price=%{y}<extra></extra>",
         "legendgroup": "s cross",
         "marker": {
          "color": "#FF6692",
          "pattern": {
           "shape": ""
          }
         },
         "name": "s cross",
         "offsetgroup": "s cross",
         "orientation": "v",
         "showlegend": true,
         "type": "histogram",
         "x": [
          "s cross"
         ],
         "xaxis": "x",
         "y": [
          6.5
         ],
         "yaxis": "y"
        },
        {
         "alignmentgroup": "True",
         "bingroup": "x",
         "histfunc": "sum",
         "hovertemplate": "Car_Name=%{x}<br>sum of Selling_Price=%{y}<extra></extra>",
         "legendgroup": "alto 800",
         "marker": {
          "color": "#B6E880",
          "pattern": {
           "shape": ""
          }
         },
         "name": "alto 800",
         "offsetgroup": "alto 800",
         "orientation": "v",
         "showlegend": true,
         "type": "histogram",
         "x": [
          "alto 800"
         ],
         "xaxis": "x",
         "y": [
          2.85
         ],
         "yaxis": "y"
        },
        {
         "alignmentgroup": "True",
         "bingroup": "x",
         "histfunc": "sum",
         "hovertemplate": "Car_Name=%{x}<br>sum of Selling_Price=%{y}<extra></extra>",
         "legendgroup": "ertiga",
         "marker": {
          "color": "#FF97FF",
          "pattern": {
           "shape": ""
          }
         },
         "name": "ertiga",
         "offsetgroup": "ertiga",
         "orientation": "v",
         "showlegend": true,
         "type": "histogram",
         "x": [
          "ertiga",
          "ertiga",
          "ertiga",
          "ertiga",
          "ertiga",
          "ertiga"
         ],
         "xaxis": "x",
         "y": [
          6.1,
          7.75,
          7.25,
          7.75,
          6,
          5.8
         ],
         "yaxis": "y"
        },
        {
         "alignmentgroup": "True",
         "bingroup": "x",
         "histfunc": "sum",
         "hovertemplate": "Car_Name=%{x}<br>sum of Selling_Price=%{y}<extra></extra>",
         "legendgroup": "dzire",
         "marker": {
          "color": "#FECB52",
          "pattern": {
           "shape": ""
          }
         },
         "name": "dzire",
         "offsetgroup": "dzire",
         "orientation": "v",
         "showlegend": true,
         "type": "histogram",
         "x": [
          "dzire",
          "dzire",
          "dzire",
          "dzire"
         ],
         "xaxis": "x",
         "y": [
          2.25,
          5.5,
          4.65,
          5.5
         ],
         "yaxis": "y"
        },
        {
         "alignmentgroup": "True",
         "bingroup": "x",
         "histfunc": "sum",
         "hovertemplate": "Car_Name=%{x}<br>sum of Selling_Price=%{y}<extra></extra>",
         "legendgroup": "alto k10",
         "marker": {
          "color": "#636efa",
          "pattern": {
           "shape": ""
          }
         },
         "name": "alto k10",
         "offsetgroup": "alto k10",
         "orientation": "v",
         "showlegend": true,
         "type": "histogram",
         "x": [
          "alto k10",
          "alto k10",
          "alto k10",
          "alto k10",
          "alto k10"
         ],
         "xaxis": "x",
         "y": [
          2.85,
          2.5,
          1.95,
          3,
          2.55
         ],
         "yaxis": "y"
        },
        {
         "alignmentgroup": "True",
         "bingroup": "x",
         "histfunc": "sum",
         "hovertemplate": "Car_Name=%{x}<br>sum of Selling_Price=%{y}<extra></extra>",
         "legendgroup": "ignis",
         "marker": {
          "color": "#EF553B",
          "pattern": {
           "shape": ""
          }
         },
         "name": "ignis",
         "offsetgroup": "ignis",
         "orientation": "v",
         "showlegend": true,
         "type": "histogram",
         "x": [
          "ignis"
         ],
         "xaxis": "x",
         "y": [
          4.9
         ],
         "yaxis": "y"
        },
        {
         "alignmentgroup": "True",
         "bingroup": "x",
         "histfunc": "sum",
         "hovertemplate": "Car_Name=%{x}<br>sum of Selling_Price=%{y}<extra></extra>",
         "legendgroup": "800",
         "marker": {
          "color": "#00cc96",
          "pattern": {
           "shape": ""
          }
         },
         "name": "800",
         "offsetgroup": "800",
         "orientation": "v",
         "showlegend": true,
         "type": "histogram",
         "x": [
          "800"
         ],
         "xaxis": "x",
         "y": [
          0.35
         ],
         "yaxis": "y"
        },
        {
         "alignmentgroup": "True",
         "bingroup": "x",
         "histfunc": "sum",
         "hovertemplate": "Car_Name=%{x}<br>sum of Selling_Price=%{y}<extra></extra>",
         "legendgroup": "baleno",
         "marker": {
          "color": "#ab63fa",
          "pattern": {
           "shape": ""
          }
         },
         "name": "baleno",
         "offsetgroup": "baleno",
         "orientation": "v",
         "showlegend": true,
         "type": "histogram",
         "x": [
          "baleno"
         ],
         "xaxis": "x",
         "y": [
          5.85
         ],
         "yaxis": "y"
        },
        {
         "alignmentgroup": "True",
         "bingroup": "x",
         "histfunc": "sum",
         "hovertemplate": "Car_Name=%{x}<br>sum of Selling_Price=%{y}<extra></extra>",
         "legendgroup": "omni",
         "marker": {
          "color": "#FFA15A",
          "pattern": {
           "shape": ""
          }
         },
         "name": "omni",
         "offsetgroup": "omni",
         "orientation": "v",
         "showlegend": true,
         "type": "histogram",
         "x": [
          "omni"
         ],
         "xaxis": "x",
         "y": [
          1.25
         ],
         "yaxis": "y"
        },
        {
         "alignmentgroup": "True",
         "bingroup": "x",
         "histfunc": "sum",
         "hovertemplate": "Car_Name=%{x}<br>sum of Selling_Price=%{y}<extra></extra>",
         "legendgroup": "fortuner",
         "marker": {
          "color": "#19d3f3",
          "pattern": {
           "shape": ""
          }
         },
         "name": "fortuner",
         "offsetgroup": "fortuner",
         "orientation": "v",
         "showlegend": true,
         "type": "histogram",
         "x": [
          "fortuner",
          "fortuner",
          "fortuner",
          "fortuner",
          "fortuner",
          "fortuner",
          "fortuner",
          "fortuner",
          "fortuner",
          "fortuner",
          "fortuner"
         ],
         "xaxis": "x",
         "y": [
          14.9,
          23,
          16,
          19.99,
          18.75,
          23.5,
          33,
          9.25,
          14.5,
          23,
          9.65
         ],
         "yaxis": "y"
        },
        {
         "alignmentgroup": "True",
         "bingroup": "x",
         "histfunc": "sum",
         "hovertemplate": "Car_Name=%{x}<br>sum of Selling_Price=%{y}<extra></extra>",
         "legendgroup": "innova",
         "marker": {
          "color": "#FF6692",
          "pattern": {
           "shape": ""
          }
         },
         "name": "innova",
         "offsetgroup": "innova",
         "orientation": "v",
         "showlegend": true,
         "type": "histogram",
         "x": [
          "innova",
          "innova",
          "innova",
          "innova",
          "innova",
          "innova",
          "innova",
          "innova",
          "innova"
         ],
         "xaxis": "x",
         "y": [
          18,
          2.75,
          19.75,
          23,
          12.5,
          3.49,
          11.25,
          3.51,
          20.75
         ],
         "yaxis": "y"
        },
        {
         "alignmentgroup": "True",
         "bingroup": "x",
         "histfunc": "sum",
         "hovertemplate": "Car_Name=%{x}<br>sum of Selling_Price=%{y}<extra></extra>",
         "legendgroup": "corolla altis",
         "marker": {
          "color": "#B6E880",
          "pattern": {
           "shape": ""
          }
         },
         "name": "corolla altis",
         "offsetgroup": "corolla altis",
         "orientation": "v",
         "showlegend": true,
         "type": "histogram",
         "x": [
          "corolla altis",
          "corolla altis",
          "corolla altis",
          "corolla altis",
          "corolla altis",
          "corolla altis",
          "corolla altis",
          "corolla altis",
          "corolla altis",
          "corolla altis",
          "corolla altis",
          "corolla altis",
          "corolla altis",
          "corolla altis",
          "corolla altis",
          "corolla altis"
         ],
         "xaxis": "x",
         "y": [
          3.6,
          4.75,
          6.95,
          4.35,
          14.25,
          4.5,
          7.45,
          5.5,
          5.25,
          14.73,
          5.9,
          3.8,
          4,
          5.85,
          17,
          7.05
         ],
         "yaxis": "y"
        },
        {
         "alignmentgroup": "True",
         "bingroup": "x",
         "histfunc": "sum",
         "hovertemplate": "Car_Name=%{x}<br>sum of Selling_Price=%{y}<extra></extra>",
         "legendgroup": "etios cross",
         "marker": {
          "color": "#FF97FF",
          "pattern": {
           "shape": ""
          }
         },
         "name": "etios cross",
         "offsetgroup": "etios cross",
         "orientation": "v",
         "showlegend": true,
         "type": "histogram",
         "x": [
          "etios cross",
          "etios cross",
          "etios cross"
         ],
         "xaxis": "x",
         "y": [
          4.5,
          4.5,
          4.9
         ],
         "yaxis": "y"
        },
        {
         "alignmentgroup": "True",
         "bingroup": "x",
         "histfunc": "sum",
         "hovertemplate": "Car_Name=%{x}<br>sum of Selling_Price=%{y}<extra></extra>",
         "legendgroup": "etios g",
         "marker": {
          "color": "#FECB52",
          "pattern": {
           "shape": ""
          }
         },
         "name": "etios g",
         "offsetgroup": "etios g",
         "orientation": "v",
         "showlegend": true,
         "type": "histogram",
         "x": [
          "etios g",
          "etios g",
          "etios g"
         ],
         "xaxis": "x",
         "y": [
          4.1,
          3.95,
          4.75
         ],
         "yaxis": "y"
        },
        {
         "alignmentgroup": "True",
         "bingroup": "x",
         "histfunc": "sum",
         "hovertemplate": "Car_Name=%{x}<br>sum of Selling_Price=%{y}<extra></extra>",
         "legendgroup": "etios liva",
         "marker": {
          "color": "#636efa",
          "pattern": {
           "shape": ""
          }
         },
         "name": "etios liva",
         "offsetgroup": "etios liva",
         "orientation": "v",
         "showlegend": true,
         "type": "histogram",
         "x": [
          "etios liva",
          "etios liva",
          "etios liva",
          "etios liva"
         ],
         "xaxis": "x",
         "y": [
          4.75,
          3.95,
          2.65,
          3.45
         ],
         "yaxis": "y"
        },
        {
         "alignmentgroup": "True",
         "bingroup": "x",
         "histfunc": "sum",
         "hovertemplate": "Car_Name=%{x}<br>sum of Selling_Price=%{y}<extra></extra>",
         "legendgroup": "corolla",
         "marker": {
          "color": "#EF553B",
          "pattern": {
           "shape": ""
          }
         },
         "name": "corolla",
         "offsetgroup": "corolla",
         "orientation": "v",
         "showlegend": true,
         "type": "histogram",
         "x": [
          "corolla"
         ],
         "xaxis": "x",
         "y": [
          1.5
         ],
         "yaxis": "y"
        },
        {
         "alignmentgroup": "True",
         "bingroup": "x",
         "histfunc": "sum",
         "hovertemplate": "Car_Name=%{x}<br>sum of Selling_Price=%{y}<extra></extra>",
         "legendgroup": "etios gd",
         "marker": {
          "color": "#00cc96",
          "pattern": {
           "shape": ""
          }
         },
         "name": "etios gd",
         "offsetgroup": "etios gd",
         "orientation": "v",
         "showlegend": true,
         "type": "histogram",
         "x": [
          "etios gd"
         ],
         "xaxis": "x",
         "y": [
          4.75
         ],
         "yaxis": "y"
        },
        {
         "alignmentgroup": "True",
         "bingroup": "x",
         "histfunc": "sum",
         "hovertemplate": "Car_Name=%{x}<br>sum of Selling_Price=%{y}<extra></extra>",
         "legendgroup": "camry",
         "marker": {
          "color": "#ab63fa",
          "pattern": {
           "shape": ""
          }
         },
         "name": "camry",
         "offsetgroup": "camry",
         "orientation": "v",
         "showlegend": true,
         "type": "histogram",
         "x": [
          "camry"
         ],
         "xaxis": "x",
         "y": [
          2.5
         ],
         "yaxis": "y"
        },
        {
         "alignmentgroup": "True",
         "bingroup": "x",
         "histfunc": "sum",
         "hovertemplate": "Car_Name=%{x}<br>sum of Selling_Price=%{y}<extra></extra>",
         "legendgroup": "land cruiser",
         "marker": {
          "color": "#FFA15A",
          "pattern": {
           "shape": ""
          }
         },
         "name": "land cruiser",
         "offsetgroup": "land cruiser",
         "orientation": "v",
         "showlegend": true,
         "type": "histogram",
         "x": [
          "land cruiser"
         ],
         "xaxis": "x",
         "y": [
          35
         ],
         "yaxis": "y"
        },
        {
         "alignmentgroup": "True",
         "bingroup": "x",
         "histfunc": "sum",
         "hovertemplate": "Car_Name=%{x}<br>sum of Selling_Price=%{y}<extra></extra>",
         "legendgroup": "Royal Enfield Thunder 500",
         "marker": {
          "color": "#19d3f3",
          "pattern": {
           "shape": ""
          }
         },
         "name": "Royal Enfield Thunder 500",
         "offsetgroup": "Royal Enfield Thunder 500",
         "orientation": "v",
         "showlegend": true,
         "type": "histogram",
         "x": [
          "Royal Enfield Thunder 500",
          "Royal Enfield Thunder 500",
          "Royal Enfield Thunder 500"
         ],
         "xaxis": "x",
         "y": [
          1.75,
          1.1,
          1.05
         ],
         "yaxis": "y"
        },
        {
         "alignmentgroup": "True",
         "bingroup": "x",
         "histfunc": "sum",
         "hovertemplate": "Car_Name=%{x}<br>sum of Selling_Price=%{y}<extra></extra>",
         "legendgroup": "UM Renegade Mojave",
         "marker": {
          "color": "#FF6692",
          "pattern": {
           "shape": ""
          }
         },
         "name": "UM Renegade Mojave",
         "offsetgroup": "UM Renegade Mojave",
         "orientation": "v",
         "showlegend": true,
         "type": "histogram",
         "x": [
          "UM Renegade Mojave"
         ],
         "xaxis": "x",
         "y": [
          1.7
         ],
         "yaxis": "y"
        },
        {
         "alignmentgroup": "True",
         "bingroup": "x",
         "histfunc": "sum",
         "hovertemplate": "Car_Name=%{x}<br>sum of Selling_Price=%{y}<extra></extra>",
         "legendgroup": "KTM RC200",
         "marker": {
          "color": "#B6E880",
          "pattern": {
           "shape": ""
          }
         },
         "name": "KTM RC200",
         "offsetgroup": "KTM RC200",
         "orientation": "v",
         "showlegend": true,
         "type": "histogram",
         "x": [
          "KTM RC200",
          "KTM RC200"
         ],
         "xaxis": "x",
         "y": [
          1.65,
          1.2
         ],
         "yaxis": "y"
        },
        {
         "alignmentgroup": "True",
         "bingroup": "x",
         "histfunc": "sum",
         "hovertemplate": "Car_Name=%{x}<br>sum of Selling_Price=%{y}<extra></extra>",
         "legendgroup": "Bajaj Dominar 400",
         "marker": {
          "color": "#FF97FF",
          "pattern": {
           "shape": ""
          }
         },
         "name": "Bajaj Dominar 400",
         "offsetgroup": "Bajaj Dominar 400",
         "orientation": "v",
         "showlegend": true,
         "type": "histogram",
         "x": [
          "Bajaj Dominar 400"
         ],
         "xaxis": "x",
         "y": [
          1.45
         ],
         "yaxis": "y"
        },
        {
         "alignmentgroup": "True",
         "bingroup": "x",
         "histfunc": "sum",
         "hovertemplate": "Car_Name=%{x}<br>sum of Selling_Price=%{y}<extra></extra>",
         "legendgroup": "Royal Enfield Classic 350",
         "marker": {
          "color": "#FECB52",
          "pattern": {
           "shape": ""
          }
         },
         "name": "Royal Enfield Classic 350",
         "offsetgroup": "Royal Enfield Classic 350",
         "orientation": "v",
         "showlegend": true,
         "type": "histogram",
         "x": [
          "Royal Enfield Classic 350",
          "Royal Enfield Classic 350",
          "Royal Enfield Classic 350",
          "Royal Enfield Classic 350",
          "Royal Enfield Classic 350",
          "Royal Enfield Classic 350",
          "Royal Enfield Classic 350"
         ],
         "xaxis": "x",
         "y": [
          1.35,
          1.2,
          1.15,
          1.11,
          1.1,
          1.1,
          1
         ],
         "yaxis": "y"
        },
        {
         "alignmentgroup": "True",
         "bingroup": "x",
         "histfunc": "sum",
         "hovertemplate": "Car_Name=%{x}<br>sum of Selling_Price=%{y}<extra></extra>",
         "legendgroup": "KTM RC390",
         "marker": {
          "color": "#636efa",
          "pattern": {
           "shape": ""
          }
         },
         "name": "KTM RC390",
         "offsetgroup": "KTM RC390",
         "orientation": "v",
         "showlegend": true,
         "type": "histogram",
         "x": [
          "KTM RC390"
         ],
         "xaxis": "x",
         "y": [
          1.35
         ],
         "yaxis": "y"
        },
        {
         "alignmentgroup": "True",
         "bingroup": "x",
         "histfunc": "sum",
         "hovertemplate": "Car_Name=%{x}<br>sum of Selling_Price=%{y}<extra></extra>",
         "legendgroup": "Hyosung GT250R",
         "marker": {
          "color": "#EF553B",
          "pattern": {
           "shape": ""
          }
         },
         "name": "Hyosung GT250R",
         "offsetgroup": "Hyosung GT250R",
         "orientation": "v",
         "showlegend": true,
         "type": "histogram",
         "x": [
          "Hyosung GT250R"
         ],
         "xaxis": "x",
         "y": [
          1.35
         ],
         "yaxis": "y"
        },
        {
         "alignmentgroup": "True",
         "bingroup": "x",
         "histfunc": "sum",
         "hovertemplate": "Car_Name=%{x}<br>sum of Selling_Price=%{y}<extra></extra>",
         "legendgroup": "Royal Enfield Thunder 350",
         "marker": {
          "color": "#00cc96",
          "pattern": {
           "shape": ""
          }
         },
         "name": "Royal Enfield Thunder 350",
         "offsetgroup": "Royal Enfield Thunder 350",
         "orientation": "v",
         "showlegend": true,
         "type": "histogram",
         "x": [
          "Royal Enfield Thunder 350",
          "Royal Enfield Thunder 350",
          "Royal Enfield Thunder 350",
          "Royal Enfield Thunder 350"
         ],
         "xaxis": "x",
         "y": [
          1.25,
          1.2,
          1.15,
          1.05
         ],
         "yaxis": "y"
        },
        {
         "alignmentgroup": "True",
         "bingroup": "x",
         "histfunc": "sum",
         "hovertemplate": "Car_Name=%{x}<br>sum of Selling_Price=%{y}<extra></extra>",
         "legendgroup": "KTM 390 Duke ",
         "marker": {
          "color": "#ab63fa",
          "pattern": {
           "shape": ""
          }
         },
         "name": "KTM 390 Duke ",
         "offsetgroup": "KTM 390 Duke ",
         "orientation": "v",
         "showlegend": true,
         "type": "histogram",
         "x": [
          "KTM 390 Duke "
         ],
         "xaxis": "x",
         "y": [
          1.15
         ],
         "yaxis": "y"
        },
        {
         "alignmentgroup": "True",
         "bingroup": "x",
         "histfunc": "sum",
         "hovertemplate": "Car_Name=%{x}<br>sum of Selling_Price=%{y}<extra></extra>",
         "legendgroup": "Mahindra Mojo XT300",
         "marker": {
          "color": "#FFA15A",
          "pattern": {
           "shape": ""
          }
         },
         "name": "Mahindra Mojo XT300",
         "offsetgroup": "Mahindra Mojo XT300",
         "orientation": "v",
         "showlegend": true,
         "type": "histogram",
         "x": [
          "Mahindra Mojo XT300"
         ],
         "xaxis": "x",
         "y": [
          1.15
         ],
         "yaxis": "y"
        },
        {
         "alignmentgroup": "True",
         "bingroup": "x",
         "histfunc": "sum",
         "hovertemplate": "Car_Name=%{x}<br>sum of Selling_Price=%{y}<extra></extra>",
         "legendgroup": "Bajaj Pulsar RS200",
         "marker": {
          "color": "#19d3f3",
          "pattern": {
           "shape": ""
          }
         },
         "name": "Bajaj Pulsar RS200",
         "offsetgroup": "Bajaj Pulsar RS200",
         "orientation": "v",
         "showlegend": true,
         "type": "histogram",
         "x": [
          "Bajaj Pulsar RS200"
         ],
         "xaxis": "x",
         "y": [
          1.05
         ],
         "yaxis": "y"
        },
        {
         "alignmentgroup": "True",
         "bingroup": "x",
         "histfunc": "sum",
         "hovertemplate": "Car_Name=%{x}<br>sum of Selling_Price=%{y}<extra></extra>",
         "legendgroup": "Royal Enfield Bullet 350",
         "marker": {
          "color": "#FF6692",
          "pattern": {
           "shape": ""
          }
         },
         "name": "Royal Enfield Bullet 350",
         "offsetgroup": "Royal Enfield Bullet 350",
         "orientation": "v",
         "showlegend": true,
         "type": "histogram",
         "x": [
          "Royal Enfield Bullet 350"
         ],
         "xaxis": "x",
         "y": [
          1.05
         ],
         "yaxis": "y"
        },
        {
         "alignmentgroup": "True",
         "bingroup": "x",
         "histfunc": "sum",
         "hovertemplate": "Car_Name=%{x}<br>sum of Selling_Price=%{y}<extra></extra>",
         "legendgroup": "Royal Enfield Classic 500",
         "marker": {
          "color": "#B6E880",
          "pattern": {
           "shape": ""
          }
         },
         "name": "Royal Enfield Classic 500",
         "offsetgroup": "Royal Enfield Classic 500",
         "orientation": "v",
         "showlegend": true,
         "type": "histogram",
         "x": [
          "Royal Enfield Classic 500",
          "Royal Enfield Classic 500"
         ],
         "xaxis": "x",
         "y": [
          0.95,
          0.9
         ],
         "yaxis": "y"
        },
        {
         "alignmentgroup": "True",
         "bingroup": "x",
         "histfunc": "sum",
         "hovertemplate": "Car_Name=%{x}<br>sum of Selling_Price=%{y}<extra></extra>",
         "legendgroup": "Bajaj Avenger 220",
         "marker": {
          "color": "#FF97FF",
          "pattern": {
           "shape": ""
          }
         },
         "name": "Bajaj Avenger 220",
         "offsetgroup": "Bajaj Avenger 220",
         "orientation": "v",
         "showlegend": true,
         "type": "histogram",
         "x": [
          "Bajaj Avenger 220",
          "Bajaj Avenger 220",
          "Bajaj Avenger 220"
         ],
         "xaxis": "x",
         "y": [
          0.9,
          0.75,
          0.72
         ],
         "yaxis": "y"
        },
        {
         "alignmentgroup": "True",
         "bingroup": "x",
         "histfunc": "sum",
         "hovertemplate": "Car_Name=%{x}<br>sum of Selling_Price=%{y}<extra></extra>",
         "legendgroup": "Bajaj Avenger 150",
         "marker": {
          "color": "#FECB52",
          "pattern": {
           "shape": ""
          }
         },
         "name": "Bajaj Avenger 150",
         "offsetgroup": "Bajaj Avenger 150",
         "orientation": "v",
         "showlegend": true,
         "type": "histogram",
         "x": [
          "Bajaj Avenger 150"
         ],
         "xaxis": "x",
         "y": [
          0.75
         ],
         "yaxis": "y"
        },
        {
         "alignmentgroup": "True",
         "bingroup": "x",
         "histfunc": "sum",
         "hovertemplate": "Car_Name=%{x}<br>sum of Selling_Price=%{y}<extra></extra>",
         "legendgroup": "Honda CB Hornet 160R",
         "marker": {
          "color": "#636efa",
          "pattern": {
           "shape": ""
          }
         },
         "name": "Honda CB Hornet 160R",
         "offsetgroup": "Honda CB Hornet 160R",
         "orientation": "v",
         "showlegend": true,
         "type": "histogram",
         "x": [
          "Honda CB Hornet 160R",
          "Honda CB Hornet 160R",
          "Honda CB Hornet 160R"
         ],
         "xaxis": "x",
         "y": [
          0.8,
          0.75,
          0.6
         ],
         "yaxis": "y"
        },
        {
         "alignmentgroup": "True",
         "bingroup": "x",
         "histfunc": "sum",
         "hovertemplate": "Car_Name=%{x}<br>sum of Selling_Price=%{y}<extra></extra>",
         "legendgroup": "Yamaha FZ S V 2.0",
         "marker": {
          "color": "#EF553B",
          "pattern": {
           "shape": ""
          }
         },
         "name": "Yamaha FZ S V 2.0",
         "offsetgroup": "Yamaha FZ S V 2.0",
         "orientation": "v",
         "showlegend": true,
         "type": "histogram",
         "x": [
          "Yamaha FZ S V 2.0",
          "Yamaha FZ S V 2.0",
          "Yamaha FZ S V 2.0"
         ],
         "xaxis": "x",
         "y": [
          0.78,
          0.55,
          0.48
         ],
         "yaxis": "y"
        },
        {
         "alignmentgroup": "True",
         "bingroup": "x",
         "histfunc": "sum",
         "hovertemplate": "Car_Name=%{x}<br>sum of Selling_Price=%{y}<extra></extra>",
         "legendgroup": "Yamaha FZ 16",
         "marker": {
          "color": "#00cc96",
          "pattern": {
           "shape": ""
          }
         },
         "name": "Yamaha FZ 16",
         "offsetgroup": "Yamaha FZ 16",
         "orientation": "v",
         "showlegend": true,
         "type": "histogram",
         "x": [
          "Yamaha FZ 16"
         ],
         "xaxis": "x",
         "y": [
          0.75
         ],
         "yaxis": "y"
        },
        {
         "alignmentgroup": "True",
         "bingroup": "x",
         "histfunc": "sum",
         "hovertemplate": "Car_Name=%{x}<br>sum of Selling_Price=%{y}<extra></extra>",
         "legendgroup": "TVS Apache RTR 160",
         "marker": {
          "color": "#ab63fa",
          "pattern": {
           "shape": ""
          }
         },
         "name": "TVS Apache RTR 160",
         "offsetgroup": "TVS Apache RTR 160",
         "orientation": "v",
         "showlegend": true,
         "type": "histogram",
         "x": [
          "TVS Apache RTR 160",
          "TVS Apache RTR 160",
          "TVS Apache RTR 160"
         ],
         "xaxis": "x",
         "y": [
          0.65,
          0.6,
          0.42
         ],
         "yaxis": "y"
        },
        {
         "alignmentgroup": "True",
         "bingroup": "x",
         "histfunc": "sum",
         "hovertemplate": "Car_Name=%{x}<br>sum of Selling_Price=%{y}<extra></extra>",
         "legendgroup": "Bajaj Pulsar 150",
         "marker": {
          "color": "#FFA15A",
          "pattern": {
           "shape": ""
          }
         },
         "name": "Bajaj Pulsar 150",
         "offsetgroup": "Bajaj Pulsar 150",
         "orientation": "v",
         "showlegend": true,
         "type": "histogram",
         "x": [
          "Bajaj Pulsar 150",
          "Bajaj Pulsar 150",
          "Bajaj Pulsar 150",
          "Bajaj Pulsar 150"
         ],
         "xaxis": "x",
         "y": [
          0.65,
          0.25,
          0.2,
          0.1
         ],
         "yaxis": "y"
        },
        {
         "alignmentgroup": "True",
         "bingroup": "x",
         "histfunc": "sum",
         "hovertemplate": "Car_Name=%{x}<br>sum of Selling_Price=%{y}<extra></extra>",
         "legendgroup": "Honda CBR 150",
         "marker": {
          "color": "#19d3f3",
          "pattern": {
           "shape": ""
          }
         },
         "name": "Honda CBR 150",
         "offsetgroup": "Honda CBR 150",
         "orientation": "v",
         "showlegend": true,
         "type": "histogram",
         "x": [
          "Honda CBR 150",
          "Honda CBR 150"
         ],
         "xaxis": "x",
         "y": [
          0.65,
          0.6
         ],
         "yaxis": "y"
        },
        {
         "alignmentgroup": "True",
         "bingroup": "x",
         "histfunc": "sum",
         "hovertemplate": "Car_Name=%{x}<br>sum of Selling_Price=%{y}<extra></extra>",
         "legendgroup": "Hero Extreme",
         "marker": {
          "color": "#FF6692",
          "pattern": {
           "shape": ""
          }
         },
         "name": "Hero Extreme",
         "offsetgroup": "Hero Extreme",
         "orientation": "v",
         "showlegend": true,
         "type": "histogram",
         "x": [
          "Hero Extreme",
          "Hero Extreme"
         ],
         "xaxis": "x",
         "y": [
          0.65,
          0.55
         ],
         "yaxis": "y"
        },
        {
         "alignmentgroup": "True",
         "bingroup": "x",
         "histfunc": "sum",
         "hovertemplate": "Car_Name=%{x}<br>sum of Selling_Price=%{y}<extra></extra>",
         "legendgroup": "Bajaj Avenger 220 dtsi",
         "marker": {
          "color": "#B6E880",
          "pattern": {
           "shape": ""
          }
         },
         "name": "Bajaj Avenger 220 dtsi",
         "offsetgroup": "Bajaj Avenger 220 dtsi",
         "orientation": "v",
         "showlegend": true,
         "type": "histogram",
         "x": [
          "Bajaj Avenger 220 dtsi",
          "Bajaj Avenger 220 dtsi"
         ],
         "xaxis": "x",
         "y": [
          0.6,
          0.45
         ],
         "yaxis": "y"
        },
        {
         "alignmentgroup": "True",
         "bingroup": "x",
         "histfunc": "sum",
         "hovertemplate": "Car_Name=%{x}<br>sum of Selling_Price=%{y}<extra></extra>",
         "legendgroup": "Bajaj Avenger 150 street",
         "marker": {
          "color": "#FF97FF",
          "pattern": {
           "shape": ""
          }
         },
         "name": "Bajaj Avenger 150 street",
         "offsetgroup": "Bajaj Avenger 150 street",
         "orientation": "v",
         "showlegend": true,
         "type": "histogram",
         "x": [
          "Bajaj Avenger 150 street"
         ],
         "xaxis": "x",
         "y": [
          0.6
         ],
         "yaxis": "y"
        },
        {
         "alignmentgroup": "True",
         "bingroup": "x",
         "histfunc": "sum",
         "hovertemplate": "Car_Name=%{x}<br>sum of Selling_Price=%{y}<extra></extra>",
         "legendgroup": "Yamaha FZ  v 2.0",
         "marker": {
          "color": "#FECB52",
          "pattern": {
           "shape": ""
          }
         },
         "name": "Yamaha FZ  v 2.0",
         "offsetgroup": "Yamaha FZ  v 2.0",
         "orientation": "v",
         "showlegend": true,
         "type": "histogram",
         "x": [
          "Yamaha FZ  v 2.0",
          "Yamaha FZ  v 2.0"
         ],
         "xaxis": "x",
         "y": [
          0.6,
          0.6
         ],
         "yaxis": "y"
        },
        {
         "alignmentgroup": "True",
         "bingroup": "x",
         "histfunc": "sum",
         "hovertemplate": "Car_Name=%{x}<br>sum of Selling_Price=%{y}<extra></extra>",
         "legendgroup": "Bajaj Pulsar  NS 200",
         "marker": {
          "color": "#636efa",
          "pattern": {
           "shape": ""
          }
         },
         "name": "Bajaj Pulsar  NS 200",
         "offsetgroup": "Bajaj Pulsar  NS 200",
         "orientation": "v",
         "showlegend": true,
         "type": "histogram",
         "x": [
          "Bajaj Pulsar  NS 200"
         ],
         "xaxis": "x",
         "y": [
          0.6
         ],
         "yaxis": "y"
        },
        {
         "alignmentgroup": "True",
         "bingroup": "x",
         "histfunc": "sum",
         "hovertemplate": "Car_Name=%{x}<br>sum of Selling_Price=%{y}<extra></extra>",
         "legendgroup": "Bajaj Pulsar 220 F",
         "marker": {
          "color": "#EF553B",
          "pattern": {
           "shape": ""
          }
         },
         "name": "Bajaj Pulsar 220 F",
         "offsetgroup": "Bajaj Pulsar 220 F",
         "orientation": "v",
         "showlegend": true,
         "type": "histogram",
         "x": [
          "Bajaj Pulsar 220 F",
          "Bajaj Pulsar 220 F"
         ],
         "xaxis": "x",
         "y": [
          0.52,
          0.51
         ],
         "yaxis": "y"
        },
        {
         "alignmentgroup": "True",
         "bingroup": "x",
         "histfunc": "sum",
         "hovertemplate": "Car_Name=%{x}<br>sum of Selling_Price=%{y}<extra></extra>",
         "legendgroup": "TVS Apache RTR 180",
         "marker": {
          "color": "#00cc96",
          "pattern": {
           "shape": ""
          }
         },
         "name": "TVS Apache RTR 180",
         "offsetgroup": "TVS Apache RTR 180",
         "orientation": "v",
         "showlegend": true,
         "type": "histogram",
         "x": [
          "TVS Apache RTR 180",
          "TVS Apache RTR 180"
         ],
         "xaxis": "x",
         "y": [
          0.5,
          0.45
         ],
         "yaxis": "y"
        },
        {
         "alignmentgroup": "True",
         "bingroup": "x",
         "histfunc": "sum",
         "hovertemplate": "Car_Name=%{x}<br>sum of Selling_Price=%{y}<extra></extra>",
         "legendgroup": "Hero Passion X pro",
         "marker": {
          "color": "#ab63fa",
          "pattern": {
           "shape": ""
          }
         },
         "name": "Hero Passion X pro",
         "offsetgroup": "Hero Passion X pro",
         "orientation": "v",
         "showlegend": true,
         "type": "histogram",
         "x": [
          "Hero Passion X pro"
         ],
         "xaxis": "x",
         "y": [
          0.5
         ],
         "yaxis": "y"
        },
        {
         "alignmentgroup": "True",
         "bingroup": "x",
         "histfunc": "sum",
         "hovertemplate": "Car_Name=%{x}<br>sum of Selling_Price=%{y}<extra></extra>",
         "legendgroup": "Bajaj Pulsar NS 200",
         "marker": {
          "color": "#FFA15A",
          "pattern": {
           "shape": ""
          }
         },
         "name": "Bajaj Pulsar NS 200",
         "offsetgroup": "Bajaj Pulsar NS 200",
         "orientation": "v",
         "showlegend": true,
         "type": "histogram",
         "x": [
          "Bajaj Pulsar NS 200",
          "Bajaj Pulsar NS 200",
          "Bajaj Pulsar NS 200"
         ],
         "xaxis": "x",
         "y": [
          0.5,
          0.5,
          0.45
         ],
         "yaxis": "y"
        },
        {
         "alignmentgroup": "True",
         "bingroup": "x",
         "histfunc": "sum",
         "hovertemplate": "Car_Name=%{x}<br>sum of Selling_Price=%{y}<extra></extra>",
         "legendgroup": "Yamaha Fazer ",
         "marker": {
          "color": "#19d3f3",
          "pattern": {
           "shape": ""
          }
         },
         "name": "Yamaha Fazer ",
         "offsetgroup": "Yamaha Fazer ",
         "orientation": "v",
         "showlegend": true,
         "type": "histogram",
         "x": [
          "Yamaha Fazer "
         ],
         "xaxis": "x",
         "y": [
          0.5
         ],
         "yaxis": "y"
        },
        {
         "alignmentgroup": "True",
         "bingroup": "x",
         "histfunc": "sum",
         "hovertemplate": "Car_Name=%{x}<br>sum of Selling_Price=%{y}<extra></extra>",
         "legendgroup": "Honda Activa 4G",
         "marker": {
          "color": "#FF6692",
          "pattern": {
           "shape": ""
          }
         },
         "name": "Honda Activa 4G",
         "offsetgroup": "Honda Activa 4G",
         "orientation": "v",
         "showlegend": true,
         "type": "histogram",
         "x": [
          "Honda Activa 4G",
          "Honda Activa 4G"
         ],
         "xaxis": "x",
         "y": [
          0.48,
          0.45
         ],
         "yaxis": "y"
        },
        {
         "alignmentgroup": "True",
         "bingroup": "x",
         "histfunc": "sum",
         "hovertemplate": "Car_Name=%{x}<br>sum of Selling_Price=%{y}<extra></extra>",
         "legendgroup": "TVS Sport ",
         "marker": {
          "color": "#B6E880",
          "pattern": {
           "shape": ""
          }
         },
         "name": "TVS Sport ",
         "offsetgroup": "TVS Sport ",
         "orientation": "v",
         "showlegend": true,
         "type": "histogram",
         "x": [
          "TVS Sport "
         ],
         "xaxis": "x",
         "y": [
          0.48
         ],
         "yaxis": "y"
        },
        {
         "alignmentgroup": "True",
         "bingroup": "x",
         "histfunc": "sum",
         "hovertemplate": "Car_Name=%{x}<br>sum of Selling_Price=%{y}<extra></extra>",
         "legendgroup": "Honda Dream Yuga ",
         "marker": {
          "color": "#FF97FF",
          "pattern": {
           "shape": ""
          }
         },
         "name": "Honda Dream Yuga ",
         "offsetgroup": "Honda Dream Yuga ",
         "orientation": "v",
         "showlegend": true,
         "type": "histogram",
         "x": [
          "Honda Dream Yuga "
         ],
         "xaxis": "x",
         "y": [
          0.48
         ],
         "yaxis": "y"
        },
        {
         "alignmentgroup": "True",
         "bingroup": "x",
         "histfunc": "sum",
         "hovertemplate": "Car_Name=%{x}<br>sum of Selling_Price=%{y}<extra></extra>",
         "legendgroup": "Bajaj Avenger Street 220",
         "marker": {
          "color": "#FECB52",
          "pattern": {
           "shape": ""
          }
         },
         "name": "Bajaj Avenger Street 220",
         "offsetgroup": "Bajaj Avenger Street 220",
         "orientation": "v",
         "showlegend": true,
         "type": "histogram",
         "x": [
          "Bajaj Avenger Street 220"
         ],
         "xaxis": "x",
         "y": [
          0.45
         ],
         "yaxis": "y"
        },
        {
         "alignmentgroup": "True",
         "bingroup": "x",
         "histfunc": "sum",
         "hovertemplate": "Car_Name=%{x}<br>sum of Selling_Price=%{y}<extra></extra>",
         "legendgroup": "Hero Splender iSmart",
         "marker": {
          "color": "#636efa",
          "pattern": {
           "shape": ""
          }
         },
         "name": "Hero Splender iSmart",
         "offsetgroup": "Hero Splender iSmart",
         "orientation": "v",
         "showlegend": true,
         "type": "histogram",
         "x": [
          "Hero Splender iSmart",
          "Hero Splender iSmart"
         ],
         "xaxis": "x",
         "y": [
          0.45,
          0.4
         ],
         "yaxis": "y"
        },
        {
         "alignmentgroup": "True",
         "bingroup": "x",
         "histfunc": "sum",
         "hovertemplate": "Car_Name=%{x}<br>sum of Selling_Price=%{y}<extra></extra>",
         "legendgroup": "Activa 3g",
         "marker": {
          "color": "#EF553B",
          "pattern": {
           "shape": ""
          }
         },
         "name": "Activa 3g",
         "offsetgroup": "Activa 3g",
         "orientation": "v",
         "showlegend": true,
         "type": "histogram",
         "x": [
          "Activa 3g",
          "Activa 3g"
         ],
         "xaxis": "x",
         "y": [
          0.45,
          0.17
         ],
         "yaxis": "y"
        },
        {
         "alignmentgroup": "True",
         "bingroup": "x",
         "histfunc": "sum",
         "hovertemplate": "Car_Name=%{x}<br>sum of Selling_Price=%{y}<extra></extra>",
         "legendgroup": "Hero Passion Pro",
         "marker": {
          "color": "#00cc96",
          "pattern": {
           "shape": ""
          }
         },
         "name": "Hero Passion Pro",
         "offsetgroup": "Hero Passion Pro",
         "orientation": "v",
         "showlegend": true,
         "type": "histogram",
         "x": [
          "Hero Passion Pro",
          "Hero Passion Pro"
         ],
         "xaxis": "x",
         "y": [
          0.45,
          0.4
         ],
         "yaxis": "y"
        },
        {
         "alignmentgroup": "True",
         "bingroup": "x",
         "histfunc": "sum",
         "hovertemplate": "Car_Name=%{x}<br>sum of Selling_Price=%{y}<extra></extra>",
         "legendgroup": "Honda CB Trigger",
         "marker": {
          "color": "#ab63fa",
          "pattern": {
           "shape": ""
          }
         },
         "name": "Honda CB Trigger",
         "offsetgroup": "Honda CB Trigger",
         "orientation": "v",
         "showlegend": true,
         "type": "histogram",
         "x": [
          "Honda CB Trigger"
         ],
         "xaxis": "x",
         "y": [
          0.42
         ],
         "yaxis": "y"
        },
        {
         "alignmentgroup": "True",
         "bingroup": "x",
         "histfunc": "sum",
         "hovertemplate": "Car_Name=%{x}<br>sum of Selling_Price=%{y}<extra></extra>",
         "legendgroup": "Yamaha FZ S ",
         "marker": {
          "color": "#FFA15A",
          "pattern": {
           "shape": ""
          }
         },
         "name": "Yamaha FZ S ",
         "offsetgroup": "Yamaha FZ S ",
         "orientation": "v",
         "showlegend": true,
         "type": "histogram",
         "x": [
          "Yamaha FZ S "
         ],
         "xaxis": "x",
         "y": [
          0.4
         ],
         "yaxis": "y"
        },
        {
         "alignmentgroup": "True",
         "bingroup": "x",
         "histfunc": "sum",
         "hovertemplate": "Car_Name=%{x}<br>sum of Selling_Price=%{y}<extra></extra>",
         "legendgroup": "Bajaj Pulsar 135 LS",
         "marker": {
          "color": "#19d3f3",
          "pattern": {
           "shape": ""
          }
         },
         "name": "Bajaj Pulsar 135 LS",
         "offsetgroup": "Bajaj Pulsar 135 LS",
         "orientation": "v",
         "showlegend": true,
         "type": "histogram",
         "x": [
          "Bajaj Pulsar 135 LS"
         ],
         "xaxis": "x",
         "y": [
          0.4
         ],
         "yaxis": "y"
        },
        {
         "alignmentgroup": "True",
         "bingroup": "x",
         "histfunc": "sum",
         "hovertemplate": "Car_Name=%{x}<br>sum of Selling_Price=%{y}<extra></extra>",
         "legendgroup": "Activa 4g",
         "marker": {
          "color": "#FF6692",
          "pattern": {
           "shape": ""
          }
         },
         "name": "Activa 4g",
         "offsetgroup": "Activa 4g",
         "orientation": "v",
         "showlegend": true,
         "type": "histogram",
         "x": [
          "Activa 4g"
         ],
         "xaxis": "x",
         "y": [
          0.4
         ],
         "yaxis": "y"
        },
        {
         "alignmentgroup": "True",
         "bingroup": "x",
         "histfunc": "sum",
         "hovertemplate": "Car_Name=%{x}<br>sum of Selling_Price=%{y}<extra></extra>",
         "legendgroup": "Honda CB Unicorn",
         "marker": {
          "color": "#B6E880",
          "pattern": {
           "shape": ""
          }
         },
         "name": "Honda CB Unicorn",
         "offsetgroup": "Honda CB Unicorn",
         "orientation": "v",
         "showlegend": true,
         "type": "histogram",
         "x": [
          "Honda CB Unicorn"
         ],
         "xaxis": "x",
         "y": [
          0.38
         ],
         "yaxis": "y"
        },
        {
         "alignmentgroup": "True",
         "bingroup": "x",
         "histfunc": "sum",
         "hovertemplate": "Car_Name=%{x}<br>sum of Selling_Price=%{y}<extra></extra>",
         "legendgroup": "Hero Honda CBZ extreme",
         "marker": {
          "color": "#FF97FF",
          "pattern": {
           "shape": ""
          }
         },
         "name": "Hero Honda CBZ extreme",
         "offsetgroup": "Hero Honda CBZ extreme",
         "orientation": "v",
         "showlegend": true,
         "type": "histogram",
         "x": [
          "Hero Honda CBZ extreme"
         ],
         "xaxis": "x",
         "y": [
          0.38
         ],
         "yaxis": "y"
        },
        {
         "alignmentgroup": "True",
         "bingroup": "x",
         "histfunc": "sum",
         "hovertemplate": "Car_Name=%{x}<br>sum of Selling_Price=%{y}<extra></extra>",
         "legendgroup": "Honda Karizma",
         "marker": {
          "color": "#FECB52",
          "pattern": {
           "shape": ""
          }
         },
         "name": "Honda Karizma",
         "offsetgroup": "Honda Karizma",
         "orientation": "v",
         "showlegend": true,
         "type": "histogram",
         "x": [
          "Honda Karizma",
          "Honda Karizma"
         ],
         "xaxis": "x",
         "y": [
          0.35,
          0.31
         ],
         "yaxis": "y"
        },
        {
         "alignmentgroup": "True",
         "bingroup": "x",
         "histfunc": "sum",
         "hovertemplate": "Car_Name=%{x}<br>sum of Selling_Price=%{y}<extra></extra>",
         "legendgroup": "Honda Activa 125",
         "marker": {
          "color": "#636efa",
          "pattern": {
           "shape": ""
          }
         },
         "name": "Honda Activa 125",
         "offsetgroup": "Honda Activa 125",
         "orientation": "v",
         "showlegend": true,
         "type": "histogram",
         "x": [
          "Honda Activa 125"
         ],
         "xaxis": "x",
         "y": [
          0.35
         ],
         "yaxis": "y"
        },
        {
         "alignmentgroup": "True",
         "bingroup": "x",
         "histfunc": "sum",
         "hovertemplate": "Car_Name=%{x}<br>sum of Selling_Price=%{y}<extra></extra>",
         "legendgroup": "TVS Jupyter",
         "marker": {
          "color": "#EF553B",
          "pattern": {
           "shape": ""
          }
         },
         "name": "TVS Jupyter",
         "offsetgroup": "TVS Jupyter",
         "orientation": "v",
         "showlegend": true,
         "type": "histogram",
         "x": [
          "TVS Jupyter"
         ],
         "xaxis": "x",
         "y": [
          0.35
         ],
         "yaxis": "y"
        },
        {
         "alignmentgroup": "True",
         "bingroup": "x",
         "histfunc": "sum",
         "hovertemplate": "Car_Name=%{x}<br>sum of Selling_Price=%{y}<extra></extra>",
         "legendgroup": "Hero Honda Passion Pro",
         "marker": {
          "color": "#00cc96",
          "pattern": {
           "shape": ""
          }
         },
         "name": "Hero Honda Passion Pro",
         "offsetgroup": "Hero Honda Passion Pro",
         "orientation": "v",
         "showlegend": true,
         "type": "histogram",
         "x": [
          "Hero Honda Passion Pro"
         ],
         "xaxis": "x",
         "y": [
          0.3
         ],
         "yaxis": "y"
        },
        {
         "alignmentgroup": "True",
         "bingroup": "x",
         "histfunc": "sum",
         "hovertemplate": "Car_Name=%{x}<br>sum of Selling_Price=%{y}<extra></extra>",
         "legendgroup": "Hero Splender Plus",
         "marker": {
          "color": "#ab63fa",
          "pattern": {
           "shape": ""
          }
         },
         "name": "Hero Splender Plus",
         "offsetgroup": "Hero Splender Plus",
         "orientation": "v",
         "showlegend": true,
         "type": "histogram",
         "x": [
          "Hero Splender Plus"
         ],
         "xaxis": "x",
         "y": [
          0.3
         ],
         "yaxis": "y"
        },
        {
         "alignmentgroup": "True",
         "bingroup": "x",
         "histfunc": "sum",
         "hovertemplate": "Car_Name=%{x}<br>sum of Selling_Price=%{y}<extra></extra>",
         "legendgroup": "Honda CB Shine",
         "marker": {
          "color": "#FFA15A",
          "pattern": {
           "shape": ""
          }
         },
         "name": "Honda CB Shine",
         "offsetgroup": "Honda CB Shine",
         "orientation": "v",
         "showlegend": true,
         "type": "histogram",
         "x": [
          "Honda CB Shine",
          "Honda CB Shine"
         ],
         "xaxis": "x",
         "y": [
          0.3,
          0.12
         ],
         "yaxis": "y"
        },
        {
         "alignmentgroup": "True",
         "bingroup": "x",
         "histfunc": "sum",
         "hovertemplate": "Car_Name=%{x}<br>sum of Selling_Price=%{y}<extra></extra>",
         "legendgroup": "Bajaj Discover 100",
         "marker": {
          "color": "#19d3f3",
          "pattern": {
           "shape": ""
          }
         },
         "name": "Bajaj Discover 100",
         "offsetgroup": "Bajaj Discover 100",
         "orientation": "v",
         "showlegend": true,
         "type": "histogram",
         "x": [
          "Bajaj Discover 100"
         ],
         "xaxis": "x",
         "y": [
          0.27
         ],
         "yaxis": "y"
        },
        {
         "alignmentgroup": "True",
         "bingroup": "x",
         "histfunc": "sum",
         "hovertemplate": "Car_Name=%{x}<br>sum of Selling_Price=%{y}<extra></extra>",
         "legendgroup": "Suzuki Access 125",
         "marker": {
          "color": "#FF6692",
          "pattern": {
           "shape": ""
          }
         },
         "name": "Suzuki Access 125",
         "offsetgroup": "Suzuki Access 125",
         "orientation": "v",
         "showlegend": true,
         "type": "histogram",
         "x": [
          "Suzuki Access 125"
         ],
         "xaxis": "x",
         "y": [
          0.25
         ],
         "yaxis": "y"
        },
        {
         "alignmentgroup": "True",
         "bingroup": "x",
         "histfunc": "sum",
         "hovertemplate": "Car_Name=%{x}<br>sum of Selling_Price=%{y}<extra></extra>",
         "legendgroup": "TVS Wego",
         "marker": {
          "color": "#B6E880",
          "pattern": {
           "shape": ""
          }
         },
         "name": "TVS Wego",
         "offsetgroup": "TVS Wego",
         "orientation": "v",
         "showlegend": true,
         "type": "histogram",
         "x": [
          "TVS Wego"
         ],
         "xaxis": "x",
         "y": [
          0.25
         ],
         "yaxis": "y"
        },
        {
         "alignmentgroup": "True",
         "bingroup": "x",
         "histfunc": "sum",
         "hovertemplate": "Car_Name=%{x}<br>sum of Selling_Price=%{y}<extra></extra>",
         "legendgroup": "Honda CB twister",
         "marker": {
          "color": "#FF97FF",
          "pattern": {
           "shape": ""
          }
         },
         "name": "Honda CB twister",
         "offsetgroup": "Honda CB twister",
         "orientation": "v",
         "showlegend": true,
         "type": "histogram",
         "x": [
          "Honda CB twister",
          "Honda CB twister"
         ],
         "xaxis": "x",
         "y": [
          0.25,
          0.16
         ],
         "yaxis": "y"
        },
        {
         "alignmentgroup": "True",
         "bingroup": "x",
         "histfunc": "sum",
         "hovertemplate": "Car_Name=%{x}<br>sum of Selling_Price=%{y}<extra></extra>",
         "legendgroup": "Hero Glamour",
         "marker": {
          "color": "#FECB52",
          "pattern": {
           "shape": ""
          }
         },
         "name": "Hero Glamour",
         "offsetgroup": "Hero Glamour",
         "orientation": "v",
         "showlegend": true,
         "type": "histogram",
         "x": [
          "Hero Glamour"
         ],
         "xaxis": "x",
         "y": [
          0.25
         ],
         "yaxis": "y"
        },
        {
         "alignmentgroup": "True",
         "bingroup": "x",
         "histfunc": "sum",
         "hovertemplate": "Car_Name=%{x}<br>sum of Selling_Price=%{y}<extra></extra>",
         "legendgroup": "Hero Super Splendor",
         "marker": {
          "color": "#636efa",
          "pattern": {
           "shape": ""
          }
         },
         "name": "Hero Super Splendor",
         "offsetgroup": "Hero Super Splendor",
         "orientation": "v",
         "showlegend": true,
         "type": "histogram",
         "x": [
          "Hero Super Splendor"
         ],
         "xaxis": "x",
         "y": [
          0.2
         ],
         "yaxis": "y"
        },
        {
         "alignmentgroup": "True",
         "bingroup": "x",
         "histfunc": "sum",
         "hovertemplate": "Car_Name=%{x}<br>sum of Selling_Price=%{y}<extra></extra>",
         "legendgroup": "Bajaj Discover 125",
         "marker": {
          "color": "#EF553B",
          "pattern": {
           "shape": ""
          }
         },
         "name": "Bajaj Discover 125",
         "offsetgroup": "Bajaj Discover 125",
         "orientation": "v",
         "showlegend": true,
         "type": "histogram",
         "x": [
          "Bajaj Discover 125",
          "Bajaj Discover 125"
         ],
         "xaxis": "x",
         "y": [
          0.2,
          0.15
         ],
         "yaxis": "y"
        },
        {
         "alignmentgroup": "True",
         "bingroup": "x",
         "histfunc": "sum",
         "hovertemplate": "Car_Name=%{x}<br>sum of Selling_Price=%{y}<extra></extra>",
         "legendgroup": "Hero Hunk",
         "marker": {
          "color": "#00cc96",
          "pattern": {
           "shape": ""
          }
         },
         "name": "Hero Hunk",
         "offsetgroup": "Hero Hunk",
         "orientation": "v",
         "showlegend": true,
         "type": "histogram",
         "x": [
          "Hero Hunk"
         ],
         "xaxis": "x",
         "y": [
          0.2
         ],
         "yaxis": "y"
        },
        {
         "alignmentgroup": "True",
         "bingroup": "x",
         "histfunc": "sum",
         "hovertemplate": "Car_Name=%{x}<br>sum of Selling_Price=%{y}<extra></extra>",
         "legendgroup": "Hero  Ignitor Disc",
         "marker": {
          "color": "#ab63fa",
          "pattern": {
           "shape": ""
          }
         },
         "name": "Hero  Ignitor Disc",
         "offsetgroup": "Hero  Ignitor Disc",
         "orientation": "v",
         "showlegend": true,
         "type": "histogram",
         "x": [
          "Hero  Ignitor Disc"
         ],
         "xaxis": "x",
         "y": [
          0.2
         ],
         "yaxis": "y"
        },
        {
         "alignmentgroup": "True",
         "bingroup": "x",
         "histfunc": "sum",
         "hovertemplate": "Car_Name=%{x}<br>sum of Selling_Price=%{y}<extra></extra>",
         "legendgroup": "Hero  CBZ Xtreme",
         "marker": {
          "color": "#FFA15A",
          "pattern": {
           "shape": ""
          }
         },
         "name": "Hero  CBZ Xtreme",
         "offsetgroup": "Hero  CBZ Xtreme",
         "orientation": "v",
         "showlegend": true,
         "type": "histogram",
         "x": [
          "Hero  CBZ Xtreme"
         ],
         "xaxis": "x",
         "y": [
          0.2
         ],
         "yaxis": "y"
        },
        {
         "alignmentgroup": "True",
         "bingroup": "x",
         "histfunc": "sum",
         "hovertemplate": "Car_Name=%{x}<br>sum of Selling_Price=%{y}<extra></extra>",
         "legendgroup": "Bajaj  ct 100",
         "marker": {
          "color": "#19d3f3",
          "pattern": {
           "shape": ""
          }
         },
         "name": "Bajaj  ct 100",
         "offsetgroup": "Bajaj  ct 100",
         "orientation": "v",
         "showlegend": true,
         "type": "histogram",
         "x": [
          "Bajaj  ct 100"
         ],
         "xaxis": "x",
         "y": [
          0.18
         ],
         "yaxis": "y"
        },
        {
         "alignmentgroup": "True",
         "bingroup": "x",
         "histfunc": "sum",
         "hovertemplate": "Car_Name=%{x}<br>sum of Selling_Price=%{y}<extra></extra>",
         "legendgroup": "i20",
         "marker": {
          "color": "#FF6692",
          "pattern": {
           "shape": ""
          }
         },
         "name": "i20",
         "offsetgroup": "i20",
         "orientation": "v",
         "showlegend": true,
         "type": "histogram",
         "x": [
          "i20",
          "i20",
          "i20",
          "i20",
          "i20",
          "i20",
          "i20",
          "i20",
          "i20"
         ],
         "xaxis": "x",
         "y": [
          3.25,
          7.9,
          2.9,
          4.5,
          6,
          3.1,
          6.25,
          3.75,
          5.25
         ],
         "yaxis": "y"
        },
        {
         "alignmentgroup": "True",
         "bingroup": "x",
         "histfunc": "sum",
         "hovertemplate": "Car_Name=%{x}<br>sum of Selling_Price=%{y}<extra></extra>",
         "legendgroup": "grand i10",
         "marker": {
          "color": "#B6E880",
          "pattern": {
           "shape": ""
          }
         },
         "name": "grand i10",
         "offsetgroup": "grand i10",
         "orientation": "v",
         "showlegend": true,
         "type": "histogram",
         "x": [
          "grand i10",
          "grand i10",
          "grand i10",
          "grand i10",
          "grand i10",
          "grand i10",
          "grand i10",
          "grand i10"
         ],
         "xaxis": "x",
         "y": [
          4.4,
          5.25,
          5.15,
          4.85,
          5.25,
          5.25,
          3.9,
          5.5
         ],
         "yaxis": "y"
        },
        {
         "alignmentgroup": "True",
         "bingroup": "x",
         "histfunc": "sum",
         "hovertemplate": "Car_Name=%{x}<br>sum of Selling_Price=%{y}<extra></extra>",
         "legendgroup": "i10",
         "marker": {
          "color": "#FF97FF",
          "pattern": {
           "shape": ""
          }
         },
         "name": "i10",
         "offsetgroup": "i10",
         "orientation": "v",
         "showlegend": true,
         "type": "histogram",
         "x": [
          "i10",
          "i10",
          "i10",
          "i10",
          "i10"
         ],
         "xaxis": "x",
         "y": [
          2.95,
          3.1,
          2.7,
          2.55,
          4
         ],
         "yaxis": "y"
        },
        {
         "alignmentgroup": "True",
         "bingroup": "x",
         "histfunc": "sum",
         "hovertemplate": "Car_Name=%{x}<br>sum of Selling_Price=%{y}<extra></extra>",
         "legendgroup": "eon",
         "marker": {
          "color": "#FECB52",
          "pattern": {
           "shape": ""
          }
         },
         "name": "eon",
         "offsetgroup": "eon",
         "orientation": "v",
         "showlegend": true,
         "type": "histogram",
         "x": [
          "eon",
          "eon",
          "eon",
          "eon",
          "eon",
          "eon"
         ],
         "xaxis": "x",
         "y": [
          2.75,
          2.9,
          3.15,
          3.5,
          3.1,
          2
         ],
         "yaxis": "y"
        },
        {
         "alignmentgroup": "True",
         "bingroup": "x",
         "histfunc": "sum",
         "hovertemplate": "Car_Name=%{x}<br>sum of Selling_Price=%{y}<extra></extra>",
         "legendgroup": "xcent",
         "marker": {
          "color": "#636efa",
          "pattern": {
           "shape": ""
          }
         },
         "name": "xcent",
         "offsetgroup": "xcent",
         "orientation": "v",
         "showlegend": true,
         "type": "histogram",
         "x": [
          "xcent",
          "xcent",
          "xcent"
         ],
         "xaxis": "x",
         "y": [
          5.75,
          4.75,
          4.4
         ],
         "yaxis": "y"
        },
        {
         "alignmentgroup": "True",
         "bingroup": "x",
         "histfunc": "sum",
         "hovertemplate": "Car_Name=%{x}<br>sum of Selling_Price=%{y}<extra></extra>",
         "legendgroup": "elantra",
         "marker": {
          "color": "#EF553B",
          "pattern": {
           "shape": ""
          }
         },
         "name": "elantra",
         "offsetgroup": "elantra",
         "orientation": "v",
         "showlegend": true,
         "type": "histogram",
         "x": [
          "elantra",
          "elantra"
         ],
         "xaxis": "x",
         "y": [
          11.75,
          11.45
         ],
         "yaxis": "y"
        },
        {
         "alignmentgroup": "True",
         "bingroup": "x",
         "histfunc": "sum",
         "hovertemplate": "Car_Name=%{x}<br>sum of Selling_Price=%{y}<extra></extra>",
         "legendgroup": "creta",
         "marker": {
          "color": "#00cc96",
          "pattern": {
           "shape": ""
          }
         },
         "name": "creta",
         "offsetgroup": "creta",
         "orientation": "v",
         "showlegend": true,
         "type": "histogram",
         "x": [
          "creta",
          "creta",
          "creta"
         ],
         "xaxis": "x",
         "y": [
          11.25,
          11.25,
          12.9
         ],
         "yaxis": "y"
        },
        {
         "alignmentgroup": "True",
         "bingroup": "x",
         "histfunc": "sum",
         "hovertemplate": "Car_Name=%{x}<br>sum of Selling_Price=%{y}<extra></extra>",
         "legendgroup": "verna",
         "marker": {
          "color": "#ab63fa",
          "pattern": {
           "shape": ""
          }
         },
         "name": "verna",
         "offsetgroup": "verna",
         "orientation": "v",
         "showlegend": true,
         "type": "histogram",
         "x": [
          "verna",
          "verna",
          "verna",
          "verna",
          "verna",
          "verna",
          "verna",
          "verna",
          "verna",
          "verna",
          "verna",
          "verna",
          "verna",
          "verna"
         ],
         "xaxis": "x",
         "y": [
          4.5,
          6.45,
          4.5,
          8.25,
          5.11,
          4.95,
          6.15,
          9.25,
          9.1,
          4.8,
          5.35,
          5.95,
          5.2,
          5.95
         ],
         "yaxis": "y"
        },
        {
         "alignmentgroup": "True",
         "bingroup": "x",
         "histfunc": "sum",
         "hovertemplate": "Car_Name=%{x}<br>sum of Selling_Price=%{y}<extra></extra>",
         "legendgroup": "city",
         "marker": {
          "color": "#FFA15A",
          "pattern": {
           "shape": ""
          }
         },
         "name": "city",
         "offsetgroup": "city",
         "orientation": "v",
         "showlegend": true,
         "type": "histogram",
         "x": [
          "city",
          "city",
          "city",
          "city",
          "city",
          "city",
          "city",
          "city",
          "city",
          "city",
          "city",
          "city",
          "city",
          "city",
          "city",
          "city",
          "city",
          "city",
          "city",
          "city",
          "city",
          "city",
          "city",
          "city",
          "city",
          "city"
         ],
         "xaxis": "x",
         "y": [
          5,
          7.2,
          5.25,
          10.25,
          8.5,
          8.4,
          9.15,
          8.35,
          6.7,
          4.1,
          3,
          7.5,
          10.9,
          8.65,
          9.7,
          6.25,
          2.1,
          8.25,
          8.99,
          8.4,
          10.11,
          3.25,
          8.55,
          9.5,
          3.35,
          11.5
         ],
         "yaxis": "y"
        },
        {
         "alignmentgroup": "True",
         "bingroup": "x",
         "histfunc": "sum",
         "hovertemplate": "Car_Name=%{x}<br>sum of Selling_Price=%{y}<extra></extra>",
         "legendgroup": "brio",
         "marker": {
          "color": "#19d3f3",
          "pattern": {
           "shape": ""
          }
         },
         "name": "brio",
         "offsetgroup": "brio",
         "orientation": "v",
         "showlegend": true,
         "type": "histogram",
         "x": [
          "brio",
          "brio",
          "brio",
          "brio",
          "brio",
          "brio",
          "brio",
          "brio",
          "brio",
          "brio"
         ],
         "xaxis": "x",
         "y": [
          5.4,
          3,
          5.5,
          4.8,
          5.3,
          5.25,
          3.5,
          5.4,
          4,
          5.3
         ],
         "yaxis": "y"
        },
        {
         "alignmentgroup": "True",
         "bingroup": "x",
         "histfunc": "sum",
         "hovertemplate": "Car_Name=%{x}<br>sum of Selling_Price=%{y}<extra></extra>",
         "legendgroup": "amaze",
         "marker": {
          "color": "#FF6692",
          "pattern": {
           "shape": ""
          }
         },
         "name": "amaze",
         "offsetgroup": "amaze",
         "orientation": "v",
         "showlegend": true,
         "type": "histogram",
         "x": [
          "amaze",
          "amaze",
          "amaze",
          "amaze",
          "amaze",
          "amaze",
          "amaze"
         ],
         "xaxis": "x",
         "y": [
          3.9,
          4,
          4,
          3.65,
          5.75,
          4.5,
          3.75
         ],
         "yaxis": "y"
        },
        {
         "alignmentgroup": "True",
         "bingroup": "x",
         "histfunc": "sum",
         "hovertemplate": "Car_Name=%{x}<br>sum of Selling_Price=%{y}<extra></extra>",
         "legendgroup": "jazz",
         "marker": {
          "color": "#B6E880",
          "pattern": {
           "shape": ""
          }
         },
         "name": "jazz",
         "offsetgroup": "jazz",
         "orientation": "v",
         "showlegend": true,
         "type": "histogram",
         "x": [
          "jazz",
          "jazz",
          "jazz",
          "jazz",
          "jazz",
          "jazz",
          "jazz"
         ],
         "xaxis": "x",
         "y": [
          6.6,
          6.5,
          2.25,
          6,
          7.4,
          5.65,
          6.4
         ],
         "yaxis": "y"
        }
       ],
       "layout": {
        "barmode": "relative",
        "legend": {
         "title": {
          "text": "Car_Name"
         },
         "tracegroupgap": 0
        },
        "template": {
         "data": {
          "bar": [
           {
            "error_x": {
             "color": "#2a3f5f"
            },
            "error_y": {
             "color": "#2a3f5f"
            },
            "marker": {
             "line": {
              "color": "#E5ECF6",
              "width": 0.5
             },
             "pattern": {
              "fillmode": "overlay",
              "size": 10,
              "solidity": 0.2
             }
            },
            "type": "bar"
           }
          ],
          "barpolar": [
           {
            "marker": {
             "line": {
              "color": "#E5ECF6",
              "width": 0.5
             },
             "pattern": {
              "fillmode": "overlay",
              "size": 10,
              "solidity": 0.2
             }
            },
            "type": "barpolar"
           }
          ],
          "carpet": [
           {
            "aaxis": {
             "endlinecolor": "#2a3f5f",
             "gridcolor": "white",
             "linecolor": "white",
             "minorgridcolor": "white",
             "startlinecolor": "#2a3f5f"
            },
            "baxis": {
             "endlinecolor": "#2a3f5f",
             "gridcolor": "white",
             "linecolor": "white",
             "minorgridcolor": "white",
             "startlinecolor": "#2a3f5f"
            },
            "type": "carpet"
           }
          ],
          "choropleth": [
           {
            "colorbar": {
             "outlinewidth": 0,
             "ticks": ""
            },
            "type": "choropleth"
           }
          ],
          "contour": [
           {
            "colorbar": {
             "outlinewidth": 0,
             "ticks": ""
            },
            "colorscale": [
             [
              0,
              "#0d0887"
             ],
             [
              0.1111111111111111,
              "#46039f"
             ],
             [
              0.2222222222222222,
              "#7201a8"
             ],
             [
              0.3333333333333333,
              "#9c179e"
             ],
             [
              0.4444444444444444,
              "#bd3786"
             ],
             [
              0.5555555555555556,
              "#d8576b"
             ],
             [
              0.6666666666666666,
              "#ed7953"
             ],
             [
              0.7777777777777778,
              "#fb9f3a"
             ],
             [
              0.8888888888888888,
              "#fdca26"
             ],
             [
              1,
              "#f0f921"
             ]
            ],
            "type": "contour"
           }
          ],
          "contourcarpet": [
           {
            "colorbar": {
             "outlinewidth": 0,
             "ticks": ""
            },
            "type": "contourcarpet"
           }
          ],
          "heatmap": [
           {
            "colorbar": {
             "outlinewidth": 0,
             "ticks": ""
            },
            "colorscale": [
             [
              0,
              "#0d0887"
             ],
             [
              0.1111111111111111,
              "#46039f"
             ],
             [
              0.2222222222222222,
              "#7201a8"
             ],
             [
              0.3333333333333333,
              "#9c179e"
             ],
             [
              0.4444444444444444,
              "#bd3786"
             ],
             [
              0.5555555555555556,
              "#d8576b"
             ],
             [
              0.6666666666666666,
              "#ed7953"
             ],
             [
              0.7777777777777778,
              "#fb9f3a"
             ],
             [
              0.8888888888888888,
              "#fdca26"
             ],
             [
              1,
              "#f0f921"
             ]
            ],
            "type": "heatmap"
           }
          ],
          "heatmapgl": [
           {
            "colorbar": {
             "outlinewidth": 0,
             "ticks": ""
            },
            "colorscale": [
             [
              0,
              "#0d0887"
             ],
             [
              0.1111111111111111,
              "#46039f"
             ],
             [
              0.2222222222222222,
              "#7201a8"
             ],
             [
              0.3333333333333333,
              "#9c179e"
             ],
             [
              0.4444444444444444,
              "#bd3786"
             ],
             [
              0.5555555555555556,
              "#d8576b"
             ],
             [
              0.6666666666666666,
              "#ed7953"
             ],
             [
              0.7777777777777778,
              "#fb9f3a"
             ],
             [
              0.8888888888888888,
              "#fdca26"
             ],
             [
              1,
              "#f0f921"
             ]
            ],
            "type": "heatmapgl"
           }
          ],
          "histogram": [
           {
            "marker": {
             "pattern": {
              "fillmode": "overlay",
              "size": 10,
              "solidity": 0.2
             }
            },
            "type": "histogram"
           }
          ],
          "histogram2d": [
           {
            "colorbar": {
             "outlinewidth": 0,
             "ticks": ""
            },
            "colorscale": [
             [
              0,
              "#0d0887"
             ],
             [
              0.1111111111111111,
              "#46039f"
             ],
             [
              0.2222222222222222,
              "#7201a8"
             ],
             [
              0.3333333333333333,
              "#9c179e"
             ],
             [
              0.4444444444444444,
              "#bd3786"
             ],
             [
              0.5555555555555556,
              "#d8576b"
             ],
             [
              0.6666666666666666,
              "#ed7953"
             ],
             [
              0.7777777777777778,
              "#fb9f3a"
             ],
             [
              0.8888888888888888,
              "#fdca26"
             ],
             [
              1,
              "#f0f921"
             ]
            ],
            "type": "histogram2d"
           }
          ],
          "histogram2dcontour": [
           {
            "colorbar": {
             "outlinewidth": 0,
             "ticks": ""
            },
            "colorscale": [
             [
              0,
              "#0d0887"
             ],
             [
              0.1111111111111111,
              "#46039f"
             ],
             [
              0.2222222222222222,
              "#7201a8"
             ],
             [
              0.3333333333333333,
              "#9c179e"
             ],
             [
              0.4444444444444444,
              "#bd3786"
             ],
             [
              0.5555555555555556,
              "#d8576b"
             ],
             [
              0.6666666666666666,
              "#ed7953"
             ],
             [
              0.7777777777777778,
              "#fb9f3a"
             ],
             [
              0.8888888888888888,
              "#fdca26"
             ],
             [
              1,
              "#f0f921"
             ]
            ],
            "type": "histogram2dcontour"
           }
          ],
          "mesh3d": [
           {
            "colorbar": {
             "outlinewidth": 0,
             "ticks": ""
            },
            "type": "mesh3d"
           }
          ],
          "parcoords": [
           {
            "line": {
             "colorbar": {
              "outlinewidth": 0,
              "ticks": ""
             }
            },
            "type": "parcoords"
           }
          ],
          "pie": [
           {
            "automargin": true,
            "type": "pie"
           }
          ],
          "scatter": [
           {
            "fillpattern": {
             "fillmode": "overlay",
             "size": 10,
             "solidity": 0.2
            },
            "type": "scatter"
           }
          ],
          "scatter3d": [
           {
            "line": {
             "colorbar": {
              "outlinewidth": 0,
              "ticks": ""
             }
            },
            "marker": {
             "colorbar": {
              "outlinewidth": 0,
              "ticks": ""
             }
            },
            "type": "scatter3d"
           }
          ],
          "scattercarpet": [
           {
            "marker": {
             "colorbar": {
              "outlinewidth": 0,
              "ticks": ""
             }
            },
            "type": "scattercarpet"
           }
          ],
          "scattergeo": [
           {
            "marker": {
             "colorbar": {
              "outlinewidth": 0,
              "ticks": ""
             }
            },
            "type": "scattergeo"
           }
          ],
          "scattergl": [
           {
            "marker": {
             "colorbar": {
              "outlinewidth": 0,
              "ticks": ""
             }
            },
            "type": "scattergl"
           }
          ],
          "scattermapbox": [
           {
            "marker": {
             "colorbar": {
              "outlinewidth": 0,
              "ticks": ""
             }
            },
            "type": "scattermapbox"
           }
          ],
          "scatterpolar": [
           {
            "marker": {
             "colorbar": {
              "outlinewidth": 0,
              "ticks": ""
             }
            },
            "type": "scatterpolar"
           }
          ],
          "scatterpolargl": [
           {
            "marker": {
             "colorbar": {
              "outlinewidth": 0,
              "ticks": ""
             }
            },
            "type": "scatterpolargl"
           }
          ],
          "scatterternary": [
           {
            "marker": {
             "colorbar": {
              "outlinewidth": 0,
              "ticks": ""
             }
            },
            "type": "scatterternary"
           }
          ],
          "surface": [
           {
            "colorbar": {
             "outlinewidth": 0,
             "ticks": ""
            },
            "colorscale": [
             [
              0,
              "#0d0887"
             ],
             [
              0.1111111111111111,
              "#46039f"
             ],
             [
              0.2222222222222222,
              "#7201a8"
             ],
             [
              0.3333333333333333,
              "#9c179e"
             ],
             [
              0.4444444444444444,
              "#bd3786"
             ],
             [
              0.5555555555555556,
              "#d8576b"
             ],
             [
              0.6666666666666666,
              "#ed7953"
             ],
             [
              0.7777777777777778,
              "#fb9f3a"
             ],
             [
              0.8888888888888888,
              "#fdca26"
             ],
             [
              1,
              "#f0f921"
             ]
            ],
            "type": "surface"
           }
          ],
          "table": [
           {
            "cells": {
             "fill": {
              "color": "#EBF0F8"
             },
             "line": {
              "color": "white"
             }
            },
            "header": {
             "fill": {
              "color": "#C8D4E3"
             },
             "line": {
              "color": "white"
             }
            },
            "type": "table"
           }
          ]
         },
         "layout": {
          "annotationdefaults": {
           "arrowcolor": "#2a3f5f",
           "arrowhead": 0,
           "arrowwidth": 1
          },
          "autotypenumbers": "strict",
          "coloraxis": {
           "colorbar": {
            "outlinewidth": 0,
            "ticks": ""
           }
          },
          "colorscale": {
           "diverging": [
            [
             0,
             "#8e0152"
            ],
            [
             0.1,
             "#c51b7d"
            ],
            [
             0.2,
             "#de77ae"
            ],
            [
             0.3,
             "#f1b6da"
            ],
            [
             0.4,
             "#fde0ef"
            ],
            [
             0.5,
             "#f7f7f7"
            ],
            [
             0.6,
             "#e6f5d0"
            ],
            [
             0.7,
             "#b8e186"
            ],
            [
             0.8,
             "#7fbc41"
            ],
            [
             0.9,
             "#4d9221"
            ],
            [
             1,
             "#276419"
            ]
           ],
           "sequential": [
            [
             0,
             "#0d0887"
            ],
            [
             0.1111111111111111,
             "#46039f"
            ],
            [
             0.2222222222222222,
             "#7201a8"
            ],
            [
             0.3333333333333333,
             "#9c179e"
            ],
            [
             0.4444444444444444,
             "#bd3786"
            ],
            [
             0.5555555555555556,
             "#d8576b"
            ],
            [
             0.6666666666666666,
             "#ed7953"
            ],
            [
             0.7777777777777778,
             "#fb9f3a"
            ],
            [
             0.8888888888888888,
             "#fdca26"
            ],
            [
             1,
             "#f0f921"
            ]
           ],
           "sequentialminus": [
            [
             0,
             "#0d0887"
            ],
            [
             0.1111111111111111,
             "#46039f"
            ],
            [
             0.2222222222222222,
             "#7201a8"
            ],
            [
             0.3333333333333333,
             "#9c179e"
            ],
            [
             0.4444444444444444,
             "#bd3786"
            ],
            [
             0.5555555555555556,
             "#d8576b"
            ],
            [
             0.6666666666666666,
             "#ed7953"
            ],
            [
             0.7777777777777778,
             "#fb9f3a"
            ],
            [
             0.8888888888888888,
             "#fdca26"
            ],
            [
             1,
             "#f0f921"
            ]
           ]
          },
          "colorway": [
           "#636efa",
           "#EF553B",
           "#00cc96",
           "#ab63fa",
           "#FFA15A",
           "#19d3f3",
           "#FF6692",
           "#B6E880",
           "#FF97FF",
           "#FECB52"
          ],
          "font": {
           "color": "#2a3f5f"
          },
          "geo": {
           "bgcolor": "white",
           "lakecolor": "white",
           "landcolor": "#E5ECF6",
           "showlakes": true,
           "showland": true,
           "subunitcolor": "white"
          },
          "hoverlabel": {
           "align": "left"
          },
          "hovermode": "closest",
          "mapbox": {
           "style": "light"
          },
          "paper_bgcolor": "white",
          "plot_bgcolor": "#E5ECF6",
          "polar": {
           "angularaxis": {
            "gridcolor": "white",
            "linecolor": "white",
            "ticks": ""
           },
           "bgcolor": "#E5ECF6",
           "radialaxis": {
            "gridcolor": "white",
            "linecolor": "white",
            "ticks": ""
           }
          },
          "scene": {
           "xaxis": {
            "backgroundcolor": "#E5ECF6",
            "gridcolor": "white",
            "gridwidth": 2,
            "linecolor": "white",
            "showbackground": true,
            "ticks": "",
            "zerolinecolor": "white"
           },
           "yaxis": {
            "backgroundcolor": "#E5ECF6",
            "gridcolor": "white",
            "gridwidth": 2,
            "linecolor": "white",
            "showbackground": true,
            "ticks": "",
            "zerolinecolor": "white"
           },
           "zaxis": {
            "backgroundcolor": "#E5ECF6",
            "gridcolor": "white",
            "gridwidth": 2,
            "linecolor": "white",
            "showbackground": true,
            "ticks": "",
            "zerolinecolor": "white"
           }
          },
          "shapedefaults": {
           "line": {
            "color": "#2a3f5f"
           }
          },
          "ternary": {
           "aaxis": {
            "gridcolor": "white",
            "linecolor": "white",
            "ticks": ""
           },
           "baxis": {
            "gridcolor": "white",
            "linecolor": "white",
            "ticks": ""
           },
           "bgcolor": "#E5ECF6",
           "caxis": {
            "gridcolor": "white",
            "linecolor": "white",
            "ticks": ""
           }
          },
          "title": {
           "x": 0.05
          },
          "xaxis": {
           "automargin": true,
           "gridcolor": "white",
           "linecolor": "white",
           "ticks": "",
           "title": {
            "standoff": 15
           },
           "zerolinecolor": "white",
           "zerolinewidth": 2
          },
          "yaxis": {
           "automargin": true,
           "gridcolor": "white",
           "linecolor": "white",
           "ticks": "",
           "title": {
            "standoff": 15
           },
           "zerolinecolor": "white",
           "zerolinewidth": 2
          }
         }
        },
        "title": {
         "text": "Selling price(Car_name wise) Histogram"
        },
        "xaxis": {
         "anchor": "y",
         "categoryarray": [
          "ritz",
          "sx4",
          "ciaz",
          "wagon r",
          "swift",
          "vitara brezza",
          "s cross",
          "alto 800",
          "ertiga",
          "dzire",
          "alto k10",
          "ignis",
          "800",
          "baleno",
          "omni",
          "fortuner",
          "innova",
          "corolla altis",
          "etios cross",
          "etios g",
          "etios liva",
          "corolla",
          "etios gd",
          "camry",
          "land cruiser",
          "Royal Enfield Thunder 500",
          "UM Renegade Mojave",
          "KTM RC200",
          "Bajaj Dominar 400",
          "Royal Enfield Classic 350",
          "KTM RC390",
          "Hyosung GT250R",
          "Royal Enfield Thunder 350",
          "KTM 390 Duke ",
          "Mahindra Mojo XT300",
          "Bajaj Pulsar RS200",
          "Royal Enfield Bullet 350",
          "Royal Enfield Classic 500",
          "Bajaj Avenger 220",
          "Bajaj Avenger 150",
          "Honda CB Hornet 160R",
          "Yamaha FZ S V 2.0",
          "Yamaha FZ 16",
          "TVS Apache RTR 160",
          "Bajaj Pulsar 150",
          "Honda CBR 150",
          "Hero Extreme",
          "Bajaj Avenger 220 dtsi",
          "Bajaj Avenger 150 street",
          "Yamaha FZ  v 2.0",
          "Bajaj Pulsar  NS 200",
          "Bajaj Pulsar 220 F",
          "TVS Apache RTR 180",
          "Hero Passion X pro",
          "Bajaj Pulsar NS 200",
          "Yamaha Fazer ",
          "Honda Activa 4G",
          "TVS Sport ",
          "Honda Dream Yuga ",
          "Bajaj Avenger Street 220",
          "Hero Splender iSmart",
          "Activa 3g",
          "Hero Passion Pro",
          "Honda CB Trigger",
          "Yamaha FZ S ",
          "Bajaj Pulsar 135 LS",
          "Activa 4g",
          "Honda CB Unicorn",
          "Hero Honda CBZ extreme",
          "Honda Karizma",
          "Honda Activa 125",
          "TVS Jupyter",
          "Hero Honda Passion Pro",
          "Hero Splender Plus",
          "Honda CB Shine",
          "Bajaj Discover 100",
          "Suzuki Access 125",
          "TVS Wego",
          "Honda CB twister",
          "Hero Glamour",
          "Hero Super Splendor",
          "Bajaj Discover 125",
          "Hero Hunk",
          "Hero  Ignitor Disc",
          "Hero  CBZ Xtreme",
          "Bajaj  ct 100",
          "i20",
          "grand i10",
          "i10",
          "eon",
          "xcent",
          "elantra",
          "creta",
          "verna",
          "city",
          "brio",
          "amaze",
          "jazz"
         ],
         "categoryorder": "array",
         "domain": [
          0,
          1
         ],
         "title": {
          "text": "Car_Name"
         }
        },
        "yaxis": {
         "anchor": "x",
         "domain": [
          0,
          1
         ],
         "title": {
          "text": "sum of Selling_Price"
         }
        }
       }
      },
      "text/html": [
       "<div>                            <div id=\"d7da3902-348a-4071-9a18-6c6a4aebdeb8\" class=\"plotly-graph-div\" style=\"height:525px; width:100%;\"></div>            <script type=\"text/javascript\">                require([\"plotly\"], function(Plotly) {                    window.PLOTLYENV=window.PLOTLYENV || {};                                    if (document.getElementById(\"d7da3902-348a-4071-9a18-6c6a4aebdeb8\")) {                    Plotly.newPlot(                        \"d7da3902-348a-4071-9a18-6c6a4aebdeb8\",                        [{\"alignmentgroup\":\"True\",\"bingroup\":\"x\",\"histfunc\":\"sum\",\"hovertemplate\":\"Car_Name=%{x}<br>sum of Selling_Price=%{y}<extra></extra>\",\"legendgroup\":\"ritz\",\"marker\":{\"color\":\"#636efa\",\"pattern\":{\"shape\":\"\"}},\"name\":\"ritz\",\"offsetgroup\":\"ritz\",\"orientation\":\"v\",\"showlegend\":true,\"x\":[\"ritz\",\"ritz\",\"ritz\",\"ritz\"],\"xaxis\":\"x\",\"y\":[3.35,3.1,2.35,2.65],\"yaxis\":\"y\",\"type\":\"histogram\"},{\"alignmentgroup\":\"True\",\"bingroup\":\"x\",\"histfunc\":\"sum\",\"hovertemplate\":\"Car_Name=%{x}<br>sum of Selling_Price=%{y}<extra></extra>\",\"legendgroup\":\"sx4\",\"marker\":{\"color\":\"#EF553B\",\"pattern\":{\"shape\":\"\"}},\"name\":\"sx4\",\"offsetgroup\":\"sx4\",\"orientation\":\"v\",\"showlegend\":true,\"x\":[\"sx4\",\"sx4\",\"sx4\",\"sx4\",\"sx4\",\"sx4\"],\"xaxis\":\"x\",\"y\":[4.75,2.65,4.4,2.95,2.25,1.95],\"yaxis\":\"y\",\"type\":\"histogram\"},{\"alignmentgroup\":\"True\",\"bingroup\":\"x\",\"histfunc\":\"sum\",\"hovertemplate\":\"Car_Name=%{x}<br>sum of Selling_Price=%{y}<extra></extra>\",\"legendgroup\":\"ciaz\",\"marker\":{\"color\":\"#00cc96\",\"pattern\":{\"shape\":\"\"}},\"name\":\"ciaz\",\"offsetgroup\":\"ciaz\",\"orientation\":\"v\",\"showlegend\":true,\"x\":[\"ciaz\",\"ciaz\",\"ciaz\",\"ciaz\",\"ciaz\",\"ciaz\",\"ciaz\",\"ciaz\",\"ciaz\"],\"xaxis\":\"x\",\"y\":[7.25,6.75,8.75,7.45,6.85,7.5,7.45,7.5,7.75],\"yaxis\":\"y\",\"type\":\"histogram\"},{\"alignmentgroup\":\"True\",\"bingroup\":\"x\",\"histfunc\":\"sum\",\"hovertemplate\":\"Car_Name=%{x}<br>sum of Selling_Price=%{y}<extra></extra>\",\"legendgroup\":\"wagon r\",\"marker\":{\"color\":\"#ab63fa\",\"pattern\":{\"shape\":\"\"}},\"name\":\"wagon r\",\"offsetgroup\":\"wagon r\",\"orientation\":\"v\",\"showlegend\":true,\"x\":[\"wagon r\",\"wagon r\",\"wagon r\",\"wagon r\"],\"xaxis\":\"x\",\"y\":[2.85,3.25,2.9,1.05],\"yaxis\":\"y\",\"type\":\"histogram\"},{\"alignmentgroup\":\"True\",\"bingroup\":\"x\",\"histfunc\":\"sum\",\"hovertemplate\":\"Car_Name=%{x}<br>sum of Selling_Price=%{y}<extra></extra>\",\"legendgroup\":\"swift\",\"marker\":{\"color\":\"#FFA15A\",\"pattern\":{\"shape\":\"\"}},\"name\":\"swift\",\"offsetgroup\":\"swift\",\"orientation\":\"v\",\"showlegend\":true,\"x\":[\"swift\",\"swift\",\"swift\",\"swift\",\"swift\"],\"xaxis\":\"x\",\"y\":[4.6,3.0,4.15,6.0,4.95],\"yaxis\":\"y\",\"type\":\"histogram\"},{\"alignmentgroup\":\"True\",\"bingroup\":\"x\",\"histfunc\":\"sum\",\"hovertemplate\":\"Car_Name=%{x}<br>sum of Selling_Price=%{y}<extra></extra>\",\"legendgroup\":\"vitara brezza\",\"marker\":{\"color\":\"#19d3f3\",\"pattern\":{\"shape\":\"\"}},\"name\":\"vitara brezza\",\"offsetgroup\":\"vitara brezza\",\"orientation\":\"v\",\"showlegend\":true,\"x\":[\"vitara brezza\"],\"xaxis\":\"x\",\"y\":[9.25],\"yaxis\":\"y\",\"type\":\"histogram\"},{\"alignmentgroup\":\"True\",\"bingroup\":\"x\",\"histfunc\":\"sum\",\"hovertemplate\":\"Car_Name=%{x}<br>sum of Selling_Price=%{y}<extra></extra>\",\"legendgroup\":\"s cross\",\"marker\":{\"color\":\"#FF6692\",\"pattern\":{\"shape\":\"\"}},\"name\":\"s cross\",\"offsetgroup\":\"s cross\",\"orientation\":\"v\",\"showlegend\":true,\"x\":[\"s cross\"],\"xaxis\":\"x\",\"y\":[6.5],\"yaxis\":\"y\",\"type\":\"histogram\"},{\"alignmentgroup\":\"True\",\"bingroup\":\"x\",\"histfunc\":\"sum\",\"hovertemplate\":\"Car_Name=%{x}<br>sum of Selling_Price=%{y}<extra></extra>\",\"legendgroup\":\"alto 800\",\"marker\":{\"color\":\"#B6E880\",\"pattern\":{\"shape\":\"\"}},\"name\":\"alto 800\",\"offsetgroup\":\"alto 800\",\"orientation\":\"v\",\"showlegend\":true,\"x\":[\"alto 800\"],\"xaxis\":\"x\",\"y\":[2.85],\"yaxis\":\"y\",\"type\":\"histogram\"},{\"alignmentgroup\":\"True\",\"bingroup\":\"x\",\"histfunc\":\"sum\",\"hovertemplate\":\"Car_Name=%{x}<br>sum of Selling_Price=%{y}<extra></extra>\",\"legendgroup\":\"ertiga\",\"marker\":{\"color\":\"#FF97FF\",\"pattern\":{\"shape\":\"\"}},\"name\":\"ertiga\",\"offsetgroup\":\"ertiga\",\"orientation\":\"v\",\"showlegend\":true,\"x\":[\"ertiga\",\"ertiga\",\"ertiga\",\"ertiga\",\"ertiga\",\"ertiga\"],\"xaxis\":\"x\",\"y\":[6.1,7.75,7.25,7.75,6.0,5.8],\"yaxis\":\"y\",\"type\":\"histogram\"},{\"alignmentgroup\":\"True\",\"bingroup\":\"x\",\"histfunc\":\"sum\",\"hovertemplate\":\"Car_Name=%{x}<br>sum of Selling_Price=%{y}<extra></extra>\",\"legendgroup\":\"dzire\",\"marker\":{\"color\":\"#FECB52\",\"pattern\":{\"shape\":\"\"}},\"name\":\"dzire\",\"offsetgroup\":\"dzire\",\"orientation\":\"v\",\"showlegend\":true,\"x\":[\"dzire\",\"dzire\",\"dzire\",\"dzire\"],\"xaxis\":\"x\",\"y\":[2.25,5.5,4.65,5.5],\"yaxis\":\"y\",\"type\":\"histogram\"},{\"alignmentgroup\":\"True\",\"bingroup\":\"x\",\"histfunc\":\"sum\",\"hovertemplate\":\"Car_Name=%{x}<br>sum of Selling_Price=%{y}<extra></extra>\",\"legendgroup\":\"alto k10\",\"marker\":{\"color\":\"#636efa\",\"pattern\":{\"shape\":\"\"}},\"name\":\"alto k10\",\"offsetgroup\":\"alto k10\",\"orientation\":\"v\",\"showlegend\":true,\"x\":[\"alto k10\",\"alto k10\",\"alto k10\",\"alto k10\",\"alto k10\"],\"xaxis\":\"x\",\"y\":[2.85,2.5,1.95,3.0,2.55],\"yaxis\":\"y\",\"type\":\"histogram\"},{\"alignmentgroup\":\"True\",\"bingroup\":\"x\",\"histfunc\":\"sum\",\"hovertemplate\":\"Car_Name=%{x}<br>sum of Selling_Price=%{y}<extra></extra>\",\"legendgroup\":\"ignis\",\"marker\":{\"color\":\"#EF553B\",\"pattern\":{\"shape\":\"\"}},\"name\":\"ignis\",\"offsetgroup\":\"ignis\",\"orientation\":\"v\",\"showlegend\":true,\"x\":[\"ignis\"],\"xaxis\":\"x\",\"y\":[4.9],\"yaxis\":\"y\",\"type\":\"histogram\"},{\"alignmentgroup\":\"True\",\"bingroup\":\"x\",\"histfunc\":\"sum\",\"hovertemplate\":\"Car_Name=%{x}<br>sum of Selling_Price=%{y}<extra></extra>\",\"legendgroup\":\"800\",\"marker\":{\"color\":\"#00cc96\",\"pattern\":{\"shape\":\"\"}},\"name\":\"800\",\"offsetgroup\":\"800\",\"orientation\":\"v\",\"showlegend\":true,\"x\":[\"800\"],\"xaxis\":\"x\",\"y\":[0.35],\"yaxis\":\"y\",\"type\":\"histogram\"},{\"alignmentgroup\":\"True\",\"bingroup\":\"x\",\"histfunc\":\"sum\",\"hovertemplate\":\"Car_Name=%{x}<br>sum of Selling_Price=%{y}<extra></extra>\",\"legendgroup\":\"baleno\",\"marker\":{\"color\":\"#ab63fa\",\"pattern\":{\"shape\":\"\"}},\"name\":\"baleno\",\"offsetgroup\":\"baleno\",\"orientation\":\"v\",\"showlegend\":true,\"x\":[\"baleno\"],\"xaxis\":\"x\",\"y\":[5.85],\"yaxis\":\"y\",\"type\":\"histogram\"},{\"alignmentgroup\":\"True\",\"bingroup\":\"x\",\"histfunc\":\"sum\",\"hovertemplate\":\"Car_Name=%{x}<br>sum of Selling_Price=%{y}<extra></extra>\",\"legendgroup\":\"omni\",\"marker\":{\"color\":\"#FFA15A\",\"pattern\":{\"shape\":\"\"}},\"name\":\"omni\",\"offsetgroup\":\"omni\",\"orientation\":\"v\",\"showlegend\":true,\"x\":[\"omni\"],\"xaxis\":\"x\",\"y\":[1.25],\"yaxis\":\"y\",\"type\":\"histogram\"},{\"alignmentgroup\":\"True\",\"bingroup\":\"x\",\"histfunc\":\"sum\",\"hovertemplate\":\"Car_Name=%{x}<br>sum of Selling_Price=%{y}<extra></extra>\",\"legendgroup\":\"fortuner\",\"marker\":{\"color\":\"#19d3f3\",\"pattern\":{\"shape\":\"\"}},\"name\":\"fortuner\",\"offsetgroup\":\"fortuner\",\"orientation\":\"v\",\"showlegend\":true,\"x\":[\"fortuner\",\"fortuner\",\"fortuner\",\"fortuner\",\"fortuner\",\"fortuner\",\"fortuner\",\"fortuner\",\"fortuner\",\"fortuner\",\"fortuner\"],\"xaxis\":\"x\",\"y\":[14.9,23.0,16.0,19.99,18.75,23.5,33.0,9.25,14.5,23.0,9.65],\"yaxis\":\"y\",\"type\":\"histogram\"},{\"alignmentgroup\":\"True\",\"bingroup\":\"x\",\"histfunc\":\"sum\",\"hovertemplate\":\"Car_Name=%{x}<br>sum of Selling_Price=%{y}<extra></extra>\",\"legendgroup\":\"innova\",\"marker\":{\"color\":\"#FF6692\",\"pattern\":{\"shape\":\"\"}},\"name\":\"innova\",\"offsetgroup\":\"innova\",\"orientation\":\"v\",\"showlegend\":true,\"x\":[\"innova\",\"innova\",\"innova\",\"innova\",\"innova\",\"innova\",\"innova\",\"innova\",\"innova\"],\"xaxis\":\"x\",\"y\":[18.0,2.75,19.75,23.0,12.5,3.49,11.25,3.51,20.75],\"yaxis\":\"y\",\"type\":\"histogram\"},{\"alignmentgroup\":\"True\",\"bingroup\":\"x\",\"histfunc\":\"sum\",\"hovertemplate\":\"Car_Name=%{x}<br>sum of Selling_Price=%{y}<extra></extra>\",\"legendgroup\":\"corolla altis\",\"marker\":{\"color\":\"#B6E880\",\"pattern\":{\"shape\":\"\"}},\"name\":\"corolla altis\",\"offsetgroup\":\"corolla altis\",\"orientation\":\"v\",\"showlegend\":true,\"x\":[\"corolla altis\",\"corolla altis\",\"corolla altis\",\"corolla altis\",\"corolla altis\",\"corolla altis\",\"corolla altis\",\"corolla altis\",\"corolla altis\",\"corolla altis\",\"corolla altis\",\"corolla altis\",\"corolla altis\",\"corolla altis\",\"corolla altis\",\"corolla altis\"],\"xaxis\":\"x\",\"y\":[3.6,4.75,6.95,4.35,14.25,4.5,7.45,5.5,5.25,14.73,5.9,3.8,4.0,5.85,17.0,7.05],\"yaxis\":\"y\",\"type\":\"histogram\"},{\"alignmentgroup\":\"True\",\"bingroup\":\"x\",\"histfunc\":\"sum\",\"hovertemplate\":\"Car_Name=%{x}<br>sum of Selling_Price=%{y}<extra></extra>\",\"legendgroup\":\"etios cross\",\"marker\":{\"color\":\"#FF97FF\",\"pattern\":{\"shape\":\"\"}},\"name\":\"etios cross\",\"offsetgroup\":\"etios cross\",\"orientation\":\"v\",\"showlegend\":true,\"x\":[\"etios cross\",\"etios cross\",\"etios cross\"],\"xaxis\":\"x\",\"y\":[4.5,4.5,4.9],\"yaxis\":\"y\",\"type\":\"histogram\"},{\"alignmentgroup\":\"True\",\"bingroup\":\"x\",\"histfunc\":\"sum\",\"hovertemplate\":\"Car_Name=%{x}<br>sum of Selling_Price=%{y}<extra></extra>\",\"legendgroup\":\"etios g\",\"marker\":{\"color\":\"#FECB52\",\"pattern\":{\"shape\":\"\"}},\"name\":\"etios g\",\"offsetgroup\":\"etios g\",\"orientation\":\"v\",\"showlegend\":true,\"x\":[\"etios g\",\"etios g\",\"etios g\"],\"xaxis\":\"x\",\"y\":[4.1,3.95,4.75],\"yaxis\":\"y\",\"type\":\"histogram\"},{\"alignmentgroup\":\"True\",\"bingroup\":\"x\",\"histfunc\":\"sum\",\"hovertemplate\":\"Car_Name=%{x}<br>sum of Selling_Price=%{y}<extra></extra>\",\"legendgroup\":\"etios liva\",\"marker\":{\"color\":\"#636efa\",\"pattern\":{\"shape\":\"\"}},\"name\":\"etios liva\",\"offsetgroup\":\"etios liva\",\"orientation\":\"v\",\"showlegend\":true,\"x\":[\"etios liva\",\"etios liva\",\"etios liva\",\"etios liva\"],\"xaxis\":\"x\",\"y\":[4.75,3.95,2.65,3.45],\"yaxis\":\"y\",\"type\":\"histogram\"},{\"alignmentgroup\":\"True\",\"bingroup\":\"x\",\"histfunc\":\"sum\",\"hovertemplate\":\"Car_Name=%{x}<br>sum of Selling_Price=%{y}<extra></extra>\",\"legendgroup\":\"corolla\",\"marker\":{\"color\":\"#EF553B\",\"pattern\":{\"shape\":\"\"}},\"name\":\"corolla\",\"offsetgroup\":\"corolla\",\"orientation\":\"v\",\"showlegend\":true,\"x\":[\"corolla\"],\"xaxis\":\"x\",\"y\":[1.5],\"yaxis\":\"y\",\"type\":\"histogram\"},{\"alignmentgroup\":\"True\",\"bingroup\":\"x\",\"histfunc\":\"sum\",\"hovertemplate\":\"Car_Name=%{x}<br>sum of Selling_Price=%{y}<extra></extra>\",\"legendgroup\":\"etios gd\",\"marker\":{\"color\":\"#00cc96\",\"pattern\":{\"shape\":\"\"}},\"name\":\"etios gd\",\"offsetgroup\":\"etios gd\",\"orientation\":\"v\",\"showlegend\":true,\"x\":[\"etios gd\"],\"xaxis\":\"x\",\"y\":[4.75],\"yaxis\":\"y\",\"type\":\"histogram\"},{\"alignmentgroup\":\"True\",\"bingroup\":\"x\",\"histfunc\":\"sum\",\"hovertemplate\":\"Car_Name=%{x}<br>sum of Selling_Price=%{y}<extra></extra>\",\"legendgroup\":\"camry\",\"marker\":{\"color\":\"#ab63fa\",\"pattern\":{\"shape\":\"\"}},\"name\":\"camry\",\"offsetgroup\":\"camry\",\"orientation\":\"v\",\"showlegend\":true,\"x\":[\"camry\"],\"xaxis\":\"x\",\"y\":[2.5],\"yaxis\":\"y\",\"type\":\"histogram\"},{\"alignmentgroup\":\"True\",\"bingroup\":\"x\",\"histfunc\":\"sum\",\"hovertemplate\":\"Car_Name=%{x}<br>sum of Selling_Price=%{y}<extra></extra>\",\"legendgroup\":\"land cruiser\",\"marker\":{\"color\":\"#FFA15A\",\"pattern\":{\"shape\":\"\"}},\"name\":\"land cruiser\",\"offsetgroup\":\"land cruiser\",\"orientation\":\"v\",\"showlegend\":true,\"x\":[\"land cruiser\"],\"xaxis\":\"x\",\"y\":[35.0],\"yaxis\":\"y\",\"type\":\"histogram\"},{\"alignmentgroup\":\"True\",\"bingroup\":\"x\",\"histfunc\":\"sum\",\"hovertemplate\":\"Car_Name=%{x}<br>sum of Selling_Price=%{y}<extra></extra>\",\"legendgroup\":\"Royal Enfield Thunder 500\",\"marker\":{\"color\":\"#19d3f3\",\"pattern\":{\"shape\":\"\"}},\"name\":\"Royal Enfield Thunder 500\",\"offsetgroup\":\"Royal Enfield Thunder 500\",\"orientation\":\"v\",\"showlegend\":true,\"x\":[\"Royal Enfield Thunder 500\",\"Royal Enfield Thunder 500\",\"Royal Enfield Thunder 500\"],\"xaxis\":\"x\",\"y\":[1.75,1.1,1.05],\"yaxis\":\"y\",\"type\":\"histogram\"},{\"alignmentgroup\":\"True\",\"bingroup\":\"x\",\"histfunc\":\"sum\",\"hovertemplate\":\"Car_Name=%{x}<br>sum of Selling_Price=%{y}<extra></extra>\",\"legendgroup\":\"UM Renegade Mojave\",\"marker\":{\"color\":\"#FF6692\",\"pattern\":{\"shape\":\"\"}},\"name\":\"UM Renegade Mojave\",\"offsetgroup\":\"UM Renegade Mojave\",\"orientation\":\"v\",\"showlegend\":true,\"x\":[\"UM Renegade Mojave\"],\"xaxis\":\"x\",\"y\":[1.7],\"yaxis\":\"y\",\"type\":\"histogram\"},{\"alignmentgroup\":\"True\",\"bingroup\":\"x\",\"histfunc\":\"sum\",\"hovertemplate\":\"Car_Name=%{x}<br>sum of Selling_Price=%{y}<extra></extra>\",\"legendgroup\":\"KTM RC200\",\"marker\":{\"color\":\"#B6E880\",\"pattern\":{\"shape\":\"\"}},\"name\":\"KTM RC200\",\"offsetgroup\":\"KTM RC200\",\"orientation\":\"v\",\"showlegend\":true,\"x\":[\"KTM RC200\",\"KTM RC200\"],\"xaxis\":\"x\",\"y\":[1.65,1.2],\"yaxis\":\"y\",\"type\":\"histogram\"},{\"alignmentgroup\":\"True\",\"bingroup\":\"x\",\"histfunc\":\"sum\",\"hovertemplate\":\"Car_Name=%{x}<br>sum of Selling_Price=%{y}<extra></extra>\",\"legendgroup\":\"Bajaj Dominar 400\",\"marker\":{\"color\":\"#FF97FF\",\"pattern\":{\"shape\":\"\"}},\"name\":\"Bajaj Dominar 400\",\"offsetgroup\":\"Bajaj Dominar 400\",\"orientation\":\"v\",\"showlegend\":true,\"x\":[\"Bajaj Dominar 400\"],\"xaxis\":\"x\",\"y\":[1.45],\"yaxis\":\"y\",\"type\":\"histogram\"},{\"alignmentgroup\":\"True\",\"bingroup\":\"x\",\"histfunc\":\"sum\",\"hovertemplate\":\"Car_Name=%{x}<br>sum of Selling_Price=%{y}<extra></extra>\",\"legendgroup\":\"Royal Enfield Classic 350\",\"marker\":{\"color\":\"#FECB52\",\"pattern\":{\"shape\":\"\"}},\"name\":\"Royal Enfield Classic 350\",\"offsetgroup\":\"Royal Enfield Classic 350\",\"orientation\":\"v\",\"showlegend\":true,\"x\":[\"Royal Enfield Classic 350\",\"Royal Enfield Classic 350\",\"Royal Enfield Classic 350\",\"Royal Enfield Classic 350\",\"Royal Enfield Classic 350\",\"Royal Enfield Classic 350\",\"Royal Enfield Classic 350\"],\"xaxis\":\"x\",\"y\":[1.35,1.2,1.15,1.11,1.1,1.1,1.0],\"yaxis\":\"y\",\"type\":\"histogram\"},{\"alignmentgroup\":\"True\",\"bingroup\":\"x\",\"histfunc\":\"sum\",\"hovertemplate\":\"Car_Name=%{x}<br>sum of Selling_Price=%{y}<extra></extra>\",\"legendgroup\":\"KTM RC390\",\"marker\":{\"color\":\"#636efa\",\"pattern\":{\"shape\":\"\"}},\"name\":\"KTM RC390\",\"offsetgroup\":\"KTM RC390\",\"orientation\":\"v\",\"showlegend\":true,\"x\":[\"KTM RC390\"],\"xaxis\":\"x\",\"y\":[1.35],\"yaxis\":\"y\",\"type\":\"histogram\"},{\"alignmentgroup\":\"True\",\"bingroup\":\"x\",\"histfunc\":\"sum\",\"hovertemplate\":\"Car_Name=%{x}<br>sum of Selling_Price=%{y}<extra></extra>\",\"legendgroup\":\"Hyosung GT250R\",\"marker\":{\"color\":\"#EF553B\",\"pattern\":{\"shape\":\"\"}},\"name\":\"Hyosung GT250R\",\"offsetgroup\":\"Hyosung GT250R\",\"orientation\":\"v\",\"showlegend\":true,\"x\":[\"Hyosung GT250R\"],\"xaxis\":\"x\",\"y\":[1.35],\"yaxis\":\"y\",\"type\":\"histogram\"},{\"alignmentgroup\":\"True\",\"bingroup\":\"x\",\"histfunc\":\"sum\",\"hovertemplate\":\"Car_Name=%{x}<br>sum of Selling_Price=%{y}<extra></extra>\",\"legendgroup\":\"Royal Enfield Thunder 350\",\"marker\":{\"color\":\"#00cc96\",\"pattern\":{\"shape\":\"\"}},\"name\":\"Royal Enfield Thunder 350\",\"offsetgroup\":\"Royal Enfield Thunder 350\",\"orientation\":\"v\",\"showlegend\":true,\"x\":[\"Royal Enfield Thunder 350\",\"Royal Enfield Thunder 350\",\"Royal Enfield Thunder 350\",\"Royal Enfield Thunder 350\"],\"xaxis\":\"x\",\"y\":[1.25,1.2,1.15,1.05],\"yaxis\":\"y\",\"type\":\"histogram\"},{\"alignmentgroup\":\"True\",\"bingroup\":\"x\",\"histfunc\":\"sum\",\"hovertemplate\":\"Car_Name=%{x}<br>sum of Selling_Price=%{y}<extra></extra>\",\"legendgroup\":\"KTM 390 Duke \",\"marker\":{\"color\":\"#ab63fa\",\"pattern\":{\"shape\":\"\"}},\"name\":\"KTM 390 Duke \",\"offsetgroup\":\"KTM 390 Duke \",\"orientation\":\"v\",\"showlegend\":true,\"x\":[\"KTM 390 Duke \"],\"xaxis\":\"x\",\"y\":[1.15],\"yaxis\":\"y\",\"type\":\"histogram\"},{\"alignmentgroup\":\"True\",\"bingroup\":\"x\",\"histfunc\":\"sum\",\"hovertemplate\":\"Car_Name=%{x}<br>sum of Selling_Price=%{y}<extra></extra>\",\"legendgroup\":\"Mahindra Mojo XT300\",\"marker\":{\"color\":\"#FFA15A\",\"pattern\":{\"shape\":\"\"}},\"name\":\"Mahindra Mojo XT300\",\"offsetgroup\":\"Mahindra Mojo XT300\",\"orientation\":\"v\",\"showlegend\":true,\"x\":[\"Mahindra Mojo XT300\"],\"xaxis\":\"x\",\"y\":[1.15],\"yaxis\":\"y\",\"type\":\"histogram\"},{\"alignmentgroup\":\"True\",\"bingroup\":\"x\",\"histfunc\":\"sum\",\"hovertemplate\":\"Car_Name=%{x}<br>sum of Selling_Price=%{y}<extra></extra>\",\"legendgroup\":\"Bajaj Pulsar RS200\",\"marker\":{\"color\":\"#19d3f3\",\"pattern\":{\"shape\":\"\"}},\"name\":\"Bajaj Pulsar RS200\",\"offsetgroup\":\"Bajaj Pulsar RS200\",\"orientation\":\"v\",\"showlegend\":true,\"x\":[\"Bajaj Pulsar RS200\"],\"xaxis\":\"x\",\"y\":[1.05],\"yaxis\":\"y\",\"type\":\"histogram\"},{\"alignmentgroup\":\"True\",\"bingroup\":\"x\",\"histfunc\":\"sum\",\"hovertemplate\":\"Car_Name=%{x}<br>sum of Selling_Price=%{y}<extra></extra>\",\"legendgroup\":\"Royal Enfield Bullet 350\",\"marker\":{\"color\":\"#FF6692\",\"pattern\":{\"shape\":\"\"}},\"name\":\"Royal Enfield Bullet 350\",\"offsetgroup\":\"Royal Enfield Bullet 350\",\"orientation\":\"v\",\"showlegend\":true,\"x\":[\"Royal Enfield Bullet 350\"],\"xaxis\":\"x\",\"y\":[1.05],\"yaxis\":\"y\",\"type\":\"histogram\"},{\"alignmentgroup\":\"True\",\"bingroup\":\"x\",\"histfunc\":\"sum\",\"hovertemplate\":\"Car_Name=%{x}<br>sum of Selling_Price=%{y}<extra></extra>\",\"legendgroup\":\"Royal Enfield Classic 500\",\"marker\":{\"color\":\"#B6E880\",\"pattern\":{\"shape\":\"\"}},\"name\":\"Royal Enfield Classic 500\",\"offsetgroup\":\"Royal Enfield Classic 500\",\"orientation\":\"v\",\"showlegend\":true,\"x\":[\"Royal Enfield Classic 500\",\"Royal Enfield Classic 500\"],\"xaxis\":\"x\",\"y\":[0.95,0.9],\"yaxis\":\"y\",\"type\":\"histogram\"},{\"alignmentgroup\":\"True\",\"bingroup\":\"x\",\"histfunc\":\"sum\",\"hovertemplate\":\"Car_Name=%{x}<br>sum of Selling_Price=%{y}<extra></extra>\",\"legendgroup\":\"Bajaj Avenger 220\",\"marker\":{\"color\":\"#FF97FF\",\"pattern\":{\"shape\":\"\"}},\"name\":\"Bajaj Avenger 220\",\"offsetgroup\":\"Bajaj Avenger 220\",\"orientation\":\"v\",\"showlegend\":true,\"x\":[\"Bajaj Avenger 220\",\"Bajaj Avenger 220\",\"Bajaj Avenger 220\"],\"xaxis\":\"x\",\"y\":[0.9,0.75,0.72],\"yaxis\":\"y\",\"type\":\"histogram\"},{\"alignmentgroup\":\"True\",\"bingroup\":\"x\",\"histfunc\":\"sum\",\"hovertemplate\":\"Car_Name=%{x}<br>sum of Selling_Price=%{y}<extra></extra>\",\"legendgroup\":\"Bajaj Avenger 150\",\"marker\":{\"color\":\"#FECB52\",\"pattern\":{\"shape\":\"\"}},\"name\":\"Bajaj Avenger 150\",\"offsetgroup\":\"Bajaj Avenger 150\",\"orientation\":\"v\",\"showlegend\":true,\"x\":[\"Bajaj Avenger 150\"],\"xaxis\":\"x\",\"y\":[0.75],\"yaxis\":\"y\",\"type\":\"histogram\"},{\"alignmentgroup\":\"True\",\"bingroup\":\"x\",\"histfunc\":\"sum\",\"hovertemplate\":\"Car_Name=%{x}<br>sum of Selling_Price=%{y}<extra></extra>\",\"legendgroup\":\"Honda CB Hornet 160R\",\"marker\":{\"color\":\"#636efa\",\"pattern\":{\"shape\":\"\"}},\"name\":\"Honda CB Hornet 160R\",\"offsetgroup\":\"Honda CB Hornet 160R\",\"orientation\":\"v\",\"showlegend\":true,\"x\":[\"Honda CB Hornet 160R\",\"Honda CB Hornet 160R\",\"Honda CB Hornet 160R\"],\"xaxis\":\"x\",\"y\":[0.8,0.75,0.6],\"yaxis\":\"y\",\"type\":\"histogram\"},{\"alignmentgroup\":\"True\",\"bingroup\":\"x\",\"histfunc\":\"sum\",\"hovertemplate\":\"Car_Name=%{x}<br>sum of Selling_Price=%{y}<extra></extra>\",\"legendgroup\":\"Yamaha FZ S V 2.0\",\"marker\":{\"color\":\"#EF553B\",\"pattern\":{\"shape\":\"\"}},\"name\":\"Yamaha FZ S V 2.0\",\"offsetgroup\":\"Yamaha FZ S V 2.0\",\"orientation\":\"v\",\"showlegend\":true,\"x\":[\"Yamaha FZ S V 2.0\",\"Yamaha FZ S V 2.0\",\"Yamaha FZ S V 2.0\"],\"xaxis\":\"x\",\"y\":[0.78,0.55,0.48],\"yaxis\":\"y\",\"type\":\"histogram\"},{\"alignmentgroup\":\"True\",\"bingroup\":\"x\",\"histfunc\":\"sum\",\"hovertemplate\":\"Car_Name=%{x}<br>sum of Selling_Price=%{y}<extra></extra>\",\"legendgroup\":\"Yamaha FZ 16\",\"marker\":{\"color\":\"#00cc96\",\"pattern\":{\"shape\":\"\"}},\"name\":\"Yamaha FZ 16\",\"offsetgroup\":\"Yamaha FZ 16\",\"orientation\":\"v\",\"showlegend\":true,\"x\":[\"Yamaha FZ 16\"],\"xaxis\":\"x\",\"y\":[0.75],\"yaxis\":\"y\",\"type\":\"histogram\"},{\"alignmentgroup\":\"True\",\"bingroup\":\"x\",\"histfunc\":\"sum\",\"hovertemplate\":\"Car_Name=%{x}<br>sum of Selling_Price=%{y}<extra></extra>\",\"legendgroup\":\"TVS Apache RTR 160\",\"marker\":{\"color\":\"#ab63fa\",\"pattern\":{\"shape\":\"\"}},\"name\":\"TVS Apache RTR 160\",\"offsetgroup\":\"TVS Apache RTR 160\",\"orientation\":\"v\",\"showlegend\":true,\"x\":[\"TVS Apache RTR 160\",\"TVS Apache RTR 160\",\"TVS Apache RTR 160\"],\"xaxis\":\"x\",\"y\":[0.65,0.6,0.42],\"yaxis\":\"y\",\"type\":\"histogram\"},{\"alignmentgroup\":\"True\",\"bingroup\":\"x\",\"histfunc\":\"sum\",\"hovertemplate\":\"Car_Name=%{x}<br>sum of Selling_Price=%{y}<extra></extra>\",\"legendgroup\":\"Bajaj Pulsar 150\",\"marker\":{\"color\":\"#FFA15A\",\"pattern\":{\"shape\":\"\"}},\"name\":\"Bajaj Pulsar 150\",\"offsetgroup\":\"Bajaj Pulsar 150\",\"orientation\":\"v\",\"showlegend\":true,\"x\":[\"Bajaj Pulsar 150\",\"Bajaj Pulsar 150\",\"Bajaj Pulsar 150\",\"Bajaj Pulsar 150\"],\"xaxis\":\"x\",\"y\":[0.65,0.25,0.2,0.1],\"yaxis\":\"y\",\"type\":\"histogram\"},{\"alignmentgroup\":\"True\",\"bingroup\":\"x\",\"histfunc\":\"sum\",\"hovertemplate\":\"Car_Name=%{x}<br>sum of Selling_Price=%{y}<extra></extra>\",\"legendgroup\":\"Honda CBR 150\",\"marker\":{\"color\":\"#19d3f3\",\"pattern\":{\"shape\":\"\"}},\"name\":\"Honda CBR 150\",\"offsetgroup\":\"Honda CBR 150\",\"orientation\":\"v\",\"showlegend\":true,\"x\":[\"Honda CBR 150\",\"Honda CBR 150\"],\"xaxis\":\"x\",\"y\":[0.65,0.6],\"yaxis\":\"y\",\"type\":\"histogram\"},{\"alignmentgroup\":\"True\",\"bingroup\":\"x\",\"histfunc\":\"sum\",\"hovertemplate\":\"Car_Name=%{x}<br>sum of Selling_Price=%{y}<extra></extra>\",\"legendgroup\":\"Hero Extreme\",\"marker\":{\"color\":\"#FF6692\",\"pattern\":{\"shape\":\"\"}},\"name\":\"Hero Extreme\",\"offsetgroup\":\"Hero Extreme\",\"orientation\":\"v\",\"showlegend\":true,\"x\":[\"Hero Extreme\",\"Hero Extreme\"],\"xaxis\":\"x\",\"y\":[0.65,0.55],\"yaxis\":\"y\",\"type\":\"histogram\"},{\"alignmentgroup\":\"True\",\"bingroup\":\"x\",\"histfunc\":\"sum\",\"hovertemplate\":\"Car_Name=%{x}<br>sum of Selling_Price=%{y}<extra></extra>\",\"legendgroup\":\"Bajaj Avenger 220 dtsi\",\"marker\":{\"color\":\"#B6E880\",\"pattern\":{\"shape\":\"\"}},\"name\":\"Bajaj Avenger 220 dtsi\",\"offsetgroup\":\"Bajaj Avenger 220 dtsi\",\"orientation\":\"v\",\"showlegend\":true,\"x\":[\"Bajaj Avenger 220 dtsi\",\"Bajaj Avenger 220 dtsi\"],\"xaxis\":\"x\",\"y\":[0.6,0.45],\"yaxis\":\"y\",\"type\":\"histogram\"},{\"alignmentgroup\":\"True\",\"bingroup\":\"x\",\"histfunc\":\"sum\",\"hovertemplate\":\"Car_Name=%{x}<br>sum of Selling_Price=%{y}<extra></extra>\",\"legendgroup\":\"Bajaj Avenger 150 street\",\"marker\":{\"color\":\"#FF97FF\",\"pattern\":{\"shape\":\"\"}},\"name\":\"Bajaj Avenger 150 street\",\"offsetgroup\":\"Bajaj Avenger 150 street\",\"orientation\":\"v\",\"showlegend\":true,\"x\":[\"Bajaj Avenger 150 street\"],\"xaxis\":\"x\",\"y\":[0.6],\"yaxis\":\"y\",\"type\":\"histogram\"},{\"alignmentgroup\":\"True\",\"bingroup\":\"x\",\"histfunc\":\"sum\",\"hovertemplate\":\"Car_Name=%{x}<br>sum of Selling_Price=%{y}<extra></extra>\",\"legendgroup\":\"Yamaha FZ  v 2.0\",\"marker\":{\"color\":\"#FECB52\",\"pattern\":{\"shape\":\"\"}},\"name\":\"Yamaha FZ  v 2.0\",\"offsetgroup\":\"Yamaha FZ  v 2.0\",\"orientation\":\"v\",\"showlegend\":true,\"x\":[\"Yamaha FZ  v 2.0\",\"Yamaha FZ  v 2.0\"],\"xaxis\":\"x\",\"y\":[0.6,0.6],\"yaxis\":\"y\",\"type\":\"histogram\"},{\"alignmentgroup\":\"True\",\"bingroup\":\"x\",\"histfunc\":\"sum\",\"hovertemplate\":\"Car_Name=%{x}<br>sum of Selling_Price=%{y}<extra></extra>\",\"legendgroup\":\"Bajaj Pulsar  NS 200\",\"marker\":{\"color\":\"#636efa\",\"pattern\":{\"shape\":\"\"}},\"name\":\"Bajaj Pulsar  NS 200\",\"offsetgroup\":\"Bajaj Pulsar  NS 200\",\"orientation\":\"v\",\"showlegend\":true,\"x\":[\"Bajaj Pulsar  NS 200\"],\"xaxis\":\"x\",\"y\":[0.6],\"yaxis\":\"y\",\"type\":\"histogram\"},{\"alignmentgroup\":\"True\",\"bingroup\":\"x\",\"histfunc\":\"sum\",\"hovertemplate\":\"Car_Name=%{x}<br>sum of Selling_Price=%{y}<extra></extra>\",\"legendgroup\":\"Bajaj Pulsar 220 F\",\"marker\":{\"color\":\"#EF553B\",\"pattern\":{\"shape\":\"\"}},\"name\":\"Bajaj Pulsar 220 F\",\"offsetgroup\":\"Bajaj Pulsar 220 F\",\"orientation\":\"v\",\"showlegend\":true,\"x\":[\"Bajaj Pulsar 220 F\",\"Bajaj Pulsar 220 F\"],\"xaxis\":\"x\",\"y\":[0.52,0.51],\"yaxis\":\"y\",\"type\":\"histogram\"},{\"alignmentgroup\":\"True\",\"bingroup\":\"x\",\"histfunc\":\"sum\",\"hovertemplate\":\"Car_Name=%{x}<br>sum of Selling_Price=%{y}<extra></extra>\",\"legendgroup\":\"TVS Apache RTR 180\",\"marker\":{\"color\":\"#00cc96\",\"pattern\":{\"shape\":\"\"}},\"name\":\"TVS Apache RTR 180\",\"offsetgroup\":\"TVS Apache RTR 180\",\"orientation\":\"v\",\"showlegend\":true,\"x\":[\"TVS Apache RTR 180\",\"TVS Apache RTR 180\"],\"xaxis\":\"x\",\"y\":[0.5,0.45],\"yaxis\":\"y\",\"type\":\"histogram\"},{\"alignmentgroup\":\"True\",\"bingroup\":\"x\",\"histfunc\":\"sum\",\"hovertemplate\":\"Car_Name=%{x}<br>sum of Selling_Price=%{y}<extra></extra>\",\"legendgroup\":\"Hero Passion X pro\",\"marker\":{\"color\":\"#ab63fa\",\"pattern\":{\"shape\":\"\"}},\"name\":\"Hero Passion X pro\",\"offsetgroup\":\"Hero Passion X pro\",\"orientation\":\"v\",\"showlegend\":true,\"x\":[\"Hero Passion X pro\"],\"xaxis\":\"x\",\"y\":[0.5],\"yaxis\":\"y\",\"type\":\"histogram\"},{\"alignmentgroup\":\"True\",\"bingroup\":\"x\",\"histfunc\":\"sum\",\"hovertemplate\":\"Car_Name=%{x}<br>sum of Selling_Price=%{y}<extra></extra>\",\"legendgroup\":\"Bajaj Pulsar NS 200\",\"marker\":{\"color\":\"#FFA15A\",\"pattern\":{\"shape\":\"\"}},\"name\":\"Bajaj Pulsar NS 200\",\"offsetgroup\":\"Bajaj Pulsar NS 200\",\"orientation\":\"v\",\"showlegend\":true,\"x\":[\"Bajaj Pulsar NS 200\",\"Bajaj Pulsar NS 200\",\"Bajaj Pulsar NS 200\"],\"xaxis\":\"x\",\"y\":[0.5,0.5,0.45],\"yaxis\":\"y\",\"type\":\"histogram\"},{\"alignmentgroup\":\"True\",\"bingroup\":\"x\",\"histfunc\":\"sum\",\"hovertemplate\":\"Car_Name=%{x}<br>sum of Selling_Price=%{y}<extra></extra>\",\"legendgroup\":\"Yamaha Fazer \",\"marker\":{\"color\":\"#19d3f3\",\"pattern\":{\"shape\":\"\"}},\"name\":\"Yamaha Fazer \",\"offsetgroup\":\"Yamaha Fazer \",\"orientation\":\"v\",\"showlegend\":true,\"x\":[\"Yamaha Fazer \"],\"xaxis\":\"x\",\"y\":[0.5],\"yaxis\":\"y\",\"type\":\"histogram\"},{\"alignmentgroup\":\"True\",\"bingroup\":\"x\",\"histfunc\":\"sum\",\"hovertemplate\":\"Car_Name=%{x}<br>sum of Selling_Price=%{y}<extra></extra>\",\"legendgroup\":\"Honda Activa 4G\",\"marker\":{\"color\":\"#FF6692\",\"pattern\":{\"shape\":\"\"}},\"name\":\"Honda Activa 4G\",\"offsetgroup\":\"Honda Activa 4G\",\"orientation\":\"v\",\"showlegend\":true,\"x\":[\"Honda Activa 4G\",\"Honda Activa 4G\"],\"xaxis\":\"x\",\"y\":[0.48,0.45],\"yaxis\":\"y\",\"type\":\"histogram\"},{\"alignmentgroup\":\"True\",\"bingroup\":\"x\",\"histfunc\":\"sum\",\"hovertemplate\":\"Car_Name=%{x}<br>sum of Selling_Price=%{y}<extra></extra>\",\"legendgroup\":\"TVS Sport \",\"marker\":{\"color\":\"#B6E880\",\"pattern\":{\"shape\":\"\"}},\"name\":\"TVS Sport \",\"offsetgroup\":\"TVS Sport \",\"orientation\":\"v\",\"showlegend\":true,\"x\":[\"TVS Sport \"],\"xaxis\":\"x\",\"y\":[0.48],\"yaxis\":\"y\",\"type\":\"histogram\"},{\"alignmentgroup\":\"True\",\"bingroup\":\"x\",\"histfunc\":\"sum\",\"hovertemplate\":\"Car_Name=%{x}<br>sum of Selling_Price=%{y}<extra></extra>\",\"legendgroup\":\"Honda Dream Yuga \",\"marker\":{\"color\":\"#FF97FF\",\"pattern\":{\"shape\":\"\"}},\"name\":\"Honda Dream Yuga \",\"offsetgroup\":\"Honda Dream Yuga \",\"orientation\":\"v\",\"showlegend\":true,\"x\":[\"Honda Dream Yuga \"],\"xaxis\":\"x\",\"y\":[0.48],\"yaxis\":\"y\",\"type\":\"histogram\"},{\"alignmentgroup\":\"True\",\"bingroup\":\"x\",\"histfunc\":\"sum\",\"hovertemplate\":\"Car_Name=%{x}<br>sum of Selling_Price=%{y}<extra></extra>\",\"legendgroup\":\"Bajaj Avenger Street 220\",\"marker\":{\"color\":\"#FECB52\",\"pattern\":{\"shape\":\"\"}},\"name\":\"Bajaj Avenger Street 220\",\"offsetgroup\":\"Bajaj Avenger Street 220\",\"orientation\":\"v\",\"showlegend\":true,\"x\":[\"Bajaj Avenger Street 220\"],\"xaxis\":\"x\",\"y\":[0.45],\"yaxis\":\"y\",\"type\":\"histogram\"},{\"alignmentgroup\":\"True\",\"bingroup\":\"x\",\"histfunc\":\"sum\",\"hovertemplate\":\"Car_Name=%{x}<br>sum of Selling_Price=%{y}<extra></extra>\",\"legendgroup\":\"Hero Splender iSmart\",\"marker\":{\"color\":\"#636efa\",\"pattern\":{\"shape\":\"\"}},\"name\":\"Hero Splender iSmart\",\"offsetgroup\":\"Hero Splender iSmart\",\"orientation\":\"v\",\"showlegend\":true,\"x\":[\"Hero Splender iSmart\",\"Hero Splender iSmart\"],\"xaxis\":\"x\",\"y\":[0.45,0.4],\"yaxis\":\"y\",\"type\":\"histogram\"},{\"alignmentgroup\":\"True\",\"bingroup\":\"x\",\"histfunc\":\"sum\",\"hovertemplate\":\"Car_Name=%{x}<br>sum of Selling_Price=%{y}<extra></extra>\",\"legendgroup\":\"Activa 3g\",\"marker\":{\"color\":\"#EF553B\",\"pattern\":{\"shape\":\"\"}},\"name\":\"Activa 3g\",\"offsetgroup\":\"Activa 3g\",\"orientation\":\"v\",\"showlegend\":true,\"x\":[\"Activa 3g\",\"Activa 3g\"],\"xaxis\":\"x\",\"y\":[0.45,0.17],\"yaxis\":\"y\",\"type\":\"histogram\"},{\"alignmentgroup\":\"True\",\"bingroup\":\"x\",\"histfunc\":\"sum\",\"hovertemplate\":\"Car_Name=%{x}<br>sum of Selling_Price=%{y}<extra></extra>\",\"legendgroup\":\"Hero Passion Pro\",\"marker\":{\"color\":\"#00cc96\",\"pattern\":{\"shape\":\"\"}},\"name\":\"Hero Passion Pro\",\"offsetgroup\":\"Hero Passion Pro\",\"orientation\":\"v\",\"showlegend\":true,\"x\":[\"Hero Passion Pro\",\"Hero Passion Pro\"],\"xaxis\":\"x\",\"y\":[0.45,0.4],\"yaxis\":\"y\",\"type\":\"histogram\"},{\"alignmentgroup\":\"True\",\"bingroup\":\"x\",\"histfunc\":\"sum\",\"hovertemplate\":\"Car_Name=%{x}<br>sum of Selling_Price=%{y}<extra></extra>\",\"legendgroup\":\"Honda CB Trigger\",\"marker\":{\"color\":\"#ab63fa\",\"pattern\":{\"shape\":\"\"}},\"name\":\"Honda CB Trigger\",\"offsetgroup\":\"Honda CB Trigger\",\"orientation\":\"v\",\"showlegend\":true,\"x\":[\"Honda CB Trigger\"],\"xaxis\":\"x\",\"y\":[0.42],\"yaxis\":\"y\",\"type\":\"histogram\"},{\"alignmentgroup\":\"True\",\"bingroup\":\"x\",\"histfunc\":\"sum\",\"hovertemplate\":\"Car_Name=%{x}<br>sum of Selling_Price=%{y}<extra></extra>\",\"legendgroup\":\"Yamaha FZ S \",\"marker\":{\"color\":\"#FFA15A\",\"pattern\":{\"shape\":\"\"}},\"name\":\"Yamaha FZ S \",\"offsetgroup\":\"Yamaha FZ S \",\"orientation\":\"v\",\"showlegend\":true,\"x\":[\"Yamaha FZ S \"],\"xaxis\":\"x\",\"y\":[0.4],\"yaxis\":\"y\",\"type\":\"histogram\"},{\"alignmentgroup\":\"True\",\"bingroup\":\"x\",\"histfunc\":\"sum\",\"hovertemplate\":\"Car_Name=%{x}<br>sum of Selling_Price=%{y}<extra></extra>\",\"legendgroup\":\"Bajaj Pulsar 135 LS\",\"marker\":{\"color\":\"#19d3f3\",\"pattern\":{\"shape\":\"\"}},\"name\":\"Bajaj Pulsar 135 LS\",\"offsetgroup\":\"Bajaj Pulsar 135 LS\",\"orientation\":\"v\",\"showlegend\":true,\"x\":[\"Bajaj Pulsar 135 LS\"],\"xaxis\":\"x\",\"y\":[0.4],\"yaxis\":\"y\",\"type\":\"histogram\"},{\"alignmentgroup\":\"True\",\"bingroup\":\"x\",\"histfunc\":\"sum\",\"hovertemplate\":\"Car_Name=%{x}<br>sum of Selling_Price=%{y}<extra></extra>\",\"legendgroup\":\"Activa 4g\",\"marker\":{\"color\":\"#FF6692\",\"pattern\":{\"shape\":\"\"}},\"name\":\"Activa 4g\",\"offsetgroup\":\"Activa 4g\",\"orientation\":\"v\",\"showlegend\":true,\"x\":[\"Activa 4g\"],\"xaxis\":\"x\",\"y\":[0.4],\"yaxis\":\"y\",\"type\":\"histogram\"},{\"alignmentgroup\":\"True\",\"bingroup\":\"x\",\"histfunc\":\"sum\",\"hovertemplate\":\"Car_Name=%{x}<br>sum of Selling_Price=%{y}<extra></extra>\",\"legendgroup\":\"Honda CB Unicorn\",\"marker\":{\"color\":\"#B6E880\",\"pattern\":{\"shape\":\"\"}},\"name\":\"Honda CB Unicorn\",\"offsetgroup\":\"Honda CB Unicorn\",\"orientation\":\"v\",\"showlegend\":true,\"x\":[\"Honda CB Unicorn\"],\"xaxis\":\"x\",\"y\":[0.38],\"yaxis\":\"y\",\"type\":\"histogram\"},{\"alignmentgroup\":\"True\",\"bingroup\":\"x\",\"histfunc\":\"sum\",\"hovertemplate\":\"Car_Name=%{x}<br>sum of Selling_Price=%{y}<extra></extra>\",\"legendgroup\":\"Hero Honda CBZ extreme\",\"marker\":{\"color\":\"#FF97FF\",\"pattern\":{\"shape\":\"\"}},\"name\":\"Hero Honda CBZ extreme\",\"offsetgroup\":\"Hero Honda CBZ extreme\",\"orientation\":\"v\",\"showlegend\":true,\"x\":[\"Hero Honda CBZ extreme\"],\"xaxis\":\"x\",\"y\":[0.38],\"yaxis\":\"y\",\"type\":\"histogram\"},{\"alignmentgroup\":\"True\",\"bingroup\":\"x\",\"histfunc\":\"sum\",\"hovertemplate\":\"Car_Name=%{x}<br>sum of Selling_Price=%{y}<extra></extra>\",\"legendgroup\":\"Honda Karizma\",\"marker\":{\"color\":\"#FECB52\",\"pattern\":{\"shape\":\"\"}},\"name\":\"Honda Karizma\",\"offsetgroup\":\"Honda Karizma\",\"orientation\":\"v\",\"showlegend\":true,\"x\":[\"Honda Karizma\",\"Honda Karizma\"],\"xaxis\":\"x\",\"y\":[0.35,0.31],\"yaxis\":\"y\",\"type\":\"histogram\"},{\"alignmentgroup\":\"True\",\"bingroup\":\"x\",\"histfunc\":\"sum\",\"hovertemplate\":\"Car_Name=%{x}<br>sum of Selling_Price=%{y}<extra></extra>\",\"legendgroup\":\"Honda Activa 125\",\"marker\":{\"color\":\"#636efa\",\"pattern\":{\"shape\":\"\"}},\"name\":\"Honda Activa 125\",\"offsetgroup\":\"Honda Activa 125\",\"orientation\":\"v\",\"showlegend\":true,\"x\":[\"Honda Activa 125\"],\"xaxis\":\"x\",\"y\":[0.35],\"yaxis\":\"y\",\"type\":\"histogram\"},{\"alignmentgroup\":\"True\",\"bingroup\":\"x\",\"histfunc\":\"sum\",\"hovertemplate\":\"Car_Name=%{x}<br>sum of Selling_Price=%{y}<extra></extra>\",\"legendgroup\":\"TVS Jupyter\",\"marker\":{\"color\":\"#EF553B\",\"pattern\":{\"shape\":\"\"}},\"name\":\"TVS Jupyter\",\"offsetgroup\":\"TVS Jupyter\",\"orientation\":\"v\",\"showlegend\":true,\"x\":[\"TVS Jupyter\"],\"xaxis\":\"x\",\"y\":[0.35],\"yaxis\":\"y\",\"type\":\"histogram\"},{\"alignmentgroup\":\"True\",\"bingroup\":\"x\",\"histfunc\":\"sum\",\"hovertemplate\":\"Car_Name=%{x}<br>sum of Selling_Price=%{y}<extra></extra>\",\"legendgroup\":\"Hero Honda Passion Pro\",\"marker\":{\"color\":\"#00cc96\",\"pattern\":{\"shape\":\"\"}},\"name\":\"Hero Honda Passion Pro\",\"offsetgroup\":\"Hero Honda Passion Pro\",\"orientation\":\"v\",\"showlegend\":true,\"x\":[\"Hero Honda Passion Pro\"],\"xaxis\":\"x\",\"y\":[0.3],\"yaxis\":\"y\",\"type\":\"histogram\"},{\"alignmentgroup\":\"True\",\"bingroup\":\"x\",\"histfunc\":\"sum\",\"hovertemplate\":\"Car_Name=%{x}<br>sum of Selling_Price=%{y}<extra></extra>\",\"legendgroup\":\"Hero Splender Plus\",\"marker\":{\"color\":\"#ab63fa\",\"pattern\":{\"shape\":\"\"}},\"name\":\"Hero Splender Plus\",\"offsetgroup\":\"Hero Splender Plus\",\"orientation\":\"v\",\"showlegend\":true,\"x\":[\"Hero Splender Plus\"],\"xaxis\":\"x\",\"y\":[0.3],\"yaxis\":\"y\",\"type\":\"histogram\"},{\"alignmentgroup\":\"True\",\"bingroup\":\"x\",\"histfunc\":\"sum\",\"hovertemplate\":\"Car_Name=%{x}<br>sum of Selling_Price=%{y}<extra></extra>\",\"legendgroup\":\"Honda CB Shine\",\"marker\":{\"color\":\"#FFA15A\",\"pattern\":{\"shape\":\"\"}},\"name\":\"Honda CB Shine\",\"offsetgroup\":\"Honda CB Shine\",\"orientation\":\"v\",\"showlegend\":true,\"x\":[\"Honda CB Shine\",\"Honda CB Shine\"],\"xaxis\":\"x\",\"y\":[0.3,0.12],\"yaxis\":\"y\",\"type\":\"histogram\"},{\"alignmentgroup\":\"True\",\"bingroup\":\"x\",\"histfunc\":\"sum\",\"hovertemplate\":\"Car_Name=%{x}<br>sum of Selling_Price=%{y}<extra></extra>\",\"legendgroup\":\"Bajaj Discover 100\",\"marker\":{\"color\":\"#19d3f3\",\"pattern\":{\"shape\":\"\"}},\"name\":\"Bajaj Discover 100\",\"offsetgroup\":\"Bajaj Discover 100\",\"orientation\":\"v\",\"showlegend\":true,\"x\":[\"Bajaj Discover 100\"],\"xaxis\":\"x\",\"y\":[0.27],\"yaxis\":\"y\",\"type\":\"histogram\"},{\"alignmentgroup\":\"True\",\"bingroup\":\"x\",\"histfunc\":\"sum\",\"hovertemplate\":\"Car_Name=%{x}<br>sum of Selling_Price=%{y}<extra></extra>\",\"legendgroup\":\"Suzuki Access 125\",\"marker\":{\"color\":\"#FF6692\",\"pattern\":{\"shape\":\"\"}},\"name\":\"Suzuki Access 125\",\"offsetgroup\":\"Suzuki Access 125\",\"orientation\":\"v\",\"showlegend\":true,\"x\":[\"Suzuki Access 125\"],\"xaxis\":\"x\",\"y\":[0.25],\"yaxis\":\"y\",\"type\":\"histogram\"},{\"alignmentgroup\":\"True\",\"bingroup\":\"x\",\"histfunc\":\"sum\",\"hovertemplate\":\"Car_Name=%{x}<br>sum of Selling_Price=%{y}<extra></extra>\",\"legendgroup\":\"TVS Wego\",\"marker\":{\"color\":\"#B6E880\",\"pattern\":{\"shape\":\"\"}},\"name\":\"TVS Wego\",\"offsetgroup\":\"TVS Wego\",\"orientation\":\"v\",\"showlegend\":true,\"x\":[\"TVS Wego\"],\"xaxis\":\"x\",\"y\":[0.25],\"yaxis\":\"y\",\"type\":\"histogram\"},{\"alignmentgroup\":\"True\",\"bingroup\":\"x\",\"histfunc\":\"sum\",\"hovertemplate\":\"Car_Name=%{x}<br>sum of Selling_Price=%{y}<extra></extra>\",\"legendgroup\":\"Honda CB twister\",\"marker\":{\"color\":\"#FF97FF\",\"pattern\":{\"shape\":\"\"}},\"name\":\"Honda CB twister\",\"offsetgroup\":\"Honda CB twister\",\"orientation\":\"v\",\"showlegend\":true,\"x\":[\"Honda CB twister\",\"Honda CB twister\"],\"xaxis\":\"x\",\"y\":[0.25,0.16],\"yaxis\":\"y\",\"type\":\"histogram\"},{\"alignmentgroup\":\"True\",\"bingroup\":\"x\",\"histfunc\":\"sum\",\"hovertemplate\":\"Car_Name=%{x}<br>sum of Selling_Price=%{y}<extra></extra>\",\"legendgroup\":\"Hero Glamour\",\"marker\":{\"color\":\"#FECB52\",\"pattern\":{\"shape\":\"\"}},\"name\":\"Hero Glamour\",\"offsetgroup\":\"Hero Glamour\",\"orientation\":\"v\",\"showlegend\":true,\"x\":[\"Hero Glamour\"],\"xaxis\":\"x\",\"y\":[0.25],\"yaxis\":\"y\",\"type\":\"histogram\"},{\"alignmentgroup\":\"True\",\"bingroup\":\"x\",\"histfunc\":\"sum\",\"hovertemplate\":\"Car_Name=%{x}<br>sum of Selling_Price=%{y}<extra></extra>\",\"legendgroup\":\"Hero Super Splendor\",\"marker\":{\"color\":\"#636efa\",\"pattern\":{\"shape\":\"\"}},\"name\":\"Hero Super Splendor\",\"offsetgroup\":\"Hero Super Splendor\",\"orientation\":\"v\",\"showlegend\":true,\"x\":[\"Hero Super Splendor\"],\"xaxis\":\"x\",\"y\":[0.2],\"yaxis\":\"y\",\"type\":\"histogram\"},{\"alignmentgroup\":\"True\",\"bingroup\":\"x\",\"histfunc\":\"sum\",\"hovertemplate\":\"Car_Name=%{x}<br>sum of Selling_Price=%{y}<extra></extra>\",\"legendgroup\":\"Bajaj Discover 125\",\"marker\":{\"color\":\"#EF553B\",\"pattern\":{\"shape\":\"\"}},\"name\":\"Bajaj Discover 125\",\"offsetgroup\":\"Bajaj Discover 125\",\"orientation\":\"v\",\"showlegend\":true,\"x\":[\"Bajaj Discover 125\",\"Bajaj Discover 125\"],\"xaxis\":\"x\",\"y\":[0.2,0.15],\"yaxis\":\"y\",\"type\":\"histogram\"},{\"alignmentgroup\":\"True\",\"bingroup\":\"x\",\"histfunc\":\"sum\",\"hovertemplate\":\"Car_Name=%{x}<br>sum of Selling_Price=%{y}<extra></extra>\",\"legendgroup\":\"Hero Hunk\",\"marker\":{\"color\":\"#00cc96\",\"pattern\":{\"shape\":\"\"}},\"name\":\"Hero Hunk\",\"offsetgroup\":\"Hero Hunk\",\"orientation\":\"v\",\"showlegend\":true,\"x\":[\"Hero Hunk\"],\"xaxis\":\"x\",\"y\":[0.2],\"yaxis\":\"y\",\"type\":\"histogram\"},{\"alignmentgroup\":\"True\",\"bingroup\":\"x\",\"histfunc\":\"sum\",\"hovertemplate\":\"Car_Name=%{x}<br>sum of Selling_Price=%{y}<extra></extra>\",\"legendgroup\":\"Hero  Ignitor Disc\",\"marker\":{\"color\":\"#ab63fa\",\"pattern\":{\"shape\":\"\"}},\"name\":\"Hero  Ignitor Disc\",\"offsetgroup\":\"Hero  Ignitor Disc\",\"orientation\":\"v\",\"showlegend\":true,\"x\":[\"Hero  Ignitor Disc\"],\"xaxis\":\"x\",\"y\":[0.2],\"yaxis\":\"y\",\"type\":\"histogram\"},{\"alignmentgroup\":\"True\",\"bingroup\":\"x\",\"histfunc\":\"sum\",\"hovertemplate\":\"Car_Name=%{x}<br>sum of Selling_Price=%{y}<extra></extra>\",\"legendgroup\":\"Hero  CBZ Xtreme\",\"marker\":{\"color\":\"#FFA15A\",\"pattern\":{\"shape\":\"\"}},\"name\":\"Hero  CBZ Xtreme\",\"offsetgroup\":\"Hero  CBZ Xtreme\",\"orientation\":\"v\",\"showlegend\":true,\"x\":[\"Hero  CBZ Xtreme\"],\"xaxis\":\"x\",\"y\":[0.2],\"yaxis\":\"y\",\"type\":\"histogram\"},{\"alignmentgroup\":\"True\",\"bingroup\":\"x\",\"histfunc\":\"sum\",\"hovertemplate\":\"Car_Name=%{x}<br>sum of Selling_Price=%{y}<extra></extra>\",\"legendgroup\":\"Bajaj  ct 100\",\"marker\":{\"color\":\"#19d3f3\",\"pattern\":{\"shape\":\"\"}},\"name\":\"Bajaj  ct 100\",\"offsetgroup\":\"Bajaj  ct 100\",\"orientation\":\"v\",\"showlegend\":true,\"x\":[\"Bajaj  ct 100\"],\"xaxis\":\"x\",\"y\":[0.18],\"yaxis\":\"y\",\"type\":\"histogram\"},{\"alignmentgroup\":\"True\",\"bingroup\":\"x\",\"histfunc\":\"sum\",\"hovertemplate\":\"Car_Name=%{x}<br>sum of Selling_Price=%{y}<extra></extra>\",\"legendgroup\":\"i20\",\"marker\":{\"color\":\"#FF6692\",\"pattern\":{\"shape\":\"\"}},\"name\":\"i20\",\"offsetgroup\":\"i20\",\"orientation\":\"v\",\"showlegend\":true,\"x\":[\"i20\",\"i20\",\"i20\",\"i20\",\"i20\",\"i20\",\"i20\",\"i20\",\"i20\"],\"xaxis\":\"x\",\"y\":[3.25,7.9,2.9,4.5,6.0,3.1,6.25,3.75,5.25],\"yaxis\":\"y\",\"type\":\"histogram\"},{\"alignmentgroup\":\"True\",\"bingroup\":\"x\",\"histfunc\":\"sum\",\"hovertemplate\":\"Car_Name=%{x}<br>sum of Selling_Price=%{y}<extra></extra>\",\"legendgroup\":\"grand i10\",\"marker\":{\"color\":\"#B6E880\",\"pattern\":{\"shape\":\"\"}},\"name\":\"grand i10\",\"offsetgroup\":\"grand i10\",\"orientation\":\"v\",\"showlegend\":true,\"x\":[\"grand i10\",\"grand i10\",\"grand i10\",\"grand i10\",\"grand i10\",\"grand i10\",\"grand i10\",\"grand i10\"],\"xaxis\":\"x\",\"y\":[4.4,5.25,5.15,4.85,5.25,5.25,3.9,5.5],\"yaxis\":\"y\",\"type\":\"histogram\"},{\"alignmentgroup\":\"True\",\"bingroup\":\"x\",\"histfunc\":\"sum\",\"hovertemplate\":\"Car_Name=%{x}<br>sum of Selling_Price=%{y}<extra></extra>\",\"legendgroup\":\"i10\",\"marker\":{\"color\":\"#FF97FF\",\"pattern\":{\"shape\":\"\"}},\"name\":\"i10\",\"offsetgroup\":\"i10\",\"orientation\":\"v\",\"showlegend\":true,\"x\":[\"i10\",\"i10\",\"i10\",\"i10\",\"i10\"],\"xaxis\":\"x\",\"y\":[2.95,3.1,2.7,2.55,4.0],\"yaxis\":\"y\",\"type\":\"histogram\"},{\"alignmentgroup\":\"True\",\"bingroup\":\"x\",\"histfunc\":\"sum\",\"hovertemplate\":\"Car_Name=%{x}<br>sum of Selling_Price=%{y}<extra></extra>\",\"legendgroup\":\"eon\",\"marker\":{\"color\":\"#FECB52\",\"pattern\":{\"shape\":\"\"}},\"name\":\"eon\",\"offsetgroup\":\"eon\",\"orientation\":\"v\",\"showlegend\":true,\"x\":[\"eon\",\"eon\",\"eon\",\"eon\",\"eon\",\"eon\"],\"xaxis\":\"x\",\"y\":[2.75,2.9,3.15,3.5,3.1,2.0],\"yaxis\":\"y\",\"type\":\"histogram\"},{\"alignmentgroup\":\"True\",\"bingroup\":\"x\",\"histfunc\":\"sum\",\"hovertemplate\":\"Car_Name=%{x}<br>sum of Selling_Price=%{y}<extra></extra>\",\"legendgroup\":\"xcent\",\"marker\":{\"color\":\"#636efa\",\"pattern\":{\"shape\":\"\"}},\"name\":\"xcent\",\"offsetgroup\":\"xcent\",\"orientation\":\"v\",\"showlegend\":true,\"x\":[\"xcent\",\"xcent\",\"xcent\"],\"xaxis\":\"x\",\"y\":[5.75,4.75,4.4],\"yaxis\":\"y\",\"type\":\"histogram\"},{\"alignmentgroup\":\"True\",\"bingroup\":\"x\",\"histfunc\":\"sum\",\"hovertemplate\":\"Car_Name=%{x}<br>sum of Selling_Price=%{y}<extra></extra>\",\"legendgroup\":\"elantra\",\"marker\":{\"color\":\"#EF553B\",\"pattern\":{\"shape\":\"\"}},\"name\":\"elantra\",\"offsetgroup\":\"elantra\",\"orientation\":\"v\",\"showlegend\":true,\"x\":[\"elantra\",\"elantra\"],\"xaxis\":\"x\",\"y\":[11.75,11.45],\"yaxis\":\"y\",\"type\":\"histogram\"},{\"alignmentgroup\":\"True\",\"bingroup\":\"x\",\"histfunc\":\"sum\",\"hovertemplate\":\"Car_Name=%{x}<br>sum of Selling_Price=%{y}<extra></extra>\",\"legendgroup\":\"creta\",\"marker\":{\"color\":\"#00cc96\",\"pattern\":{\"shape\":\"\"}},\"name\":\"creta\",\"offsetgroup\":\"creta\",\"orientation\":\"v\",\"showlegend\":true,\"x\":[\"creta\",\"creta\",\"creta\"],\"xaxis\":\"x\",\"y\":[11.25,11.25,12.9],\"yaxis\":\"y\",\"type\":\"histogram\"},{\"alignmentgroup\":\"True\",\"bingroup\":\"x\",\"histfunc\":\"sum\",\"hovertemplate\":\"Car_Name=%{x}<br>sum of Selling_Price=%{y}<extra></extra>\",\"legendgroup\":\"verna\",\"marker\":{\"color\":\"#ab63fa\",\"pattern\":{\"shape\":\"\"}},\"name\":\"verna\",\"offsetgroup\":\"verna\",\"orientation\":\"v\",\"showlegend\":true,\"x\":[\"verna\",\"verna\",\"verna\",\"verna\",\"verna\",\"verna\",\"verna\",\"verna\",\"verna\",\"verna\",\"verna\",\"verna\",\"verna\",\"verna\"],\"xaxis\":\"x\",\"y\":[4.5,6.45,4.5,8.25,5.11,4.95,6.15,9.25,9.1,4.8,5.35,5.95,5.2,5.95],\"yaxis\":\"y\",\"type\":\"histogram\"},{\"alignmentgroup\":\"True\",\"bingroup\":\"x\",\"histfunc\":\"sum\",\"hovertemplate\":\"Car_Name=%{x}<br>sum of Selling_Price=%{y}<extra></extra>\",\"legendgroup\":\"city\",\"marker\":{\"color\":\"#FFA15A\",\"pattern\":{\"shape\":\"\"}},\"name\":\"city\",\"offsetgroup\":\"city\",\"orientation\":\"v\",\"showlegend\":true,\"x\":[\"city\",\"city\",\"city\",\"city\",\"city\",\"city\",\"city\",\"city\",\"city\",\"city\",\"city\",\"city\",\"city\",\"city\",\"city\",\"city\",\"city\",\"city\",\"city\",\"city\",\"city\",\"city\",\"city\",\"city\",\"city\",\"city\"],\"xaxis\":\"x\",\"y\":[5.0,7.2,5.25,10.25,8.5,8.4,9.15,8.35,6.7,4.1,3.0,7.5,10.9,8.65,9.7,6.25,2.1,8.25,8.99,8.4,10.11,3.25,8.55,9.5,3.35,11.5],\"yaxis\":\"y\",\"type\":\"histogram\"},{\"alignmentgroup\":\"True\",\"bingroup\":\"x\",\"histfunc\":\"sum\",\"hovertemplate\":\"Car_Name=%{x}<br>sum of Selling_Price=%{y}<extra></extra>\",\"legendgroup\":\"brio\",\"marker\":{\"color\":\"#19d3f3\",\"pattern\":{\"shape\":\"\"}},\"name\":\"brio\",\"offsetgroup\":\"brio\",\"orientation\":\"v\",\"showlegend\":true,\"x\":[\"brio\",\"brio\",\"brio\",\"brio\",\"brio\",\"brio\",\"brio\",\"brio\",\"brio\",\"brio\"],\"xaxis\":\"x\",\"y\":[5.4,3.0,5.5,4.8,5.3,5.25,3.5,5.4,4.0,5.3],\"yaxis\":\"y\",\"type\":\"histogram\"},{\"alignmentgroup\":\"True\",\"bingroup\":\"x\",\"histfunc\":\"sum\",\"hovertemplate\":\"Car_Name=%{x}<br>sum of Selling_Price=%{y}<extra></extra>\",\"legendgroup\":\"amaze\",\"marker\":{\"color\":\"#FF6692\",\"pattern\":{\"shape\":\"\"}},\"name\":\"amaze\",\"offsetgroup\":\"amaze\",\"orientation\":\"v\",\"showlegend\":true,\"x\":[\"amaze\",\"amaze\",\"amaze\",\"amaze\",\"amaze\",\"amaze\",\"amaze\"],\"xaxis\":\"x\",\"y\":[3.9,4.0,4.0,3.65,5.75,4.5,3.75],\"yaxis\":\"y\",\"type\":\"histogram\"},{\"alignmentgroup\":\"True\",\"bingroup\":\"x\",\"histfunc\":\"sum\",\"hovertemplate\":\"Car_Name=%{x}<br>sum of Selling_Price=%{y}<extra></extra>\",\"legendgroup\":\"jazz\",\"marker\":{\"color\":\"#B6E880\",\"pattern\":{\"shape\":\"\"}},\"name\":\"jazz\",\"offsetgroup\":\"jazz\",\"orientation\":\"v\",\"showlegend\":true,\"x\":[\"jazz\",\"jazz\",\"jazz\",\"jazz\",\"jazz\",\"jazz\",\"jazz\"],\"xaxis\":\"x\",\"y\":[6.6,6.5,2.25,6.0,7.4,5.65,6.4],\"yaxis\":\"y\",\"type\":\"histogram\"}],                        {\"template\":{\"data\":{\"histogram2dcontour\":[{\"type\":\"histogram2dcontour\",\"colorbar\":{\"outlinewidth\":0,\"ticks\":\"\"},\"colorscale\":[[0.0,\"#0d0887\"],[0.1111111111111111,\"#46039f\"],[0.2222222222222222,\"#7201a8\"],[0.3333333333333333,\"#9c179e\"],[0.4444444444444444,\"#bd3786\"],[0.5555555555555556,\"#d8576b\"],[0.6666666666666666,\"#ed7953\"],[0.7777777777777778,\"#fb9f3a\"],[0.8888888888888888,\"#fdca26\"],[1.0,\"#f0f921\"]]}],\"choropleth\":[{\"type\":\"choropleth\",\"colorbar\":{\"outlinewidth\":0,\"ticks\":\"\"}}],\"histogram2d\":[{\"type\":\"histogram2d\",\"colorbar\":{\"outlinewidth\":0,\"ticks\":\"\"},\"colorscale\":[[0.0,\"#0d0887\"],[0.1111111111111111,\"#46039f\"],[0.2222222222222222,\"#7201a8\"],[0.3333333333333333,\"#9c179e\"],[0.4444444444444444,\"#bd3786\"],[0.5555555555555556,\"#d8576b\"],[0.6666666666666666,\"#ed7953\"],[0.7777777777777778,\"#fb9f3a\"],[0.8888888888888888,\"#fdca26\"],[1.0,\"#f0f921\"]]}],\"heatmap\":[{\"type\":\"heatmap\",\"colorbar\":{\"outlinewidth\":0,\"ticks\":\"\"},\"colorscale\":[[0.0,\"#0d0887\"],[0.1111111111111111,\"#46039f\"],[0.2222222222222222,\"#7201a8\"],[0.3333333333333333,\"#9c179e\"],[0.4444444444444444,\"#bd3786\"],[0.5555555555555556,\"#d8576b\"],[0.6666666666666666,\"#ed7953\"],[0.7777777777777778,\"#fb9f3a\"],[0.8888888888888888,\"#fdca26\"],[1.0,\"#f0f921\"]]}],\"heatmapgl\":[{\"type\":\"heatmapgl\",\"colorbar\":{\"outlinewidth\":0,\"ticks\":\"\"},\"colorscale\":[[0.0,\"#0d0887\"],[0.1111111111111111,\"#46039f\"],[0.2222222222222222,\"#7201a8\"],[0.3333333333333333,\"#9c179e\"],[0.4444444444444444,\"#bd3786\"],[0.5555555555555556,\"#d8576b\"],[0.6666666666666666,\"#ed7953\"],[0.7777777777777778,\"#fb9f3a\"],[0.8888888888888888,\"#fdca26\"],[1.0,\"#f0f921\"]]}],\"contourcarpet\":[{\"type\":\"contourcarpet\",\"colorbar\":{\"outlinewidth\":0,\"ticks\":\"\"}}],\"contour\":[{\"type\":\"contour\",\"colorbar\":{\"outlinewidth\":0,\"ticks\":\"\"},\"colorscale\":[[0.0,\"#0d0887\"],[0.1111111111111111,\"#46039f\"],[0.2222222222222222,\"#7201a8\"],[0.3333333333333333,\"#9c179e\"],[0.4444444444444444,\"#bd3786\"],[0.5555555555555556,\"#d8576b\"],[0.6666666666666666,\"#ed7953\"],[0.7777777777777778,\"#fb9f3a\"],[0.8888888888888888,\"#fdca26\"],[1.0,\"#f0f921\"]]}],\"surface\":[{\"type\":\"surface\",\"colorbar\":{\"outlinewidth\":0,\"ticks\":\"\"},\"colorscale\":[[0.0,\"#0d0887\"],[0.1111111111111111,\"#46039f\"],[0.2222222222222222,\"#7201a8\"],[0.3333333333333333,\"#9c179e\"],[0.4444444444444444,\"#bd3786\"],[0.5555555555555556,\"#d8576b\"],[0.6666666666666666,\"#ed7953\"],[0.7777777777777778,\"#fb9f3a\"],[0.8888888888888888,\"#fdca26\"],[1.0,\"#f0f921\"]]}],\"mesh3d\":[{\"type\":\"mesh3d\",\"colorbar\":{\"outlinewidth\":0,\"ticks\":\"\"}}],\"scatter\":[{\"fillpattern\":{\"fillmode\":\"overlay\",\"size\":10,\"solidity\":0.2},\"type\":\"scatter\"}],\"parcoords\":[{\"type\":\"parcoords\",\"line\":{\"colorbar\":{\"outlinewidth\":0,\"ticks\":\"\"}}}],\"scatterpolargl\":[{\"type\":\"scatterpolargl\",\"marker\":{\"colorbar\":{\"outlinewidth\":0,\"ticks\":\"\"}}}],\"bar\":[{\"error_x\":{\"color\":\"#2a3f5f\"},\"error_y\":{\"color\":\"#2a3f5f\"},\"marker\":{\"line\":{\"color\":\"#E5ECF6\",\"width\":0.5},\"pattern\":{\"fillmode\":\"overlay\",\"size\":10,\"solidity\":0.2}},\"type\":\"bar\"}],\"scattergeo\":[{\"type\":\"scattergeo\",\"marker\":{\"colorbar\":{\"outlinewidth\":0,\"ticks\":\"\"}}}],\"scatterpolar\":[{\"type\":\"scatterpolar\",\"marker\":{\"colorbar\":{\"outlinewidth\":0,\"ticks\":\"\"}}}],\"histogram\":[{\"marker\":{\"pattern\":{\"fillmode\":\"overlay\",\"size\":10,\"solidity\":0.2}},\"type\":\"histogram\"}],\"scattergl\":[{\"type\":\"scattergl\",\"marker\":{\"colorbar\":{\"outlinewidth\":0,\"ticks\":\"\"}}}],\"scatter3d\":[{\"type\":\"scatter3d\",\"line\":{\"colorbar\":{\"outlinewidth\":0,\"ticks\":\"\"}},\"marker\":{\"colorbar\":{\"outlinewidth\":0,\"ticks\":\"\"}}}],\"scattermapbox\":[{\"type\":\"scattermapbox\",\"marker\":{\"colorbar\":{\"outlinewidth\":0,\"ticks\":\"\"}}}],\"scatterternary\":[{\"type\":\"scatterternary\",\"marker\":{\"colorbar\":{\"outlinewidth\":0,\"ticks\":\"\"}}}],\"scattercarpet\":[{\"type\":\"scattercarpet\",\"marker\":{\"colorbar\":{\"outlinewidth\":0,\"ticks\":\"\"}}}],\"carpet\":[{\"aaxis\":{\"endlinecolor\":\"#2a3f5f\",\"gridcolor\":\"white\",\"linecolor\":\"white\",\"minorgridcolor\":\"white\",\"startlinecolor\":\"#2a3f5f\"},\"baxis\":{\"endlinecolor\":\"#2a3f5f\",\"gridcolor\":\"white\",\"linecolor\":\"white\",\"minorgridcolor\":\"white\",\"startlinecolor\":\"#2a3f5f\"},\"type\":\"carpet\"}],\"table\":[{\"cells\":{\"fill\":{\"color\":\"#EBF0F8\"},\"line\":{\"color\":\"white\"}},\"header\":{\"fill\":{\"color\":\"#C8D4E3\"},\"line\":{\"color\":\"white\"}},\"type\":\"table\"}],\"barpolar\":[{\"marker\":{\"line\":{\"color\":\"#E5ECF6\",\"width\":0.5},\"pattern\":{\"fillmode\":\"overlay\",\"size\":10,\"solidity\":0.2}},\"type\":\"barpolar\"}],\"pie\":[{\"automargin\":true,\"type\":\"pie\"}]},\"layout\":{\"autotypenumbers\":\"strict\",\"colorway\":[\"#636efa\",\"#EF553B\",\"#00cc96\",\"#ab63fa\",\"#FFA15A\",\"#19d3f3\",\"#FF6692\",\"#B6E880\",\"#FF97FF\",\"#FECB52\"],\"font\":{\"color\":\"#2a3f5f\"},\"hovermode\":\"closest\",\"hoverlabel\":{\"align\":\"left\"},\"paper_bgcolor\":\"white\",\"plot_bgcolor\":\"#E5ECF6\",\"polar\":{\"bgcolor\":\"#E5ECF6\",\"angularaxis\":{\"gridcolor\":\"white\",\"linecolor\":\"white\",\"ticks\":\"\"},\"radialaxis\":{\"gridcolor\":\"white\",\"linecolor\":\"white\",\"ticks\":\"\"}},\"ternary\":{\"bgcolor\":\"#E5ECF6\",\"aaxis\":{\"gridcolor\":\"white\",\"linecolor\":\"white\",\"ticks\":\"\"},\"baxis\":{\"gridcolor\":\"white\",\"linecolor\":\"white\",\"ticks\":\"\"},\"caxis\":{\"gridcolor\":\"white\",\"linecolor\":\"white\",\"ticks\":\"\"}},\"coloraxis\":{\"colorbar\":{\"outlinewidth\":0,\"ticks\":\"\"}},\"colorscale\":{\"sequential\":[[0.0,\"#0d0887\"],[0.1111111111111111,\"#46039f\"],[0.2222222222222222,\"#7201a8\"],[0.3333333333333333,\"#9c179e\"],[0.4444444444444444,\"#bd3786\"],[0.5555555555555556,\"#d8576b\"],[0.6666666666666666,\"#ed7953\"],[0.7777777777777778,\"#fb9f3a\"],[0.8888888888888888,\"#fdca26\"],[1.0,\"#f0f921\"]],\"sequentialminus\":[[0.0,\"#0d0887\"],[0.1111111111111111,\"#46039f\"],[0.2222222222222222,\"#7201a8\"],[0.3333333333333333,\"#9c179e\"],[0.4444444444444444,\"#bd3786\"],[0.5555555555555556,\"#d8576b\"],[0.6666666666666666,\"#ed7953\"],[0.7777777777777778,\"#fb9f3a\"],[0.8888888888888888,\"#fdca26\"],[1.0,\"#f0f921\"]],\"diverging\":[[0,\"#8e0152\"],[0.1,\"#c51b7d\"],[0.2,\"#de77ae\"],[0.3,\"#f1b6da\"],[0.4,\"#fde0ef\"],[0.5,\"#f7f7f7\"],[0.6,\"#e6f5d0\"],[0.7,\"#b8e186\"],[0.8,\"#7fbc41\"],[0.9,\"#4d9221\"],[1,\"#276419\"]]},\"xaxis\":{\"gridcolor\":\"white\",\"linecolor\":\"white\",\"ticks\":\"\",\"title\":{\"standoff\":15},\"zerolinecolor\":\"white\",\"automargin\":true,\"zerolinewidth\":2},\"yaxis\":{\"gridcolor\":\"white\",\"linecolor\":\"white\",\"ticks\":\"\",\"title\":{\"standoff\":15},\"zerolinecolor\":\"white\",\"automargin\":true,\"zerolinewidth\":2},\"scene\":{\"xaxis\":{\"backgroundcolor\":\"#E5ECF6\",\"gridcolor\":\"white\",\"linecolor\":\"white\",\"showbackground\":true,\"ticks\":\"\",\"zerolinecolor\":\"white\",\"gridwidth\":2},\"yaxis\":{\"backgroundcolor\":\"#E5ECF6\",\"gridcolor\":\"white\",\"linecolor\":\"white\",\"showbackground\":true,\"ticks\":\"\",\"zerolinecolor\":\"white\",\"gridwidth\":2},\"zaxis\":{\"backgroundcolor\":\"#E5ECF6\",\"gridcolor\":\"white\",\"linecolor\":\"white\",\"showbackground\":true,\"ticks\":\"\",\"zerolinecolor\":\"white\",\"gridwidth\":2}},\"shapedefaults\":{\"line\":{\"color\":\"#2a3f5f\"}},\"annotationdefaults\":{\"arrowcolor\":\"#2a3f5f\",\"arrowhead\":0,\"arrowwidth\":1},\"geo\":{\"bgcolor\":\"white\",\"landcolor\":\"#E5ECF6\",\"subunitcolor\":\"white\",\"showland\":true,\"showlakes\":true,\"lakecolor\":\"white\"},\"title\":{\"x\":0.05},\"mapbox\":{\"style\":\"light\"}}},\"xaxis\":{\"anchor\":\"y\",\"domain\":[0.0,1.0],\"title\":{\"text\":\"Car_Name\"},\"categoryorder\":\"array\",\"categoryarray\":[\"ritz\",\"sx4\",\"ciaz\",\"wagon r\",\"swift\",\"vitara brezza\",\"s cross\",\"alto 800\",\"ertiga\",\"dzire\",\"alto k10\",\"ignis\",\"800\",\"baleno\",\"omni\",\"fortuner\",\"innova\",\"corolla altis\",\"etios cross\",\"etios g\",\"etios liva\",\"corolla\",\"etios gd\",\"camry\",\"land cruiser\",\"Royal Enfield Thunder 500\",\"UM Renegade Mojave\",\"KTM RC200\",\"Bajaj Dominar 400\",\"Royal Enfield Classic 350\",\"KTM RC390\",\"Hyosung GT250R\",\"Royal Enfield Thunder 350\",\"KTM 390 Duke \",\"Mahindra Mojo XT300\",\"Bajaj Pulsar RS200\",\"Royal Enfield Bullet 350\",\"Royal Enfield Classic 500\",\"Bajaj Avenger 220\",\"Bajaj Avenger 150\",\"Honda CB Hornet 160R\",\"Yamaha FZ S V 2.0\",\"Yamaha FZ 16\",\"TVS Apache RTR 160\",\"Bajaj Pulsar 150\",\"Honda CBR 150\",\"Hero Extreme\",\"Bajaj Avenger 220 dtsi\",\"Bajaj Avenger 150 street\",\"Yamaha FZ  v 2.0\",\"Bajaj Pulsar  NS 200\",\"Bajaj Pulsar 220 F\",\"TVS Apache RTR 180\",\"Hero Passion X pro\",\"Bajaj Pulsar NS 200\",\"Yamaha Fazer \",\"Honda Activa 4G\",\"TVS Sport \",\"Honda Dream Yuga \",\"Bajaj Avenger Street 220\",\"Hero Splender iSmart\",\"Activa 3g\",\"Hero Passion Pro\",\"Honda CB Trigger\",\"Yamaha FZ S \",\"Bajaj Pulsar 135 LS\",\"Activa 4g\",\"Honda CB Unicorn\",\"Hero Honda CBZ extreme\",\"Honda Karizma\",\"Honda Activa 125\",\"TVS Jupyter\",\"Hero Honda Passion Pro\",\"Hero Splender Plus\",\"Honda CB Shine\",\"Bajaj Discover 100\",\"Suzuki Access 125\",\"TVS Wego\",\"Honda CB twister\",\"Hero Glamour\",\"Hero Super Splendor\",\"Bajaj Discover 125\",\"Hero Hunk\",\"Hero  Ignitor Disc\",\"Hero  CBZ Xtreme\",\"Bajaj  ct 100\",\"i20\",\"grand i10\",\"i10\",\"eon\",\"xcent\",\"elantra\",\"creta\",\"verna\",\"city\",\"brio\",\"amaze\",\"jazz\"]},\"yaxis\":{\"anchor\":\"x\",\"domain\":[0.0,1.0],\"title\":{\"text\":\"sum of Selling_Price\"}},\"legend\":{\"title\":{\"text\":\"Car_Name\"},\"tracegroupgap\":0},\"title\":{\"text\":\"Selling price(Car_name wise) Histogram\"},\"barmode\":\"relative\"},                        {\"responsive\": true}                    ).then(function(){\n",
       "                            \n",
       "var gd = document.getElementById('d7da3902-348a-4071-9a18-6c6a4aebdeb8');\n",
       "var x = new MutationObserver(function (mutations, observer) {{\n",
       "        var display = window.getComputedStyle(gd).display;\n",
       "        if (!display || display === 'none') {{\n",
       "            console.log([gd, 'removed!']);\n",
       "            Plotly.purge(gd);\n",
       "            observer.disconnect();\n",
       "        }}\n",
       "}});\n",
       "\n",
       "// Listen for the removal of the full notebook cells\n",
       "var notebookContainer = gd.closest('#notebook-container');\n",
       "if (notebookContainer) {{\n",
       "    x.observe(notebookContainer, {childList: true});\n",
       "}}\n",
       "\n",
       "// Listen for the clearing of the current output cell\n",
       "var outputEl = gd.closest('.output');\n",
       "if (outputEl) {{\n",
       "    x.observe(outputEl, {childList: true});\n",
       "}}\n",
       "\n",
       "                        })                };                });            </script>        </div>"
      ]
     },
     "metadata": {},
     "output_type": "display_data"
    }
   ],
   "source": [
    "fig = py.histogram(df, x='Car_Name', y= 'Selling_Price' , color='Car_Name',\n",
    "                   title='Selling price(Car_name wise) Histogram')\n",
    "\n",
    "fig.show()"
   ]
  },
  {
   "cell_type": "code",
   "execution_count": null,
   "id": "c321817c",
   "metadata": {},
   "outputs": [],
   "source": []
  },
  {
   "cell_type": "code",
   "execution_count": null,
   "id": "a5d84447",
   "metadata": {},
   "outputs": [],
   "source": []
  }
 ],
 "metadata": {
  "kernelspec": {
   "display_name": "Python 3 (ipykernel)",
   "language": "python",
   "name": "python3"
  },
  "language_info": {
   "codemirror_mode": {
    "name": "ipython",
    "version": 3
   },
   "file_extension": ".py",
   "mimetype": "text/x-python",
   "name": "python",
   "nbconvert_exporter": "python",
   "pygments_lexer": "ipython3",
   "version": "3.10.9"
  }
 },
 "nbformat": 4,
 "nbformat_minor": 5
}
